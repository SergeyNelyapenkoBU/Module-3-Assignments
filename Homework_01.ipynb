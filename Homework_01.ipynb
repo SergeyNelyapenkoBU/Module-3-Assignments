{
 "cells": [
  {
   "cell_type": "markdown",
   "metadata": {},
   "source": [
    "## Homework 01: First Steps with Linear Regression\n",
    "\n",
    "This homework will introduce you to foundational techniques in downloading and setting up datasets, running `sklearn` models, and examining their results. The primary goal is to establish the workflow for accessing and submitting assignments, writing basic code, and interpreting outputs. This assignment will also help us test the autograder and ensure that feedback mechanisms work seamlessly.\n",
    "\n",
    "### Submission Instructions via Gradescope\n",
    "\n",
    "We will use Gradescope for homework submissions this term. Please follow these instructions carefully:\n",
    "\n",
    "1. **Do not rename the file**  \n",
    "   - Renaming the notebook (**`Homework_01.ipynb`**) will cause the autograder to fail.\n",
    "\n",
    "2. **Include the `requirements.txt` file**  \n",
    "   - Download both **`Homework_01.ipynb`** and `requirements.txt` from the GitHub repository.  \n",
    "   - The `requirements.txt` file specifies the dependencies (imported libraries) required for grading.  \n",
    "   - **Do not modify this file** unless explicitly instructed by the LFs.\n",
    "\n",
    "3. **Verify before submission**  \n",
    "   - Before submitting, run `Restart Kernel and Run All` to ensure that all cells execute without errors.\n",
    "\n",
    "4. **Submitting to Gradescope**  \n",
    "   - You should have received an email inviting you to join Gradescope. If not, please contact us immediately.  \n",
    "   - Log in to [Gradescope](https://gradescope.com), navigate to your dashboard, and locate **Homework 01**.  \n",
    "   - Drag and drop the following files into the upload section:\n",
    "     - **`Homework_01.ipynb`**\n",
    "     - `requirements.txt`\n",
    "   - Or, you may zip up a folder containing these two files and submit that.\n",
    "   - Click `Upload` to submit your files.\n",
    "\n",
    "\n",
    "5. **Review your submission**  \n",
    "   - You will receive the autograder results and a confirmation email after submission.  \n",
    "   - For the first two homeworks, **multiple resubmissions** will be allowed. Use this opportunity to get your debugging and submission workflow established.   \n",
    "   - Starting from Homework 03, **only one submission will be permitted.** You will need to ensure that your work is complete and carefully verified before uploading."
   ]
  },
  {
   "cell_type": "code",
   "execution_count": 1,
   "metadata": {
    "deletable": false,
    "editable": false
   },
   "outputs": [],
   "source": [
    "# Initialize Otter\n",
    "import otter\n",
    "grader = otter.Notebook(\"Homework_01.ipynb\")"
   ]
  },
  {
   "cell_type": "code",
   "execution_count": 2,
   "metadata": {
    "code_folding": []
   },
   "outputs": [],
   "source": [
    "# Useful imports and utilities\n",
    "\n",
    "import numpy as np\n",
    "import pandas as pd\n",
    "import time\n",
    "import matplotlib.pyplot as plt\n",
    "import os\n",
    "\n",
    "from sklearn.datasets import fetch_california_housing\n",
    "from sklearn.ensemble import BaggingRegressor, RandomForestRegressor, GradientBoostingRegressor\n",
    "from sklearn.metrics import mean_squared_error, mean_absolute_error, r2_score\n",
    "from sklearn.model_selection import train_test_split,cross_val_score\n",
    "from sklearn.tree import DecisionTreeRegressor\n",
    "from sklearn.linear_model import LinearRegression\n",
    "from tqdm import tqdm\n"
   ]
  },
  {
   "cell_type": "markdown",
   "metadata": {},
   "source": [
    "## Problem:  Linear Regression on the Kaggle Salary Dataset\n",
    "\n",
    "This is a great dataset to start with: it is a univariate regression dataset predicting salary from years of experience. It is probably the smallest dataset on Kaggle!\n",
    "\n",
    "### (A) Install `kagglehub` if you don't already have it\n",
    "\n",
    "The first thing to do is to install `kagglehub` if you don't have it already. If you *do*, make sure you have the most recent version."
   ]
  },
  {
   "cell_type": "code",
   "execution_count": 3,
   "metadata": {},
   "outputs": [],
   "source": [
    "# Since you only need to do this once, uncomment the following line, run the cell, and then recomment or delete this cell.\n",
    "# Or do this the usual way you do installs (e.g., in Terminal on a Mac). \n",
    "\n",
    "# !pip install kagglehub\n"
   ]
  },
  {
   "cell_type": "code",
   "execution_count": 4,
   "metadata": {},
   "outputs": [
    {
     "name": "stdout",
     "output_type": "stream",
     "text": [
      "Kagglehub version: 0.3.6\n"
     ]
    }
   ],
   "source": [
    "import kagglehub\n",
    "print(\"Kagglehub version:\", kagglehub.__version__)\n",
    "  "
   ]
  },
  {
   "cell_type": "code",
   "execution_count": 5,
   "metadata": {},
   "outputs": [],
   "source": [
    "# If you need to upgrade, uncomment and run this cell, then delete or recomment.\n",
    "# But do not worry excessively about upgrading to the most recent version at this point, \n",
    "# even if you get \"Warning: Looks like you're using an outdated....\" when you download the dataset.\n",
    "\n",
    "# !pip install --upgrade kagglehub\n"
   ]
  },
  {
   "cell_type": "markdown",
   "metadata": {},
   "source": [
    "### (B) Download the dataset and prepare it for modeling.\n",
    "\n",
    "Continue running cells as shown, following the instructions in text cells and comments in code cells (usually \"Your code here\"), and then answer the questions below.\n",
    "\n",
    "#### B.1 Download"
   ]
  },
  {
   "cell_type": "code",
   "execution_count": 6,
   "metadata": {},
   "outputs": [
    {
     "name": "stdout",
     "output_type": "stream",
     "text": [
      "Path to dataset files: /home/codespace/.cache/kagglehub/datasets/abhishek14398/salary-dataset-simple-linear-regression/versions/1\n"
     ]
    }
   ],
   "source": [
    "# Download latest version, which will be installed on your local machine\n",
    "# After running this cell once, you could comment this out.  \n",
    "\n",
    "salary_dataset_path = kagglehub.dataset_download(\"abhishek14398/salary-dataset-simple-linear-regression\")\n",
    "\n",
    "print(\"Path to dataset files:\", salary_dataset_path)"
   ]
  },
  {
   "cell_type": "code",
   "execution_count": 7,
   "metadata": {},
   "outputs": [],
   "source": [
    "# Assuming the dataset is named \"Salary_dataset.csv\" inside the path\n",
    "salary_dataset_path_to_file = os.path.join(salary_dataset_path, \"Salary_dataset.csv\")\n",
    "salary_data_raw = pd.read_csv(salary_dataset_path_to_file)"
   ]
  },
  {
   "cell_type": "markdown",
   "metadata": {},
   "source": [
    "#### B.2  Print out the head and info about the dataset"
   ]
  },
  {
   "cell_type": "code",
   "execution_count": 8,
   "metadata": {
    "tags": []
   },
   "outputs": [
    {
     "name": "stdout",
     "output_type": "stream",
     "text": [
      "salary_data_raw.head():\n"
     ]
    },
    {
     "data": {
      "text/html": [
       "<div>\n",
       "<style scoped>\n",
       "    .dataframe tbody tr th:only-of-type {\n",
       "        vertical-align: middle;\n",
       "    }\n",
       "\n",
       "    .dataframe tbody tr th {\n",
       "        vertical-align: top;\n",
       "    }\n",
       "\n",
       "    .dataframe thead th {\n",
       "        text-align: right;\n",
       "    }\n",
       "</style>\n",
       "<table border=\"1\" class=\"dataframe\">\n",
       "  <thead>\n",
       "    <tr style=\"text-align: right;\">\n",
       "      <th></th>\n",
       "      <th>Unnamed: 0</th>\n",
       "      <th>YearsExperience</th>\n",
       "      <th>Salary</th>\n",
       "    </tr>\n",
       "  </thead>\n",
       "  <tbody>\n",
       "    <tr>\n",
       "      <th>0</th>\n",
       "      <td>0</td>\n",
       "      <td>1.2</td>\n",
       "      <td>39344.0</td>\n",
       "    </tr>\n",
       "    <tr>\n",
       "      <th>1</th>\n",
       "      <td>1</td>\n",
       "      <td>1.4</td>\n",
       "      <td>46206.0</td>\n",
       "    </tr>\n",
       "    <tr>\n",
       "      <th>2</th>\n",
       "      <td>2</td>\n",
       "      <td>1.6</td>\n",
       "      <td>37732.0</td>\n",
       "    </tr>\n",
       "    <tr>\n",
       "      <th>3</th>\n",
       "      <td>3</td>\n",
       "      <td>2.1</td>\n",
       "      <td>43526.0</td>\n",
       "    </tr>\n",
       "    <tr>\n",
       "      <th>4</th>\n",
       "      <td>4</td>\n",
       "      <td>2.3</td>\n",
       "      <td>39892.0</td>\n",
       "    </tr>\n",
       "  </tbody>\n",
       "</table>\n",
       "</div>"
      ],
      "text/plain": [
       "   Unnamed: 0  YearsExperience   Salary\n",
       "0           0              1.2  39344.0\n",
       "1           1              1.4  46206.0\n",
       "2           2              1.6  37732.0\n",
       "3           3              2.1  43526.0\n",
       "4           4              2.3  39892.0"
      ]
     },
     "execution_count": 8,
     "metadata": {},
     "output_type": "execute_result"
    }
   ],
   "source": [
    "# Your code here\n",
    "print(\"salary_data_raw.head():\")\n",
    "salary_data_raw.head()\n"
   ]
  },
  {
   "cell_type": "code",
   "execution_count": 9,
   "metadata": {},
   "outputs": [
    {
     "name": "stdout",
     "output_type": "stream",
     "text": [
      "salary_data_raw info():\n",
      "<class 'pandas.core.frame.DataFrame'>\n",
      "RangeIndex: 30 entries, 0 to 29\n",
      "Data columns (total 3 columns):\n",
      " #   Column           Non-Null Count  Dtype  \n",
      "---  ------           --------------  -----  \n",
      " 0   Unnamed: 0       30 non-null     int64  \n",
      " 1   YearsExperience  30 non-null     float64\n",
      " 2   Salary           30 non-null     float64\n",
      "dtypes: float64(2), int64(1)\n",
      "memory usage: 852.0 bytes\n",
      "None\n"
     ]
    }
   ],
   "source": [
    "print(f\"salary_data_raw info():\")\n",
    "print(salary_data_raw.info())"
   ]
  },
  {
   "cell_type": "code",
   "execution_count": 10,
   "metadata": {},
   "outputs": [
    {
     "name": "stdout",
     "output_type": "stream",
     "text": [
      "salary_data_raw describe():\n"
     ]
    },
    {
     "data": {
      "text/html": [
       "<div>\n",
       "<style scoped>\n",
       "    .dataframe tbody tr th:only-of-type {\n",
       "        vertical-align: middle;\n",
       "    }\n",
       "\n",
       "    .dataframe tbody tr th {\n",
       "        vertical-align: top;\n",
       "    }\n",
       "\n",
       "    .dataframe thead th {\n",
       "        text-align: right;\n",
       "    }\n",
       "</style>\n",
       "<table border=\"1\" class=\"dataframe\">\n",
       "  <thead>\n",
       "    <tr style=\"text-align: right;\">\n",
       "      <th></th>\n",
       "      <th>Unnamed: 0</th>\n",
       "      <th>YearsExperience</th>\n",
       "      <th>Salary</th>\n",
       "    </tr>\n",
       "  </thead>\n",
       "  <tbody>\n",
       "    <tr>\n",
       "      <th>count</th>\n",
       "      <td>30.000000</td>\n",
       "      <td>30.000000</td>\n",
       "      <td>30.000000</td>\n",
       "    </tr>\n",
       "    <tr>\n",
       "      <th>mean</th>\n",
       "      <td>14.500000</td>\n",
       "      <td>5.413333</td>\n",
       "      <td>76004.000000</td>\n",
       "    </tr>\n",
       "    <tr>\n",
       "      <th>std</th>\n",
       "      <td>8.803408</td>\n",
       "      <td>2.837888</td>\n",
       "      <td>27414.429785</td>\n",
       "    </tr>\n",
       "    <tr>\n",
       "      <th>min</th>\n",
       "      <td>0.000000</td>\n",
       "      <td>1.200000</td>\n",
       "      <td>37732.000000</td>\n",
       "    </tr>\n",
       "    <tr>\n",
       "      <th>25%</th>\n",
       "      <td>7.250000</td>\n",
       "      <td>3.300000</td>\n",
       "      <td>56721.750000</td>\n",
       "    </tr>\n",
       "    <tr>\n",
       "      <th>50%</th>\n",
       "      <td>14.500000</td>\n",
       "      <td>4.800000</td>\n",
       "      <td>65238.000000</td>\n",
       "    </tr>\n",
       "    <tr>\n",
       "      <th>75%</th>\n",
       "      <td>21.750000</td>\n",
       "      <td>7.800000</td>\n",
       "      <td>100545.750000</td>\n",
       "    </tr>\n",
       "    <tr>\n",
       "      <th>max</th>\n",
       "      <td>29.000000</td>\n",
       "      <td>10.600000</td>\n",
       "      <td>122392.000000</td>\n",
       "    </tr>\n",
       "  </tbody>\n",
       "</table>\n",
       "</div>"
      ],
      "text/plain": [
       "       Unnamed: 0  YearsExperience         Salary\n",
       "count   30.000000        30.000000      30.000000\n",
       "mean    14.500000         5.413333   76004.000000\n",
       "std      8.803408         2.837888   27414.429785\n",
       "min      0.000000         1.200000   37732.000000\n",
       "25%      7.250000         3.300000   56721.750000\n",
       "50%     14.500000         4.800000   65238.000000\n",
       "75%     21.750000         7.800000  100545.750000\n",
       "max     29.000000        10.600000  122392.000000"
      ]
     },
     "execution_count": 10,
     "metadata": {},
     "output_type": "execute_result"
    }
   ],
   "source": [
    "print(f\"salary_data_raw describe():\")\n",
    "salary_data_raw.describe()"
   ]
  },
  {
   "cell_type": "markdown",
   "metadata": {},
   "source": [
    "#### B.3  Using Pandas `hist()`, display histograms of the columns.  Set the `bins` parameter to make the visualization as useful as possible (YMMV, so don't stress about it)."
   ]
  },
  {
   "cell_type": "code",
   "execution_count": 11,
   "metadata": {
    "tags": []
   },
   "outputs": [
    {
     "data": {
      "image/png": "[encoded data removed]",
      "text/plain": [
       "<Figure size 1500x300 with 3 Axes>"
      ]
     },
     "metadata": {},
     "output_type": "display_data"
    }
   ],
   "source": [
    "# Your code here\n",
    "\n",
    "fig, axes = plt.subplots(1, 3, figsize=(15, 3))\n",
    "\n",
    "salary_data_raw['Unnamed: 0'].plot(kind='line', ax=axes[0], title='Unnamed: 0')\n",
    "salary_data_raw['YearsExperience'].plot(kind='hist', bins=10, ax=axes[1], title='B')\n",
    "salary_data_raw['Salary'].plot(kind='hist', bins=5, ax=axes[2], title='Salary')\n",
    "\n",
    "axes[0].set_title(\"Histogram of Unnamed: 0\")\n",
    "axes[1].set_title(\"Histogram of YearsExperience\")\n",
    "axes[2].set_title(\"Histogram of Salary\")\n",
    "\n",
    "plt.tight_layout()\n",
    "plt.show()"
   ]
  },
  {
   "cell_type": "markdown",
   "metadata": {},
   "source": [
    "#### B.4  Print out some simple stats about the data"
   ]
  },
  {
   "cell_type": "markdown",
   "metadata": {
    "deletable": false,
    "editable": false
   },
   "source": [
    "**Set the variable b4_a to the maximum salary in the dataset as an integer.**"
   ]
  },
  {
   "cell_type": "code",
   "execution_count": 12,
   "metadata": {
    "otter": {
     "tests": [
      "q3"
     ]
    },
    "tags": []
   },
   "outputs": [
    {
     "name": "stdout",
     "output_type": "stream",
     "text": [
      "122392 <class 'int'>\n"
     ]
    }
   ],
   "source": [
    "#Your code here\n",
    "b4_a = int(salary_data_raw[\"Salary\"].max())\n",
    "print(b4_a, type(b4_a))"
   ]
  },
  {
   "cell_type": "markdown",
   "metadata": {
    "deletable": false,
    "editable": false
   },
   "source": [
    "**Set the variable b4_b to the average years of experience in the dataset as a floating point number to 2 decimal places.** "
   ]
  },
  {
   "cell_type": "code",
   "execution_count": 24,
   "metadata": {
    "otter": {
     "tests": [
      "q4"
     ]
    },
    "tags": []
   },
   "outputs": [
    {
     "name": "stdout",
     "output_type": "stream",
     "text": [
      "5.41 <class 'numpy.float64'>\n"
     ]
    }
   ],
   "source": [
    "# Your code here\n",
    "b4_b = round(salary_data_raw[\"YearsExperience\"].mean(),2)\n",
    "print(b4_b, type(b4_b))"
   ]
  },
  {
   "cell_type": "markdown",
   "metadata": {},
   "source": [
    "### (C) Clean the data\n",
    "\n",
    "There seems to be a problem, namely an extra column that is completely unnecesssary! \n",
    "\n",
    "1. Remove that column using appropriate Pandas code and assign the result to a new variable `salary_data`;\n",
    "2. Check to see all is well, by setting the variable c1 to a **Python list** of the feature names in the new dataframe and then printing it (you might want to do this before and after, just to get the precise name of the column to remove). (Hint: if your value is in the form `Index(...)` then it is not a Python list.)"
   ]
  },
  {
   "cell_type": "code",
   "execution_count": 14,
   "metadata": {
    "otter": {
     "tests": [
      "q5"
     ]
    },
    "tags": []
   },
   "outputs": [
    {
     "name": "stdout",
     "output_type": "stream",
     "text": [
      "Before drop: c1=['Unnamed: 0', 'YearsExperience', 'Salary']\n",
      "After drop: c1=['YearsExperience', 'Salary']\n"
     ]
    }
   ],
   "source": [
    "# Your code here\n",
    "c1 = salary_data_raw.columns.to_list()\n",
    "print(f\"Before drop: c1={c1}\")\n",
    "\n",
    "salary_data = salary_data_raw.drop(columns=['Unnamed: 0'])\n",
    "c1 = salary_data.columns.to_list()\n",
    "\n",
    "print(f\"After drop: c1={c1}\")"
   ]
  },
  {
   "cell_type": "markdown",
   "metadata": {
    "deletable": false,
    "editable": false
   },
   "source": [
    "**Set the variable c2 to the shape (number of rows and columns) of the dataset (e.g., in form (rows, columns)).** "
   ]
  },
  {
   "cell_type": "code",
   "execution_count": 15,
   "metadata": {
    "otter": {
     "tests": [
      "q6"
     ]
    },
    "tags": []
   },
   "outputs": [
    {
     "name": "stdout",
     "output_type": "stream",
     "text": [
      "salary_data shape: c2=(30, 2)\n"
     ]
    }
   ],
   "source": [
    "# Your code here\n",
    "c2 = salary_data.shape\n",
    "\n",
    "print(f\"salary_data shape: c2={c2}\")"
   ]
  },
  {
   "cell_type": "markdown",
   "metadata": {},
   "source": [
    "### (D) Convert the dataframe to (X,y) form for processing. \n",
    "\n",
    "Create a numpy array `X` from the first column and array `y` from the second column. Create `X` by deleting the second column from a copy of the dataframe, **not** by just selecting the first column (which won't work when there is more than one feature). \n",
    "\n",
    "Confirm by setting the variable `d1` to the shape of `X` and `d2` to the shape of `y` and printing them."
   ]
  },
  {
   "cell_type": "code",
   "execution_count": 16,
   "metadata": {
    "otter": {
     "tests": [
      "q7"
     ]
    },
    "tags": []
   },
   "outputs": [
    {
     "name": "stdout",
     "output_type": "stream",
     "text": [
      "X shape: d1=(30, 1)\n",
      "y shape: d2=(30,)\n"
     ]
    }
   ],
   "source": [
    "# Your code here\n",
    "X = salary_data.drop(columns=['Salary']).to_numpy()\n",
    "y = salary_data['Salary'].to_numpy()\n",
    "d1 = X.shape\n",
    "d2 = y.shape\n",
    "\n",
    "print(f\"X shape: d1={d1}\")\n",
    "print(f\"y shape: d2={d2}\")"
   ]
  },
  {
   "cell_type": "markdown",
   "metadata": {},
   "source": [
    "### (E) Display the data as a scatterplot\n",
    "\n",
    "Display a scatterplot of the data using appropriate title and axis labels.  YMMV, but make it attractive!"
   ]
  },
  {
   "cell_type": "code",
   "execution_count": 17,
   "metadata": {
    "tags": []
   },
   "outputs": [
    {
     "data": {
      "image/png": "[encoded data removed]",
      "text/plain": [
       "<Figure size 800x400 with 1 Axes>"
      ]
     },
     "metadata": {},
     "output_type": "display_data"
    }
   ],
   "source": [
    "# Your code here\n",
    "\n",
    "# Size\n",
    "plt.figure(figsize=(8, 4))\n",
    "\n",
    "# Coloring and transparency\n",
    "plt.scatter(X, y, color='blue', edgecolor='k', s=100, alpha=0.6)\n",
    "\n",
    "# Labels and texts\n",
    "plt.title(\"Scatterplot of YearsExperience vs Salary\", fontsize=16)\n",
    "plt.xlabel(\"YearsExperience\", fontsize=14)\n",
    "plt.ylabel(\"Salary\", fontsize=14)\n",
    "\n",
    "# Grid\n",
    "plt.grid(color='gray', linestyle='--', linewidth=0.5, alpha=0.7)\n",
    "\n",
    "plt.tight_layout()\n",
    "\n",
    "plt.show()"
   ]
  },
  {
   "cell_type": "markdown",
   "metadata": {},
   "source": [
    " ### (F) Linear Regression in Sklearn\n",
    " \n",
    "Now we will run linear regression on the dataset, plot the regression line, and print out the intercept and slope of the\n",
    "least-squares line with some evaluation metrics."
   ]
  },
  {
   "cell_type": "markdown",
   "metadata": {},
   "source": [
    "Train your model on the whole dataset, and set `f1` to the intercept (a float) rounded to 4 decimal places (note: `sklearn` stores the intercept/bias separately from the coefficients)"
   ]
  },
  {
   "cell_type": "code",
   "execution_count": 18,
   "metadata": {
    "otter": {
     "tests": [
      "q9"
     ]
    },
    "tags": []
   },
   "outputs": [
    {
     "name": "stdout",
     "output_type": "stream",
     "text": [
      "Intercept: f1=24848.204\n"
     ]
    }
   ],
   "source": [
    "# Your code here\n",
    "\n",
    "model = LinearRegression()\n",
    "model.fit(X, y)\n",
    "\n",
    "f1 = round(model.intercept_, 4) \n",
    "\n",
    "print(f\"Intercept: f1={f1}\")"
   ]
  },
  {
   "cell_type": "markdown",
   "metadata": {},
   "source": [
    "Set `f2` to the slope (a float), rounded to 4 decimal places."
   ]
  },
  {
   "cell_type": "code",
   "execution_count": 19,
   "metadata": {
    "otter": {
     "tests": [
      "q10"
     ]
    },
    "tags": []
   },
   "outputs": [
    {
     "name": "stdout",
     "output_type": "stream",
     "text": [
      "Slope: f1=9449.9623\n"
     ]
    }
   ],
   "source": [
    "# Your code here\n",
    "f2 = round(model.coef_[0], 4) \n",
    "print(f\"Slope: f1={f2}\")"
   ]
  },
  {
   "cell_type": "markdown",
   "metadata": {},
   "source": [
    "Set `f3` to the mean square error (a float) of the model on the whole dataset, rounded to 4 decimal places.\n",
    "Hint: predict the results on the whole dataset to get `y_pred`, then calculate MSE from `y` and `y_pred`."
   ]
  },
  {
   "cell_type": "code",
   "execution_count": 20,
   "metadata": {
    "otter": {
     "tests": [
      "q11"
     ]
    },
    "tags": []
   },
   "outputs": [
    {
     "name": "stdout",
     "output_type": "stream",
     "text": [
      "Mean Squared Error: f3=31270951.7223\n"
     ]
    }
   ],
   "source": [
    "# Your code here\n",
    "y_pred = model.predict(X)\n",
    "f3 = round(mean_squared_error(y, y_pred),4)\n",
    "print(f\"Mean Squared Error: f3={f3}\")\n"
   ]
  },
  {
   "cell_type": "markdown",
   "metadata": {},
   "source": [
    "Set `f4` to the mean absolute error (a float) of the model on the whole dataset, rounded to 4 decimal places."
   ]
  },
  {
   "cell_type": "code",
   "execution_count": 21,
   "metadata": {
    "otter": {
     "tests": [
      "q12"
     ]
    },
    "tags": []
   },
   "outputs": [
    {
     "name": "stdout",
     "output_type": "stream",
     "text": [
      "Mean Absolute Error: f4=4644.2013\n"
     ]
    }
   ],
   "source": [
    "# Your code here\n",
    "f4 = round(mean_absolute_error(y, y_pred),4)\n",
    "\n",
    "print(f\"Mean Absolute Error: f4={f4}\")"
   ]
  },
  {
   "cell_type": "markdown",
   "metadata": {},
   "source": [
    "Set `f5` to the R2 score (a float) for the model on the whole dataset, rounded to 4 decimal places. "
   ]
  },
  {
   "cell_type": "code",
   "execution_count": 22,
   "metadata": {
    "otter": {
     "tests": [
      "q13"
     ]
    },
    "tags": []
   },
   "outputs": [
    {
     "name": "stdout",
     "output_type": "stream",
     "text": [
      "R2 Score: f5=0.957\n"
     ]
    }
   ],
   "source": [
    "# Your code here\n",
    "f5 = round(r2_score(y, y_pred),4)\n",
    "\n",
    "print(f\"R2 Score: f5={f5}\")"
   ]
  },
  {
   "cell_type": "markdown",
   "metadata": {},
   "source": [
    " "
   ]
  }
 ],
 "metadata": {
  "kernelspec": {
   "display_name": "Python 3",
   "language": "python",
   "name": "python3"
  },
  "language_info": {
   "codemirror_mode": {
    "name": "ipython",
    "version": 3
   },
   "file_extension": ".py",
   "mimetype": "text/x-python",
   "name": "python",
   "nbconvert_exporter": "python",
   "pygments_lexer": "ipython3",
   "version": "3.12.1"
  },
  "otter": {
   "OK_FORMAT": true,
   "tests": {
    "q10": {
     "name": "q10",
     "points": null,
     "suites": [
      {
       "cases": [],
       "scored": true,
       "setup": "",
       "teardown": "",
       "type": "doctest"
      }
     ]
    },
    "q11": {
     "name": "q11",
     "points": null,
     "suites": [
      {
       "cases": [],
       "scored": true,
       "setup": "",
       "teardown": "",
       "type": "doctest"
      }
     ]
    },
    "q12": {
     "name": "q12",
     "points": null,
     "suites": [
      {
       "cases": [],
       "scored": true,
       "setup": "",
       "teardown": "",
       "type": "doctest"
      }
     ]
    },
    "q13": {
     "name": "q13",
     "points": null,
     "suites": [
      {
       "cases": [],
       "scored": true,
       "setup": "",
       "teardown": "",
       "type": "doctest"
      }
     ]
    },
    "q3": {
     "name": "q3",
     "points": null,
     "suites": [
      {
       "cases": [],
       "scored": true,
       "setup": "",
       "teardown": "",
       "type": "doctest"
      }
     ]
    },
    "q4": {
     "name": "q4",
     "points": null,
     "suites": [
      {
       "cases": [],
       "scored": true,
       "setup": "",
       "teardown": "",
       "type": "doctest"
      }
     ]
    },
    "q5": {
     "name": "q5",
     "points": null,
     "suites": [
      {
       "cases": [],
       "scored": true,
       "setup": "",
       "teardown": "",
       "type": "doctest"
      }
     ]
    },
    "q6": {
     "name": "q6",
     "points": null,
     "suites": [
      {
       "cases": [],
       "scored": true,
       "setup": "",
       "teardown": "",
       "type": "doctest"
      }
     ]
    },
    "q7": {
     "name": "q7",
     "points": null,
     "suites": [
      {
       "cases": [],
       "scored": true,
       "setup": "",
       "teardown": "",
       "type": "doctest"
      }
     ]
    },
    "q9": {
     "name": "q9",
     "points": null,
     "suites": [
      {
       "cases": [],
       "scored": true,
       "setup": "",
       "teardown": "",
       "type": "doctest"
      }
     ]
    }
   }
  }
 },
 "nbformat": 4,
 "nbformat_minor": 4
}
