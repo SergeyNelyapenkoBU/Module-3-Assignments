{
 "cells": [
  {
   "cell_type": "markdown",
   "metadata": {},
   "source": [
    "# Homework 07: Ensemble Methods – Bagging, Random Forests, and Gradient Boosting\n",
    "\n",
    "## Due: Midnight on March 16 (with 2-hour grace period) and worth 75 points\n",
    "\n",
    "Over the past two weeks, we have expanded our machine learning toolkit by moving beyond linear regression to explore decision trees, which introduced a variety of interacting parameters. Through Homework 6, you developed a systematic workflow for parameter tuning that balances manual exploration and automated searches (e.g., random or grid search) to optimize performance while gaining insights into model behavior.\n",
    "\n",
    "This week, we take another step forward by studying ensemble methods which combine multiple decision trees to produce even stronger predictive models. Specifically, we will investigate:\n",
    "\n",
    "- Bagging  \n",
    "- Random Forests  \n",
    "- Gradient Boosting  \n",
    "\n",
    "These three approaches build on the decision tree we studied last week. Our  workflow from Homework 6 will again serve as the foundation for optimizing these more complex models.\n",
    "\n",
    "### What We Will Do in This Homework\n",
    "\n",
    "To analyze and optimize our ensemble models, we will apply the two-phase strategy introduced in Homework 6 (but with grid search rather than random grid search):\n",
    "\n",
    "1. **First Phase:**  \n",
    "   - Iteratively sweep through key parameters in coarse ranges  \n",
    "   - Visualize training, validation, and test MSE  \n",
    "   - Diagnose overfitting or underfitting  \n",
    "   - Examine the standard deviation of CV scores to understand model stability (review Problems 1 & 2 in Homework 6)\n",
    "\n",
    "2. **Second Phase:**  \n",
    "   - Focus on the most unstable or promising parameter ranges found in Phase 1  \n",
    "   - Perform an exhaustive search within these narrower ranges using `GridSearchCV` (review Problem 4 in Homework 6)\n",
    "\n",
    "Refer to **Appendix 4** for more details.\n",
    "\n",
    "We will follow this process for each of the three ensemble methods, systematically tuning their four most important parameters:\n",
    "\n",
    "1. **Bagging Regressor:** `n_estimators`, `max_samples`, `max_features`, `bootstrap`  \n",
    "2. **Random Forest Regressor:** `n_estimators`, `max_depth`, `max_features`, `bootstrap`  \n",
    "3. **Gradient Boosting Regressor:** `learning_rate`, `n_estimators`, `max_depth`, `max_features`\n",
    "\n",
    "Throughout this homework, we will continue using `RepeatedKFold` cross-validation to reduce variance in our CV MSE estimates. The default number of repetitions is 10, but you may find it necessary to reduce this when initially searching broad parameter spaces—then increase it for fine-tuning as you zero-in on the best models. \n",
    "\n",
    "As before, you will store your best parameter values (and the resulting CV MSE) in a dictionary in order to track improvements across experiments and maintain a clear record of how each parameter choice was made.\n",
    "\n",
    "Before starting:\n",
    "- Review lesson materials on ensemble methods and watch the three videos on Bagging, Random Forests, and Gradient Boosting.  \n",
    "- Study the relevant appendices.  \n",
    "- Pay special attention to the Gradient Boosting video and notebook, as the code in this homework builds on (and has been adapted from) those resources.\n",
    "\n",
    "### Grading\n",
    "\n",
    "This homework consists of 15 graded problems, each worth 5 points, for a total of 75 points."
   ]
  },
  {
   "cell_type": "code",
   "execution_count": 9,
   "metadata": {},
   "outputs": [],
   "source": [
    "# Useful imports\n",
    "\n",
    "import os\n",
    "import kagglehub\n",
    "import pandas as pd\n",
    "import numpy as np\n",
    "import matplotlib.pyplot as plt\n",
    "import requests\n",
    "import io\n",
    "import zipfile\n",
    "import time\n",
    "import datetime\n",
    "import seaborn as sns\n",
    "import random\n",
    "\n",
    "from sklearn.model_selection import train_test_split, cross_val_score, RepeatedKFold,GridSearchCV\n",
    "from sklearn.ensemble import BaggingRegressor, RandomForestRegressor, GradientBoostingRegressor\n",
    "from sklearn.metrics         import mean_squared_error\n",
    "from tqdm                    import tqdm\n",
    "\n",
    "import matplotlib.ticker as mticker           # Optional: you can print out y axis labels as dollars. \n",
    "\n",
    "# globals\n",
    "\n",
    "random_state = 42\n",
    "\n",
    "# utility code\n",
    "\n",
    "# Completely optional:  Format y-axis labels as dollars with commas\n",
    "def dollar_format(x, pos):\n",
    "    return f'${x:,.0f}'\n",
    "\n",
    "def format_hms(seconds):\n",
    "    return time.strftime(\"%H:%M:%S\", time.gmtime(seconds))"
   ]
  },
  {
   "cell_type": "markdown",
   "metadata": {},
   "source": [
    "### Load the Ames Housing Dataset  \n",
    "\n",
    "The code cell below will load the dataset for you.  This is the same dataset we used for the last two homeworks. \n",
    "\n",
    "> **Notice** that this code includes a useful optimization: **before downloading, it first\n",
    "checks whether the files already exist.** This is a essential step when working with large datasets or when building deep learning models, where training can span hours or even days. By reusing previously downloaded files or saved models, you can avoid unnecessary work and significantly speed up your workflow.\n",
    "\n",
    "For a detailed description of the dataset features, please refer to the **Appendix** in Homework 05. "
   ]
  },
  {
   "cell_type": "code",
   "execution_count": 10,
   "metadata": {
    "jupyter": {
     "source_hidden": true
    }
   },
   "outputs": [
    {
     "name": "stdout",
     "output_type": "stream",
     "text": [
      "Dataset files already exist. Skipping download.\n",
      "Training and testing datasets loaded successfully.\n"
     ]
    }
   ],
   "source": [
    "data_dir = \"Ames_Dataset\"                              # Directory where files will be stored\n",
    "\n",
    "# Check if one of the files exists; if not, download and extract the zip file\n",
    "\n",
    "if not os.path.exists( os.path.join(data_dir, \"X_train.csv\") ):\n",
    "    print(\"Dataset files not found. Downloading...\")\n",
    "    zip_url = \"https://www.cs.bu.edu/fac/snyder/cs505/Data/ames_housing.zip\"\n",
    "    try:\n",
    "        response = requests.get(zip_url)\n",
    "        response.raise_for_status()  # Raise an error for bad status codes\n",
    "        # Extract the zip file into the designated directory\n",
    "        with zipfile.ZipFile(io.BytesIO(response.content)) as zipf:\n",
    "            zipf.extractall(data_dir)\n",
    "        print(\"Files downloaded and extracted successfully.\")\n",
    "    except requests.exceptions.RequestException as e:\n",
    "        print(f\"Error downloading the file: {e}\")\n",
    "else:\n",
    "    print(\"Dataset files already exist. Skipping download.\")\n",
    "\n",
    "# Load the datasets\n",
    "X_train = pd.read_csv(os.path.join(data_dir, \"X_train.csv\"))\n",
    "X_test  = pd.read_csv(os.path.join(data_dir, \"X_test.csv\"))\n",
    "y_train = pd.read_csv(os.path.join(data_dir, \"y_train.csv\")).squeeze(\"columns\")    \n",
    "y_test  = pd.read_csv(os.path.join(data_dir, \"y_test.csv\")).squeeze(\"columns\")\n",
    "\n",
    "print(\"Training and testing datasets loaded successfully.\")\n"
   ]
  },
  {
   "cell_type": "markdown",
   "metadata": {},
   "source": [
    "## Prelude: Wrapper Functions for Running Ensemble Models\n",
    "\n",
    "The following cells are adapted from the Week 7 video notebook on `GradientBoostingRegressor`, but have been refactored so that they can handle any of the three ensemble models (Bagging, Random Forest, or Gradient Boosting). Key changes include:\n",
    "\n",
    "- **`run_model`** replaces the original `run_gradient_boosting_regressor` and accepts a parameter dictionary that can be applied to any of the three ensemble models.  \n",
    "- **`sweep_parameter`** is updated to work seamlessly with `run_model`, letting you:\n",
    "  - Specify which ensemble model you want to use.  \n",
    "  - Pass a dictionary of model parameters.  \n",
    "  - Return a modified parameter dictionary reflecting the best value of the parameter you swept, along with the corresponding MSE  (note that RMSE is **only** used for printing out results)\n",
    "\n",
    "> **Note:** Please do not change these cells unless you consult with the LFs first. Any alterations may cause downstream issues with the assignment."
   ]
  },
  {
   "cell_type": "code",
   "execution_count": 11,
   "metadata": {},
   "outputs": [],
   "source": [
    "n_repeats = 2\n",
    "emulate = False\n",
    "\n",
    "rkf = RepeatedKFold(n_splits=5, n_repeats=n_repeats, random_state=42)\n",
    "splits = list(rkf.split(X_train, y_train))  # This stores the indices"
   ]
  },
  {
   "cell_type": "code",
   "execution_count": 12,
   "metadata": {
    "jupyter": {
     "source_hidden": true
    }
   },
   "outputs": [],
   "source": [
    "def run_model(model, X_train, y_train, X_test, y_test, n_repeats=n_repeats, n_jobs=-1, **model_params):\n",
    "\n",
    "    # Remove non-model keys\n",
    "    for key in ['MSE_found', 'RMSE_found']:\n",
    "        model_params.pop(key, None)\n",
    "    \n",
    "    if isinstance(model, type):\n",
    "        model = model(**model_params)\n",
    "    else:\n",
    "        model.set_params(**model_params)\n",
    "\n",
    "    neg_mse_scores = cross_val_score(model, X_train, y_train,scoring = 'neg_mean_squared_error',\n",
    "                                     #cv = RepeatedKFold(n_splits=5, n_repeats=n_repeats, random_state=42), \n",
    "                                     #cv = 5,\n",
    "                                     cv = splits,\n",
    "                                     n_jobs  = n_jobs)\n",
    "    \n",
    "    mean_cv_mse = -np.mean(neg_mse_scores)\n",
    "    std_cv_mse  = np.std(neg_mse_scores)\n",
    "    \n",
    "    # Fit the model on the full training set\n",
    "    model.fit(X_train, y_train)\n",
    "    \n",
    "    # Compute training MSE and testing MSE\n",
    "    train_preds = model.predict(X_train)\n",
    "    train_mse   = mean_squared_error(y_train, train_preds)\n",
    "    test_preds  = model.predict(X_test)\n",
    "    test_mse    = mean_squared_error(y_test, test_preds)\n",
    "    \n",
    "    return mean_cv_mse, std_cv_mse, train_mse, test_mse\n"
   ]
  },
  {
   "cell_type": "code",
   "execution_count": 5,
   "metadata": {},
   "outputs": [],
   "source": [
    "def sweep_parameter(model,\n",
    "                    Parameters,\n",
    "                    param,\n",
    "                    parameter_list,\n",
    "                    X_train          = X_train,\n",
    "                    y_train          = y_train,\n",
    "                    X_test           = X_test,\n",
    "                    y_test           = y_test,\n",
    "                    verbose          = True,\n",
    "                    show_rmse        = True,\n",
    "                    n_iter_no_change = None,\n",
    "                    delta            = 0.001,\n",
    "                    n_jobs           = -1,\n",
    "                    n_repeats        = n_repeats):\n",
    "    \n",
    "    \n",
    "    Parameters = Parameters.copy()  # Avoid modifying the original dictionary\n",
    "    \n",
    "    print(f\"Emulation mode: {emulate}\")   \n",
    "    if emulate is True:\n",
    "        Parameters['MSE_found'] = 30000**2 + 1000 * random.random()\n",
    "        print(f\"Emulation mode parameters: {Parameters}\")   \n",
    "        return Parameters\n",
    "       \n",
    "         \n",
    "    start = time.time()\n",
    "    \n",
    "  \n",
    "    \n",
    "\n",
    "\n",
    "\n",
    "    cv_mses, std_cvs, train_mses, test_mses = [], [], [], []\n",
    "    no_improve_count = 0\n",
    "    best_mse = float('inf')\n",
    "    \n",
    "    # Run over each value in parameter_list\n",
    "    for p in tqdm(parameter_list, desc=f\"Sweeping {param}\"):\n",
    "        Parameters[param] = p\n",
    "        P_temp = Parameters.copy()\n",
    "        # Remove MSE_found if present, just in case\n",
    "        P_temp.pop('MSE_found', None)\n",
    "        P_temp.pop('RMSE_found', None)\n",
    "        \n",
    "        cv_mse, std_cv, train_mse, test_mse = run_model(\n",
    "            model=model,\n",
    "            X_train=X_train, y_train=y_train,\n",
    "            X_test=X_test,   y_test=y_test,\n",
    "            n_repeats=n_repeats,\n",
    "            n_jobs=n_jobs,\n",
    "            **P_temp\n",
    "        )\n",
    "        cv_mses.append(cv_mse)\n",
    "        std_cvs.append(std_cv)\n",
    "        train_mses.append(train_mse)\n",
    "        test_mses.append(test_mse)\n",
    "        \n",
    "        # Early-stopping logic\n",
    "        if cv_mse < best_mse - delta:\n",
    "            best_mse = cv_mse\n",
    "            no_improve_count = 0\n",
    "        else:\n",
    "            no_improve_count += 1\n",
    "        \n",
    "        if n_iter_no_change is not None and no_improve_count >= n_iter_no_change:\n",
    "            print(f\"Early stopping: No improvement after {n_iter_no_change} iterations.\")\n",
    "            break\n",
    "    \n",
    "    # Identify best parameter\n",
    "    min_cv_mse = min(cv_mses)\n",
    "    min_index = cv_mses.index(min_cv_mse)\n",
    "    best_param = parameter_list[min_index]\n",
    "    Parameters[param] = best_param\n",
    "    Parameters['MSE_found'] = min_cv_mse\n",
    "    \n",
    "    if verbose:\n",
    "        # Prepare for plotting\n",
    "        fig, (ax1, ax2) = plt.subplots(2, 1, figsize=(8, 8), sharex=True)\n",
    "        \n",
    "        # We only need as many parameter values as we actually computed\n",
    "        partial_param_list = parameter_list[:len(cv_mses)]\n",
    "        \n",
    "        # Check if our parameter list is Boolean so we can label accordingly\n",
    "        is_boolean = all(isinstance(val, bool) for val in partial_param_list)\n",
    "        if is_boolean:\n",
    "            # Convert booleans to integer indices for plotting\n",
    "            x_vals = list(range(len(partial_param_list)))\n",
    "            x_labels = [str(val) for val in partial_param_list]\n",
    "        else:\n",
    "            # Treat numeric or other types as-is\n",
    "            x_vals = partial_param_list\n",
    "            x_labels = partial_param_list\n",
    "        \n",
    "        error_name = 'RMSE' if show_rmse else 'MSE'\n",
    "        \n",
    "        # ----- First plot: (R)MSE -----\n",
    "        ax1.set_title(f\"{error_name} vs {param}\")\n",
    "        \n",
    "        # Apply dollar formatting ONLY if we're showing RMSE\n",
    "        if show_rmse:\n",
    "            ax1.yaxis.set_major_formatter(mticker.FuncFormatter(dollar_format))\n",
    "        \n",
    "        # Plot lines\n",
    "        ax1.plot(x_vals,\n",
    "                 np.sqrt(cv_mses) if show_rmse else cv_mses,\n",
    "                 marker='.', label=f\"CV {error_name}\", color='blue')\n",
    "        ax1.plot(x_vals,\n",
    "                 np.sqrt(train_mses) if show_rmse else train_mses,\n",
    "                 marker='.', label=f\"Train {error_name}\", color='green')\n",
    "        ax1.plot(x_vals,\n",
    "                 np.sqrt(test_mses) if show_rmse else test_mses,\n",
    "                 linestyle='--', label=f\"Test {error_name}\", color='orange')\n",
    "        ax1.scatter([x_vals[min_index]],\n",
    "                    [np.sqrt(min_cv_mse) if show_rmse else min_cv_mse], s = 100 ,\n",
    "                    marker='x', label=f\"Best CV {error_name}\", color='red')\n",
    "        \n",
    "        ax1.set_ylabel(error_name)\n",
    "        ax1.legend()\n",
    "        ax1.grid()\n",
    "        \n",
    "        # ----- Second plot: CV Std Dev -----\n",
    "        ax2.set_title(f\"CV Standard Deviation vs {param}\")\n",
    "        ax2.plot(x_vals, std_cvs, marker='.', label=f\"CV {error_name} Std\", color='blue')\n",
    "        ax2.set_xlabel(param)\n",
    "        ax2.set_ylabel(\"Standard Deviation\")\n",
    "        ax2.legend()\n",
    "        ax2.grid(alpha=0.5)\n",
    "        \n",
    "        # If we are using boolean x-values, set custom ticks\n",
    "        if is_boolean:\n",
    "            ax2.set_xticks(x_vals)\n",
    "            ax2.set_xticklabels(x_labels)\n",
    "        \n",
    "        plt.tight_layout()\n",
    "        plt.show()\n",
    "        \n",
    "        end = time.time()\n",
    "        print(\"Execution Time:\", time.strftime(\"%H:%M:%S\", time.gmtime(end - start)))\n",
    "    \n",
    "    return Parameters\n"
   ]
  },
  {
   "cell_type": "markdown",
   "metadata": {},
   "source": [
    "## **Problem One: Bagging Trees**  \n",
    "\n",
    "In this problem, you will follow a structured workflow to tune and evaluate a **Bagging Regressor**. The process builds on the approach from the last two homeworks; note that, as Homework 06, we will apply **grid search** to systematically explore parameter values.  Note that we will **not** be used Early Stopping in this homework; this will be a valuable technique going forward, but in this homework we are still learning how these complex models perform.\n",
    "\n",
    "At the end of the analysis, you will not simply select the model with the lowest CV MSE score. Instead, you will critically examine the plots to determine whether another model configuration provides a better balance between performance, stability, and generalization. This step is essential for ensuring that your chosen model will perform well on new data. The criteria we will use for this choice are in **Appendix 5** below. "
   ]
  },
  {
   "cell_type": "markdown",
   "metadata": {},
   "source": [
    "### **Part 1.A: Iteratively Sweep Parameters and Visualize Results using `sweep_parameter(...)`**  \n",
    "We will start with the `Default_Parameters_Bagging` dictionary and iteratively adjust key parameters. At each step, using the code provided above, you will:  \n",
    "\n",
    "- Test a range of values for the specified parameter.\n",
    "- Plot training, repeated cross-validation, and test MSE to diagnose overfitting or underfitting.\n",
    "- Plot the standard deviation of the CV scores to assess model stability.\n",
    "- Store the best value (which produces the minimum CV MSE) in a dictionary, perhaps called `Parameters_BT`.\n",
    "\n",
    "**You should read Appendix 4 now if you have not done so already.**\n",
    "\n",
    "**Step-by-step process:**\n",
    "1. **Sweep `n_estimators`** (integer values):  \n",
    "   - Begin by *making a copy* of the provided `Default_Parameters_Bagging` dictionary.  \n",
    "   - Sweep a range of **integer** values for `n_estimators` (the number of base learners).  \n",
    "   - Store the best value in `Parameters_BT`. \n",
    "\n",
    "2. **Sweep `max_samples`** (float values):  \n",
    "   - Using `Parameters_BT`, test a range of **float** values for `max_samples`.  \n",
    "   - Store the best value in `Parameters_BT`. (*Note: This may simply be the default value!*)\n",
    "\n",
    "3. **Sweep `max_features`** (integer values):  \n",
    "   - Using `Parameters_BT`, test a range of **integer** values for `max_features`.  \n",
    "   - Store the best value in `Parameters_BT`. (*Again, the best value might be the default!*)\n",
    "\n",
    "4. **Sweep `bootstrap`** (Boolean values):  \n",
    "   - Test both possible values (`True` and `False`).  \n",
    "   - Store the best value in `Parameters_BT`.\n",
    "\n",
    "5. **Report your final results (including all final parameter choices, and convert MSE to RMSE in dollars when printing out)** and answer the graded question. "
   ]
  },
  {
   "cell_type": "code",
   "execution_count": 6,
   "metadata": {},
   "outputs": [],
   "source": [
    "# Define the parameters for the BaggingRegressor\n",
    "Default_Parameters_Bagging = {\n",
    "    'n_estimators': 10,            # Number of base estimators in the ensemble\n",
    "    'max_samples' : 1.0,           # Fraction of samples to draw for each base estimator\n",
    "    'max_features': 1.0,           # Fraction of features to consider for each estimator\n",
    "    'bootstrap'   : True,          # Use bootstrap samples when building estimators\n",
    "    'random_state': 42,            # Ensures reproducibility\n",
    "    'MSE_found'   : float('inf')   # Used for tracking the best MSE during parameter sweeps, to record result of these parameter choices\n",
    "                                   # Initialized to inf in case want to use this to record best MSE found so far in a sequence of parameter choices\n",
    "}\n"
   ]
  },
  {
   "cell_type": "code",
   "execution_count": 7,
   "metadata": {},
   "outputs": [],
   "source": [
    "# Set some global variables for the parameter sweeps\n",
    "augmented_bagging_result_list = []\n",
    "augmented_bagging_result = []\n",
    "Parameters_BT_list = []\n"
   ]
  },
  {
   "cell_type": "code",
   "execution_count": 8,
   "metadata": {},
   "outputs": [],
   "source": [
    "log_file = 'logs/hw07_log'\n",
    "def log_message(text, log_file=log_file):\n",
    "    timestamp = datetime.datetime.now().strftime('%Y-%m-%d %H:%M:%S')\n",
    "    log_entry = f\"[{timestamp}] {text}\"\n",
    "    log_file = log_file + datetime.datetime.now().strftime('%Y%m%d') + '.log'\n",
    "    with open(log_file, 'a') as f:\n",
    "        f.write(log_entry + '\\n')\n",
    "\n",
    "\n",
    "# log_message(f'{augmented_bagging_result}')\n"
   ]
  },
  {
   "cell_type": "code",
   "execution_count": 9,
   "metadata": {},
   "outputs": [],
   "source": [
    "# 0. All defaults: \n",
    "model_all_defaults = BaggingRegressor\n",
    "P_temp = Default_Parameters_Bagging.copy()\n",
    "cv_mse, std_cv, train_mse, test_mse = run_model(\n",
    "            model=model_all_defaults,\n",
    "            X_train=X_train, y_train=y_train,\n",
    "            X_test=X_test,   y_test=y_test,\n",
    "            n_repeats=n_repeats,\n",
    "            n_jobs=-1,\n",
    "            **P_temp\n",
    "        )\n"
   ]
  },
  {
   "cell_type": "code",
   "execution_count": 10,
   "metadata": {},
   "outputs": [
    {
     "name": "stdout",
     "output_type": "stream",
     "text": [
      "cv_rmse: 28227.017087976972,cv_mse: 796764493.6849439, std_cv: 222077367.8200688, train_mse: 163747881.66543517, test_mse: 859097201.1368771\n",
      "defaults: {'n_estimators': 10, 'max_samples': 1.0, 'max_features': 1.0, 'bootstrap': True, 'random_state': 42, 'MSE_found': np.float64(796764493.6849439), 'RMSE_found': np.float64(28227.017087976972)}\n"
     ]
    }
   ],
   "source": [
    "all_defaults_cv_rmse = np.sqrt(cv_mse)\n",
    "print(f\"cv_rmse: {all_defaults_cv_rmse},cv_mse: {cv_mse}, std_cv: {std_cv}, train_mse: {train_mse}, test_mse: {test_mse}\")\n",
    "\n",
    "# Lists:\n",
    "augmented_bagging_result = Default_Parameters_Bagging.copy()\n",
    "augmented_bagging_result['MSE_found']=cv_mse\n",
    "augmented_bagging_result['RMSE_found']=all_defaults_cv_rmse\n",
    "augmented_bagging_result_list.append(augmented_bagging_result)\n",
    "print(f\"defaults: {augmented_bagging_result}\")\n",
    "\n",
    "Parameters_BT_list.append(Default_Parameters_Bagging)\n",
    "log_message(f'defaults: {augmented_bagging_result}')"
   ]
  },
  {
   "cell_type": "code",
   "execution_count": 11,
   "metadata": {},
   "outputs": [
    {
     "name": "stdout",
     "output_type": "stream",
     "text": [
      "Emulation mode: True\n",
      "Emulation mode parameters: {'n_estimators': 10, 'max_samples': 1.0, 'max_features': 1.0, 'bootstrap': True, 'random_state': 42, 'MSE_found': 900000412.7423962}\n"
     ]
    }
   ],
   "source": [
    "# Your code here: \n",
    "# 1. Sweep n_estimators:\n",
    "n_repeats=2\n",
    "part_name = '1.A'\n",
    "param = 'n_estimators'\n",
    "parameter_list = range(1,1000,50)   \n",
    "model = BaggingRegressor\n",
    "default_parameters = Default_Parameters_Bagging.copy()\n",
    "\n",
    "# Run bagging:\n",
    "bagging_result = sweep_parameter(model=model, \n",
    "                                    Parameters=default_parameters,\n",
    "                                    param = param,\n",
    "                                    parameter_list = parameter_list,\n",
    "                                    X_train          = X_train,\n",
    "                                    y_train          = y_train,\n",
    "                                    X_test           = X_test,\n",
    "                                    y_test           = y_test,\n",
    "                                    verbose          = True,\n",
    "                                    show_rmse        = True,\n",
    "                                    n_iter_no_change = None,\n",
    "                                    delta            = 0.001,\n",
    "                                    n_jobs           = -1,\n",
    "                                    n_repeats        = n_repeats)"
   ]
  },
  {
   "cell_type": "code",
   "execution_count": 12,
   "metadata": {},
   "outputs": [
    {
     "name": "stdout",
     "output_type": "stream",
     "text": [
      "augmented_bagging_result: {'n_estimators': 10, 'max_samples': 1.0, 'max_features': 1.0, 'bootstrap': True, 'random_state': 42, 'MSE_found': 900000412.7423962, 'param': 'n_estimators', 'part_name': '1.A', 'RMSE_found': np.float64(30000.00687903915)}\n"
     ]
    }
   ],
   "source": [
    "# Set variables:\n",
    "augmented_bagging_result = bagging_result.copy()\n",
    "Parameters_BT = bagging_result.copy()\n",
    "augmented_bagging_result['param'] = param\n",
    "augmented_bagging_result['part_name'] = part_name\n",
    "augmented_bagging_result['RMSE_found'] = np.sqrt(bagging_result['MSE_found'])\n",
    "print(f\"augmented_bagging_result: {augmented_bagging_result}\")\n",
    "# Lists:\n",
    "Parameters_BT_list.append(Parameters_BT)\n",
    "augmented_bagging_result_list.append(augmented_bagging_result)\n",
    "log_message(f'{augmented_bagging_result}')"
   ]
  },
  {
   "cell_type": "code",
   "execution_count": 13,
   "metadata": {},
   "outputs": [],
   "source": [
    "# Fine tune the model, manually overriding the defaults or the best parameters found so far\n",
    "# 1. n_estimators"
   ]
  },
  {
   "cell_type": "code",
   "execution_count": 14,
   "metadata": {},
   "outputs": [
    {
     "name": "stdout",
     "output_type": "stream",
     "text": [
      "Emulation mode: True\n",
      "Emulation mode parameters: {'n_estimators': 10, 'max_samples': 1.0, 'max_features': 1.0, 'bootstrap': True, 'random_state': 42, 'MSE_found': 900000288.0638434}\n"
     ]
    }
   ],
   "source": [
    "# Your code here: \n",
    "# 2. Sweep max_samples:\n",
    "model = BaggingRegressor\n",
    "param = 'max_samples'\n",
    "parameter_list = np.linspace(0.1,1.0,10)  # Add 1 to the last element to include 1 as integer\n",
    "default_parameters = Parameters_BT.copy()\n",
    "\n",
    "bagging_result = sweep_parameter(model=model, \n",
    "                                    Parameters=default_parameters,\n",
    "                                    param = param,\n",
    "                                    parameter_list = parameter_list,\n",
    "                                    X_train          = X_train,\n",
    "                                    y_train          = y_train,\n",
    "                                    X_test           = X_test,\n",
    "                                    y_test           = y_test,\n",
    "                                    verbose          = True,\n",
    "                                    show_rmse        = True,\n",
    "                                    n_iter_no_change = None,\n",
    "                                    delta            = 0.001,\n",
    "                                    n_jobs           = -1,\n",
    "                                    n_repeats        = n_repeats)"
   ]
  },
  {
   "cell_type": "code",
   "execution_count": 15,
   "metadata": {},
   "outputs": [
    {
     "name": "stdout",
     "output_type": "stream",
     "text": [
      "augmented_bagging_result: {'n_estimators': 10, 'max_samples': 1.0, 'max_features': 1.0, 'bootstrap': True, 'random_state': 42, 'MSE_found': 900000288.0638434, 'param': 'max_samples', 'part_name': '1.A', 'RMSE_found': np.float64(30000.00480106367)}\n"
     ]
    }
   ],
   "source": [
    "# Set variables:\n",
    "augmented_bagging_result = bagging_result.copy()\n",
    "Parameters_BT = bagging_result.copy()\n",
    "augmented_bagging_result['param'] = param\n",
    "augmented_bagging_result['part_name'] = part_name\n",
    "augmented_bagging_result['RMSE_found'] = np.sqrt(bagging_result['MSE_found'])\n",
    "print(f\"augmented_bagging_result: {augmented_bagging_result}\")\n",
    "# Lists:\n",
    "Parameters_BT_list.append(Parameters_BT)\n",
    "augmented_bagging_result_list.append(augmented_bagging_result)\n",
    "log_message(f'{augmented_bagging_result}')"
   ]
  },
  {
   "cell_type": "code",
   "execution_count": 16,
   "metadata": {},
   "outputs": [],
   "source": [
    "# Fine tune the model, manually overriding the defaults or the best parameters found so far\n",
    "# 1. max_samples: 1.0 gets better results "
   ]
  },
  {
   "cell_type": "code",
   "execution_count": 17,
   "metadata": {},
   "outputs": [
    {
     "data": {
      "text/plain": [
       "(2344, 73)"
      ]
     },
     "execution_count": 17,
     "metadata": {},
     "output_type": "execute_result"
    }
   ],
   "source": [
    "X_train.shape"
   ]
  },
  {
   "cell_type": "code",
   "execution_count": 18,
   "metadata": {},
   "outputs": [
    {
     "name": "stdout",
     "output_type": "stream",
     "text": [
      "Emulation mode: True\n",
      "Emulation mode parameters: {'n_estimators': 10, 'max_samples': 1.0, 'max_features': 1.0, 'bootstrap': True, 'random_state': 42, 'MSE_found': 900000807.8806218}\n"
     ]
    }
   ],
   "source": [
    "# Your code here: \n",
    "# 3. Sweep max_features:\n",
    "model = BaggingRegressor\n",
    "param = 'max_features'\n",
    "parameter_list = range(1,74)\n",
    "default_parameters = Parameters_BT.copy()\n",
    "\n",
    "bagging_result = sweep_parameter(model=model, \n",
    "                                    Parameters=default_parameters,\n",
    "                                    param = param,\n",
    "                                    parameter_list = parameter_list,\n",
    "                                    X_train          = X_train,\n",
    "                                    y_train          = y_train,\n",
    "                                    X_test           = X_test,\n",
    "                                    y_test           = y_test,\n",
    "                                    verbose          = True,\n",
    "                                    show_rmse        = True,\n",
    "                                    n_iter_no_change = None,\n",
    "                                    delta            = 0.001,\n",
    "                                    n_jobs           = -1,\n",
    "                                    n_repeats        = n_repeats)"
   ]
  },
  {
   "cell_type": "code",
   "execution_count": 19,
   "metadata": {},
   "outputs": [
    {
     "name": "stdout",
     "output_type": "stream",
     "text": [
      "augmented_bagging_result: {'n_estimators': 10, 'max_samples': 1.0, 'max_features': 1.0, 'bootstrap': True, 'random_state': 42, 'MSE_found': 900000807.8806218, 'param': 'max_features', 'part_name': '1.A', 'RMSE_found': np.float64(30000.013464674008)}\n"
     ]
    }
   ],
   "source": [
    "# Set variables:\n",
    "augmented_bagging_result = bagging_result.copy()\n",
    "Parameters_BT = bagging_result.copy()\n",
    "augmented_bagging_result['param'] = param\n",
    "augmented_bagging_result['part_name'] = part_name\n",
    "augmented_bagging_result['RMSE_found'] = np.sqrt(bagging_result['MSE_found'])\n",
    "print(f\"augmented_bagging_result: {augmented_bagging_result}\")\n",
    "# Lists:\n",
    "Parameters_BT_list.append(Parameters_BT)\n",
    "augmented_bagging_result_list.append(augmented_bagging_result)\n",
    "log_message(f'{augmented_bagging_result}')"
   ]
  },
  {
   "cell_type": "code",
   "execution_count": 20,
   "metadata": {},
   "outputs": [
    {
     "name": "stdout",
     "output_type": "stream",
     "text": [
      "Emulation mode: True\n",
      "Emulation mode parameters: {'n_estimators': 10, 'max_samples': 1.0, 'max_features': 1.0, 'bootstrap': True, 'random_state': 42, 'MSE_found': 900000415.6085284}\n"
     ]
    }
   ],
   "source": [
    "# Your code here: \n",
    "# 3. Sweep bootstrap:\n",
    "model = BaggingRegressor\n",
    "param = 'bootstrap'\n",
    "parameter_list = [True, False]\n",
    "default_parameters = Parameters_BT.copy()\n",
    "\n",
    "bagging_result = sweep_parameter(model=model, \n",
    "                                    Parameters=default_parameters,\n",
    "                                    param = param,\n",
    "                                    parameter_list = parameter_list,\n",
    "                                    X_train          = X_train,\n",
    "                                    y_train          = y_train,\n",
    "                                    X_test           = X_test,\n",
    "                                    y_test           = y_test,\n",
    "                                    verbose          = True,\n",
    "                                    show_rmse        = True,\n",
    "                                    n_iter_no_change = None,\n",
    "                                    delta            = 0.001,\n",
    "                                    n_jobs           = -1,\n",
    "                                    n_repeats        = n_repeats)"
   ]
  },
  {
   "cell_type": "code",
   "execution_count": 21,
   "metadata": {},
   "outputs": [
    {
     "name": "stdout",
     "output_type": "stream",
     "text": [
      "augmented_bagging_result: {'n_estimators': 10, 'max_samples': 1.0, 'max_features': 1.0, 'bootstrap': True, 'random_state': 42, 'MSE_found': 900000415.6085284, 'param': 'bootstrap', 'part_name': '1.A', 'RMSE_found': np.float64(30000.006926808008)}\n"
     ]
    }
   ],
   "source": [
    "# Set variables:\n",
    "augmented_bagging_result = bagging_result.copy()\n",
    "Parameters_BT = bagging_result.copy()\n",
    "augmented_bagging_result['param'] = param\n",
    "augmented_bagging_result['part_name'] = part_name\n",
    "augmented_bagging_result['RMSE_found'] = np.sqrt(bagging_result['MSE_found'])\n",
    "print(f\"augmented_bagging_result: {augmented_bagging_result}\")\n",
    "# Lists:\n",
    "Parameters_BT_list.append(Parameters_BT)\n",
    "augmented_bagging_result_list.append(augmented_bagging_result)\n",
    "log_message(f'{augmented_bagging_result}')"
   ]
  },
  {
   "cell_type": "code",
   "execution_count": 22,
   "metadata": {},
   "outputs": [
    {
     "data": {
      "text/html": [
       "<div>\n",
       "<style scoped>\n",
       "    .dataframe tbody tr th:only-of-type {\n",
       "        vertical-align: middle;\n",
       "    }\n",
       "\n",
       "    .dataframe tbody tr th {\n",
       "        vertical-align: top;\n",
       "    }\n",
       "\n",
       "    .dataframe thead th {\n",
       "        text-align: right;\n",
       "    }\n",
       "</style>\n",
       "<table border=\"1\" class=\"dataframe\">\n",
       "  <thead>\n",
       "    <tr style=\"text-align: right;\">\n",
       "      <th></th>\n",
       "      <th>n_estimators</th>\n",
       "      <th>max_samples</th>\n",
       "      <th>max_features</th>\n",
       "      <th>bootstrap</th>\n",
       "      <th>random_state</th>\n",
       "      <th>MSE_found</th>\n",
       "      <th>RMSE_found</th>\n",
       "      <th>param</th>\n",
       "      <th>part_name</th>\n",
       "    </tr>\n",
       "  </thead>\n",
       "  <tbody>\n",
       "    <tr>\n",
       "      <th>0</th>\n",
       "      <td>10</td>\n",
       "      <td>1.0</td>\n",
       "      <td>1.0</td>\n",
       "      <td>True</td>\n",
       "      <td>42</td>\n",
       "      <td>7.967645e+08</td>\n",
       "      <td>28227.017088</td>\n",
       "      <td>NaN</td>\n",
       "      <td>NaN</td>\n",
       "    </tr>\n",
       "    <tr>\n",
       "      <th>1</th>\n",
       "      <td>10</td>\n",
       "      <td>1.0</td>\n",
       "      <td>1.0</td>\n",
       "      <td>True</td>\n",
       "      <td>42</td>\n",
       "      <td>9.000004e+08</td>\n",
       "      <td>30000.006879</td>\n",
       "      <td>n_estimators</td>\n",
       "      <td>1.A</td>\n",
       "    </tr>\n",
       "    <tr>\n",
       "      <th>2</th>\n",
       "      <td>10</td>\n",
       "      <td>1.0</td>\n",
       "      <td>1.0</td>\n",
       "      <td>True</td>\n",
       "      <td>42</td>\n",
       "      <td>9.000003e+08</td>\n",
       "      <td>30000.004801</td>\n",
       "      <td>max_samples</td>\n",
       "      <td>1.A</td>\n",
       "    </tr>\n",
       "    <tr>\n",
       "      <th>3</th>\n",
       "      <td>10</td>\n",
       "      <td>1.0</td>\n",
       "      <td>1.0</td>\n",
       "      <td>True</td>\n",
       "      <td>42</td>\n",
       "      <td>9.000008e+08</td>\n",
       "      <td>30000.013465</td>\n",
       "      <td>max_features</td>\n",
       "      <td>1.A</td>\n",
       "    </tr>\n",
       "    <tr>\n",
       "      <th>4</th>\n",
       "      <td>10</td>\n",
       "      <td>1.0</td>\n",
       "      <td>1.0</td>\n",
       "      <td>True</td>\n",
       "      <td>42</td>\n",
       "      <td>9.000004e+08</td>\n",
       "      <td>30000.006927</td>\n",
       "      <td>bootstrap</td>\n",
       "      <td>1.A</td>\n",
       "    </tr>\n",
       "  </tbody>\n",
       "</table>\n",
       "</div>"
      ],
      "text/plain": [
       "   n_estimators  max_samples  max_features  bootstrap  random_state  \\\n",
       "0            10          1.0           1.0       True            42   \n",
       "1            10          1.0           1.0       True            42   \n",
       "2            10          1.0           1.0       True            42   \n",
       "3            10          1.0           1.0       True            42   \n",
       "4            10          1.0           1.0       True            42   \n",
       "\n",
       "      MSE_found    RMSE_found         param part_name  \n",
       "0  7.967645e+08  28227.017088           NaN       NaN  \n",
       "1  9.000004e+08  30000.006879  n_estimators       1.A  \n",
       "2  9.000003e+08  30000.004801   max_samples       1.A  \n",
       "3  9.000008e+08  30000.013465  max_features       1.A  \n",
       "4  9.000004e+08  30000.006927     bootstrap       1.A  "
      ]
     },
     "execution_count": 22,
     "metadata": {},
     "output_type": "execute_result"
    }
   ],
   "source": [
    "p1a_Parameters_BT_df = pd.DataFrame(Parameters_BT_list)\n",
    "\n",
    "p1a_augmented_bagging_result_df = pd.DataFrame(augmented_bagging_result_list)\n",
    "p1a_augmented_bagging_result_df\n"
   ]
  },
  {
   "cell_type": "code",
   "execution_count": 23,
   "metadata": {},
   "outputs": [
    {
     "name": "stdout",
     "output_type": "stream",
     "text": [
      "0\n"
     ]
    },
    {
     "data": {
      "text/plain": [
       "np.float64(28227.017087976972)"
      ]
     },
     "execution_count": 23,
     "metadata": {},
     "output_type": "execute_result"
    }
   ],
   "source": [
    "print(p1a_augmented_bagging_result_df['RMSE_found'].idxmin())\n",
    "RMSE_part1A = p1a_augmented_bagging_result_df['RMSE_found'].min()\n",
    "RMSE_part1A"
   ]
  },
  {
   "cell_type": "code",
   "execution_count": 24,
   "metadata": {},
   "outputs": [],
   "source": [
    "Parameters_BT_p1a = Parameters_BT_list[p1a_Parameters_BT_df['MSE_found'].idxmin()].copy()"
   ]
  },
  {
   "cell_type": "markdown",
   "metadata": {},
   "source": [
    "### Problem 1.A Graded Answer"
   ]
  },
  {
   "cell_type": "code",
   "execution_count": 25,
   "metadata": {},
   "outputs": [
    {
     "name": "stdout",
     "output_type": "stream",
     "text": [
      "a1a = $28,227.02\n"
     ]
    }
   ],
   "source": [
    "# TODO:  Set the variable to best CV RMSE score found after Part A\n",
    "\n",
    "a1a = RMSE_part1A     # Just to get it to run without error; your answer here (remember to use the RMSE)         \n",
    "\n",
    "print(f'a1a = ${a1a:,.2f}')              # Do not change this line, and DO NOT print anything else in this cell"
   ]
  },
  {
   "cell_type": "markdown",
   "metadata": {},
   "source": [
    "### **Part 1.B: Refine Parameters for Model Stability**  \n",
    "After completing the first sweep, **repeat Part A as needed** to refine your model.  \n",
    "- Your goal is to identify the parameter combination that minimizes the **CV MSE**.  \n",
    "- **Final tuning goals:**\n",
    "  - Adjust `n_estimators` with a **tolerance of 10**.\n",
    "  - Adjust `max_samples` with a **tolerance of 0.1**.\n",
    "  - Adjust `max_features` with a **tolerance of 1**.\n",
    "- **Report your final results (including all final parameter choices, and convert MSE to RMSE in dollars when printing out)** and answer the graded question. "
   ]
  },
  {
   "cell_type": "code",
   "execution_count": 26,
   "metadata": {},
   "outputs": [
    {
     "name": "stdout",
     "output_type": "stream",
     "text": [
      "Parameters_BT: {'n_estimators': 10, 'max_samples': 1.0, 'max_features': 1.0, 'bootstrap': True, 'random_state': 42, 'MSE_found': 900000288.0638434}\n"
     ]
    }
   ],
   "source": [
    "# Get best parameters from Part A:\n",
    "Parameters_BT = Parameters_BT_list[p1a_Parameters_BT_df['MSE_found'].idxmin()].copy()\n",
    "print(f\"Parameters_BT: {Parameters_BT}\")\n",
    "Parameters_BT_list=[]"
   ]
  },
  {
   "cell_type": "code",
   "execution_count": 27,
   "metadata": {},
   "outputs": [],
   "source": [
    "# Fine tune the model, manually overriding the defaults or the best parameters found so far\n",
    "# 1. max_samples: 1.0 gets better results "
   ]
  },
  {
   "cell_type": "code",
   "execution_count": null,
   "metadata": {},
   "outputs": [],
   "source": []
  },
  {
   "cell_type": "code",
   "execution_count": 28,
   "metadata": {},
   "outputs": [
    {
     "name": "stdout",
     "output_type": "stream",
     "text": [
      "Emulation mode: True\n",
      "Emulation mode parameters: {'n_estimators': 10, 'max_samples': 1.0, 'max_features': 1.0, 'bootstrap': True, 'random_state': 42, 'MSE_found': 900000880.5514169}\n"
     ]
    }
   ],
   "source": [
    "# Your code here:\n",
    "\n",
    "augmented_bagging_result = []\n",
    "augmented_bagging_result_list = []\n",
    "Parameters_BT_list = []\n",
    "\n",
    "# Set variables:\n",
    "part_name = '1.B'\n",
    "param = 'n_estimators'\n",
    "parameter_list = range(80,200,10)   \n",
    "model = BaggingRegressor\n",
    "default_parameters = Parameters_BT.copy()\n",
    "\n",
    "# Run bagging:\n",
    "bagging_result = sweep_parameter(model=model, \n",
    "                                    Parameters=default_parameters,\n",
    "                                    param = param,\n",
    "                                    parameter_list = parameter_list,\n",
    "                                    X_train          = X_train,\n",
    "                                    y_train          = y_train,\n",
    "                                    X_test           = X_test,\n",
    "                                    y_test           = y_test,\n",
    "                                    verbose          = True,\n",
    "                                    show_rmse        = True,\n",
    "                                    n_iter_no_change = None,\n",
    "                                    delta            = 0.001,\n",
    "                                    n_jobs           = -1,\n",
    "                                    n_repeats        = n_repeats)\n",
    "\n"
   ]
  },
  {
   "cell_type": "code",
   "execution_count": 29,
   "metadata": {},
   "outputs": [
    {
     "name": "stdout",
     "output_type": "stream",
     "text": [
      "augmented_bagging_result: {'n_estimators': 10, 'max_samples': 1.0, 'max_features': 1.0, 'bootstrap': True, 'random_state': 42, 'MSE_found': 900000880.5514169, 'param': 'n_estimators', 'part_name': '1.B', 'RMSE_found': np.float64(30000.01467585336)}\n"
     ]
    }
   ],
   "source": [
    "# Set variables:\n",
    "augmented_bagging_result = bagging_result.copy()\n",
    "Parameters_BT = bagging_result.copy()\n",
    "augmented_bagging_result['param'] = param\n",
    "augmented_bagging_result['part_name'] = part_name\n",
    "augmented_bagging_result['RMSE_found'] = np.sqrt(bagging_result['MSE_found'])\n",
    "print(f\"augmented_bagging_result: {augmented_bagging_result}\")\n",
    "# Lists:\n",
    "Parameters_BT_list.append(Parameters_BT)\n",
    "augmented_bagging_result_list.append(augmented_bagging_result)\n",
    "log_message(f'{augmented_bagging_result}')"
   ]
  },
  {
   "cell_type": "code",
   "execution_count": 30,
   "metadata": {},
   "outputs": [
    {
     "name": "stdout",
     "output_type": "stream",
     "text": [
      "Emulation mode: True\n",
      "Emulation mode parameters: {'n_estimators': 10, 'max_samples': 1.0, 'max_features': 1.0, 'bootstrap': True, 'random_state': 42, 'MSE_found': 900000811.0187038}\n"
     ]
    }
   ],
   "source": [
    "# Set variables:\n",
    "part_name = '1.B'\n",
    "param = 'max_samples'\n",
    "parameter_list = np.linspace(0.5,1.0,10) \n",
    "model = BaggingRegressor\n",
    "default_parameters = Parameters_BT.copy()\n",
    "\n",
    "# Run bagging:\n",
    "bagging_result = sweep_parameter(model=model, \n",
    "                                    Parameters=default_parameters,\n",
    "                                    param = param,\n",
    "                                    parameter_list = parameter_list,\n",
    "                                    X_train          = X_train,\n",
    "                                    y_train          = y_train,\n",
    "                                    X_test           = X_test,\n",
    "                                    y_test           = y_test,\n",
    "                                    verbose          = True,\n",
    "                                    show_rmse        = True,\n",
    "                                    n_iter_no_change = None,\n",
    "                                    delta            = 0.001,\n",
    "                                    n_jobs           = -1,\n",
    "                                    n_repeats        = n_repeats)\n"
   ]
  },
  {
   "cell_type": "code",
   "execution_count": 31,
   "metadata": {},
   "outputs": [
    {
     "name": "stdout",
     "output_type": "stream",
     "text": [
      "augmented_bagging_result: {'n_estimators': 10, 'max_samples': 1.0, 'max_features': 1.0, 'bootstrap': True, 'random_state': 42, 'MSE_found': 900000811.0187038, 'param': 'max_samples', 'part_name': '1.B', 'RMSE_found': np.float64(30000.013516975352)}\n"
     ]
    }
   ],
   "source": [
    "# Set variables:\n",
    "augmented_bagging_result = bagging_result.copy()\n",
    "Parameters_BT = bagging_result.copy()\n",
    "augmented_bagging_result['param'] = param\n",
    "augmented_bagging_result['part_name'] = part_name\n",
    "augmented_bagging_result['RMSE_found'] = np.sqrt(bagging_result['MSE_found'])\n",
    "print(f\"augmented_bagging_result: {augmented_bagging_result}\")\n",
    "# Lists:\n",
    "Parameters_BT_list.append(Parameters_BT)\n",
    "augmented_bagging_result_list.append(augmented_bagging_result)\n",
    "log_message(f'{augmented_bagging_result}')"
   ]
  },
  {
   "cell_type": "code",
   "execution_count": 32,
   "metadata": {},
   "outputs": [
    {
     "name": "stdout",
     "output_type": "stream",
     "text": [
      "Emulation mode: True\n",
      "Emulation mode parameters: {'n_estimators': 10, 'max_samples': 1.0, 'max_features': 1.0, 'bootstrap': True, 'random_state': 42, 'MSE_found': 900000219.6671956}\n"
     ]
    }
   ],
   "source": [
    "# Set variables:\n",
    "part_name = '1.B'\n",
    "param = 'max_features'\n",
    "parameter_list = range(35,60)\n",
    "model = BaggingRegressor\n",
    "default_parameters = Parameters_BT.copy()\n",
    "\n",
    "# Run bagging:\n",
    "bagging_result = sweep_parameter(model=model, \n",
    "                                    Parameters=default_parameters,\n",
    "                                    param = param,\n",
    "                                    parameter_list = parameter_list,\n",
    "                                    X_train          = X_train,\n",
    "                                    y_train          = y_train,\n",
    "                                    X_test           = X_test,\n",
    "                                    y_test           = y_test,\n",
    "                                    verbose          = True,\n",
    "                                    show_rmse        = True,\n",
    "                                    n_iter_no_change = None,\n",
    "                                    delta            = 0.001,\n",
    "                                    n_jobs           = -1,\n",
    "                                    n_repeats        = n_repeats)"
   ]
  },
  {
   "cell_type": "code",
   "execution_count": 33,
   "metadata": {},
   "outputs": [
    {
     "name": "stdout",
     "output_type": "stream",
     "text": [
      "augmented_bagging_result: {'n_estimators': 10, 'max_samples': 1.0, 'max_features': 1.0, 'bootstrap': True, 'random_state': 42, 'MSE_found': 900000219.6671956, 'param': 'max_features', 'part_name': '1.B', 'RMSE_found': np.float64(30000.003661119703)}\n"
     ]
    }
   ],
   "source": [
    "# Set variables:\n",
    "augmented_bagging_result = bagging_result.copy()\n",
    "Parameters_BT = bagging_result.copy()\n",
    "augmented_bagging_result['param'] = param\n",
    "augmented_bagging_result['part_name'] = part_name\n",
    "augmented_bagging_result['RMSE_found'] = np.sqrt(bagging_result['MSE_found'])\n",
    "print(f\"augmented_bagging_result: {augmented_bagging_result}\")\n",
    "# Lists:\n",
    "Parameters_BT_list.append(Parameters_BT)\n",
    "augmented_bagging_result_list.append(augmented_bagging_result) \n",
    "log_message(f'{augmented_bagging_result}')"
   ]
  },
  {
   "cell_type": "code",
   "execution_count": 34,
   "metadata": {},
   "outputs": [
    {
     "name": "stdout",
     "output_type": "stream",
     "text": [
      "Emulation mode: True\n",
      "Emulation mode parameters: {'n_estimators': 10, 'max_samples': 1.0, 'max_features': 1.0, 'bootstrap': True, 'random_state': 42, 'MSE_found': 900000227.4262068}\n"
     ]
    }
   ],
   "source": [
    "# Set variables:\n",
    "part_name = '1.B'\n",
    "param = 'bootstrap'\n",
    "parameter_list = [True, False]\n",
    "model = BaggingRegressor\n",
    "default_parameters = Parameters_BT.copy()\n",
    "\n",
    "# Run bagging:\n",
    "bagging_result = sweep_parameter(model=model, \n",
    "                                    Parameters=default_parameters,\n",
    "                                    param = param,\n",
    "                                    parameter_list = parameter_list,\n",
    "                                    X_train          = X_train,\n",
    "                                    y_train          = y_train,\n",
    "                                    X_test           = X_test,\n",
    "                                    y_test           = y_test,\n",
    "                                    verbose          = True,\n",
    "                                    show_rmse        = True,\n",
    "                                    n_iter_no_change = None,\n",
    "                                    delta            = 0.001,\n",
    "                                    n_jobs           = -1,\n",
    "                                    n_repeats        = n_repeats)"
   ]
  },
  {
   "cell_type": "code",
   "execution_count": 35,
   "metadata": {},
   "outputs": [
    {
     "name": "stdout",
     "output_type": "stream",
     "text": [
      "augmented_bagging_result: {'n_estimators': 10, 'max_samples': 1.0, 'max_features': 1.0, 'bootstrap': True, 'random_state': 42, 'MSE_found': 900000227.4262068, 'param': 'bootstrap', 'part_name': '1.B', 'RMSE_found': np.float64(30000.00379043654)}\n"
     ]
    }
   ],
   "source": [
    "# Set variables:\n",
    "augmented_bagging_result = bagging_result.copy()\n",
    "Parameters_BT = bagging_result.copy()\n",
    "augmented_bagging_result['param'] = param\n",
    "augmented_bagging_result['part_name'] = part_name\n",
    "augmented_bagging_result['RMSE_found'] = np.sqrt(bagging_result['MSE_found'])\n",
    "print(f\"augmented_bagging_result: {augmented_bagging_result}\")\n",
    "# Lists:\n",
    "Parameters_BT_list.append(Parameters_BT)\n",
    "augmented_bagging_result_list.append(augmented_bagging_result) \n",
    "log_message(f'{augmented_bagging_result}')"
   ]
  },
  {
   "cell_type": "code",
   "execution_count": 36,
   "metadata": {},
   "outputs": [
    {
     "data": {
      "text/html": [
       "<div>\n",
       "<style scoped>\n",
       "    .dataframe tbody tr th:only-of-type {\n",
       "        vertical-align: middle;\n",
       "    }\n",
       "\n",
       "    .dataframe tbody tr th {\n",
       "        vertical-align: top;\n",
       "    }\n",
       "\n",
       "    .dataframe thead th {\n",
       "        text-align: right;\n",
       "    }\n",
       "</style>\n",
       "<table border=\"1\" class=\"dataframe\">\n",
       "  <thead>\n",
       "    <tr style=\"text-align: right;\">\n",
       "      <th></th>\n",
       "      <th>n_estimators</th>\n",
       "      <th>max_samples</th>\n",
       "      <th>max_features</th>\n",
       "      <th>bootstrap</th>\n",
       "      <th>random_state</th>\n",
       "      <th>MSE_found</th>\n",
       "      <th>param</th>\n",
       "      <th>part_name</th>\n",
       "      <th>RMSE_found</th>\n",
       "    </tr>\n",
       "  </thead>\n",
       "  <tbody>\n",
       "    <tr>\n",
       "      <th>0</th>\n",
       "      <td>10</td>\n",
       "      <td>1.0</td>\n",
       "      <td>1.0</td>\n",
       "      <td>True</td>\n",
       "      <td>42</td>\n",
       "      <td>9.000009e+08</td>\n",
       "      <td>n_estimators</td>\n",
       "      <td>1.B</td>\n",
       "      <td>30000.014676</td>\n",
       "    </tr>\n",
       "    <tr>\n",
       "      <th>1</th>\n",
       "      <td>10</td>\n",
       "      <td>1.0</td>\n",
       "      <td>1.0</td>\n",
       "      <td>True</td>\n",
       "      <td>42</td>\n",
       "      <td>9.000008e+08</td>\n",
       "      <td>max_samples</td>\n",
       "      <td>1.B</td>\n",
       "      <td>30000.013517</td>\n",
       "    </tr>\n",
       "    <tr>\n",
       "      <th>2</th>\n",
       "      <td>10</td>\n",
       "      <td>1.0</td>\n",
       "      <td>1.0</td>\n",
       "      <td>True</td>\n",
       "      <td>42</td>\n",
       "      <td>9.000002e+08</td>\n",
       "      <td>max_features</td>\n",
       "      <td>1.B</td>\n",
       "      <td>30000.003661</td>\n",
       "    </tr>\n",
       "    <tr>\n",
       "      <th>3</th>\n",
       "      <td>10</td>\n",
       "      <td>1.0</td>\n",
       "      <td>1.0</td>\n",
       "      <td>True</td>\n",
       "      <td>42</td>\n",
       "      <td>9.000002e+08</td>\n",
       "      <td>bootstrap</td>\n",
       "      <td>1.B</td>\n",
       "      <td>30000.003790</td>\n",
       "    </tr>\n",
       "  </tbody>\n",
       "</table>\n",
       "</div>"
      ],
      "text/plain": [
       "   n_estimators  max_samples  max_features  bootstrap  random_state  \\\n",
       "0            10          1.0           1.0       True            42   \n",
       "1            10          1.0           1.0       True            42   \n",
       "2            10          1.0           1.0       True            42   \n",
       "3            10          1.0           1.0       True            42   \n",
       "\n",
       "      MSE_found         param part_name    RMSE_found  \n",
       "0  9.000009e+08  n_estimators       1.B  30000.014676  \n",
       "1  9.000008e+08   max_samples       1.B  30000.013517  \n",
       "2  9.000002e+08  max_features       1.B  30000.003661  \n",
       "3  9.000002e+08     bootstrap       1.B  30000.003790  "
      ]
     },
     "execution_count": 36,
     "metadata": {},
     "output_type": "execute_result"
    }
   ],
   "source": [
    "p1b_augmented_bagging_result_df = pd.DataFrame(augmented_bagging_result_list)\n",
    "p1b_augmented_bagging_result_df"
   ]
  },
  {
   "cell_type": "code",
   "execution_count": 37,
   "metadata": {},
   "outputs": [
    {
     "name": "stdout",
     "output_type": "stream",
     "text": [
      "2\n",
      "{'n_estimators': 10, 'max_samples': 1.0, 'max_features': 1.0, 'bootstrap': True, 'random_state': 42, 'MSE_found': 900000219.6671956, 'param': 'max_features', 'part_name': '1.B', 'RMSE_found': np.float64(30000.003661119703)}\n"
     ]
    },
    {
     "data": {
      "text/plain": [
       "np.float64(30000.003661119703)"
      ]
     },
     "execution_count": 37,
     "metadata": {},
     "output_type": "execute_result"
    }
   ],
   "source": [
    "print(p1b_augmented_bagging_result_df['RMSE_found'].idxmin())\n",
    "print(augmented_bagging_result_list[p1b_augmented_bagging_result_df['RMSE_found'].idxmin()])\n",
    "Parameters_BT_p1b = Parameters_BT_list[p1b_augmented_bagging_result_df['RMSE_found'].idxmin()].copy()\n",
    "RMSE_part1B = p1b_augmented_bagging_result_df['RMSE_found'].min()\n",
    "RMSE_part1B"
   ]
  },
  {
   "cell_type": "code",
   "execution_count": 38,
   "metadata": {},
   "outputs": [
    {
     "name": "stdout",
     "output_type": "stream",
     "text": [
      "RMSE_part1A: 28227.017087976972\n",
      "RMSE_part1B: 30000.003661119703\n",
      "Failure!: RMSE_part1B: 30,000.00 is greater than RMSE_part1A: 28,227.02\n"
     ]
    }
   ],
   "source": [
    "print(f\"RMSE_part1A: {RMSE_part1A}\")\n",
    "print(f\"RMSE_part1B: {RMSE_part1B}\")\n",
    "\n",
    "if RMSE_part1B < RMSE_part1A:\n",
    "    print(f\"Success!: RMSE_part1B: {RMSE_part1B:,.2f} is less than RMSE_part1A: {RMSE_part1A:,.2f}\")\n",
    "else:\n",
    "    print(f\"Failure!: RMSE_part1B: {RMSE_part1B:,.2f} is greater than RMSE_part1A: {RMSE_part1A:,.2f}\")\n"
   ]
  },
  {
   "cell_type": "markdown",
   "metadata": {},
   "source": [
    "### Problem 1.B Graded Answer"
   ]
  },
  {
   "cell_type": "code",
   "execution_count": 39,
   "metadata": {},
   "outputs": [
    {
     "name": "stdout",
     "output_type": "stream",
     "text": [
      "a1b = $30,000.00\n"
     ]
    }
   ],
   "source": [
    "# TODO:  Set the variable to best CV RMSE score found after Part B (it may not be different than Part A)\n",
    "\n",
    "a1b = RMSE_part1B                        # Just to get it to run without error; your answer here (remember to use the RMSE)          \n",
    "\n",
    "print(f'a1b = ${a1b:,.2f}')              # Do not change this line, and DO NOT print anything else in this cell"
   ]
  },
  {
   "cell_type": "markdown",
   "metadata": {},
   "source": [
    "### **Part 1.C: Use `GridSearchCV` for Exhaustive Search**  \n",
    "Once you have completed your parameter sweeps in Part B, you will verify and perhaps even refine your results using exhaustive grid search (not random search). \n",
    "- In your results from Part B, identify **unstable parameter ranges** (review Problem 4 from Homework 06).\n",
    "- Perform  **exhaustive grid searches** within appropriately restricted ranges using `GridSearchCV`.  \n",
    "- **Print out the best result found by exhaustive search (including the final parameter choices, and convert MSE to RMSE in dollars)** and answer the graded question.\n",
    "\n",
    "NOTE: Do *not* simply redo all of Parts A and B, and you should repeat your grid search runs using the techniques described in Appendix 4 until you are sure you have either verified your results from Part B or found a model with an even lower CV MSE score than you found in Part B.   "
   ]
  },
  {
   "cell_type": "code",
   "execution_count": 40,
   "metadata": {},
   "outputs": [
    {
     "name": "stdout",
     "output_type": "stream",
     "text": [
      "\n",
      "Search Results (Top 5):\n",
      "\n",
      " n_estimators  max_samples  max_features  mean_cv_score  std_cv_score  mean_train_score  std_train_score\n",
      "          640          1.0            36   5.843985e+08  7.821016e+07       5573.773317      2754.052959\n",
      "          680          1.0            36   5.846191e+08  7.855562e+07       5688.858401      2823.512795\n",
      "          670          1.0            36   5.847025e+08  7.852141e+07       5659.198442      2798.972636\n",
      "          650          1.0            36   5.847428e+08  7.805592e+07       5570.466511      2753.069876\n",
      "          660          1.0            36   5.851146e+08  7.868271e+07       5647.155187      2799.303158\n",
      "\n",
      "Best Parameters: {'bootstrap': np.False_, 'max_features': 36, 'max_samples': np.float64(1.0), 'n_estimators': 640}\n",
      "Best CV MSE: 584398483.2509\n",
      "Best CV RMSE: 24174.3352\n",
      "Test MSE:    663966251.4008\n",
      "Execution Time: 00:07:23\n"
     ]
    }
   ],
   "source": [
    "# Your code here\n",
    "\n",
    "# {'n_estimators': 680, 'max_samples': np.float64(0.9444444444444444), 'max_features': 35, 'bootstrap': False, 'random_state': 42, 'MSE_found': np.float64(636096733.8395892), 'param': 'max_features', 'part_name': '1.B', 'RMSE_found': np.float64(25220.9582260387)}\n",
    "\n",
    "# Run GridSearchCV\n",
    "\n",
    "# Record start time\n",
    "start = time.time()\n",
    "\n",
    "# Define the model\n",
    "bagging_model = BaggingRegressor(\n",
    "    random_state=random_state)\n",
    "\n",
    "# Define the parameter grid\n",
    "param_dist = {\n",
    "    'n_estimators': range(640,700,10),          \n",
    "    'max_samples' : np.linspace(0.8,1.0,5),\n",
    "    'bootstrap': np.array([True, False]),\n",
    "    'max_features': [36]\n",
    "}\n",
    "\n",
    "# Use GridSearchCV to find the best parameters\n",
    "\n",
    "search = GridSearchCV(\n",
    "    estimator=bagging_model,\n",
    "    param_grid=param_dist,\n",
    "    scoring='neg_mean_squared_error',  # MSE but negated for maximization by GridSearchCV\n",
    "    cv=5,  # Number of folds for cross-validation -- Reduce this if efficiency is an issue\n",
    "    n_jobs=-1,  # Use all available cores\n",
    "    return_train_score=True\n",
    ")\n",
    "\n",
    "# Or RandomizedSearchCV -- not as accurate but faster\n",
    "\n",
    "# search = RandomizedSearchCV(\n",
    "#     estimator=bagging_model,\n",
    "#     param_distributions=param_dist,\n",
    "#     n_iter=20,  # Number of random combinations to test\n",
    "#     scoring='neg_mean_squared_error',  # MSE but negated for maximization by RandomizedSearchCV\n",
    "#     cv=5,  # Number of folds for cross-validation\n",
    "#     n_jobs=-1,  # Use all available cores\n",
    "#     random_state=random_state\n",
    "# )\n",
    "\n",
    "# Fit the GridSearchCV\n",
    "search.fit(X_train, y_train)  \n",
    "\n",
    "# Extract results into a DataFrame\n",
    "results = pd.DataFrame(search.cv_results_)\n",
    "\n",
    "# Select relevant columns for readability\n",
    "results = results[[\n",
    "    'param_n_estimators',\n",
    "    'param_max_samples',\n",
    "    'param_max_features',\n",
    "    'mean_test_score',\n",
    "    'std_test_score',\n",
    "    'mean_train_score',  # Include training score\n",
    "    'std_train_score',   # Include standard deviation of training score\n",
    "    'rank_test_score'\n",
    "]]\n",
    "\n",
    "# Convert negative MSE to positive\n",
    "results['mean_test_score'] = -results['mean_test_score']\n",
    "results['mean_train_score'] = -results['mean_train_score']\n",
    "\n",
    "# Sort by rank (best scores first)\n",
    "results = results.sort_values(by='rank_test_score')\n",
    "\n",
    "# Rename columns for printing only\n",
    "renamed_results = results.rename(\n",
    "    columns={\n",
    "        'param_n_estimators': 'n_estimators',\n",
    "        'param_max_samples': 'max_samples',\n",
    "        'param_max_features': 'max_features',\n",
    "        'mean_test_score': 'mean_cv_score',\n",
    "        'std_test_score': 'std_cv_score',\n",
    "        'mean_train_score': 'mean_train_score',\n",
    "        'std_train_score': 'std_train_score'\n",
    "    }\n",
    ").drop(columns=['rank_test_score'])  # Drop the rank column for readability\n",
    "\n",
    "# Print the results as a table\n",
    "print(\"\\nSearch Results (Top 5):\\n\")\n",
    "print(renamed_results.head(5).to_string(index=False))  # Show the top 5 results with new headers\n",
    "\n",
    "# Best parameters and test performance\n",
    "print(f\"\\nBest Parameters: {search.best_params_}\")\n",
    "print(f\"Best CV MSE: {-search.best_score_:.4f}\")\n",
    "\n",
    "print(f\"Best CV RMSE: {np.sqrt(-search.best_score_):.4f}\")\n",
    "\n",
    "# Evaluate on the test set\n",
    "y_pred_bagging = search.best_estimator_.predict(X_test)\n",
    "test_mse = mean_squared_error(y_test, y_pred_bagging)\n",
    "\n",
    "print(f\"Test MSE:    {test_mse:.4f}\")\n",
    "\n",
    "# Record end time and execution time\n",
    "end = time.time()\n",
    "print(\"Execution Time:\", time.strftime(\"%H:%M:%S\", time.gmtime(end-start)))"
   ]
  },
  {
   "cell_type": "code",
   "execution_count": 41,
   "metadata": {},
   "outputs": [],
   "source": [
    "grid_results_df = pd.DataFrame(search.cv_results_)\n"
   ]
  },
  {
   "cell_type": "code",
   "execution_count": 42,
   "metadata": {},
   "outputs": [
    {
     "data": {
      "image/png": "[encoded data removed]",
      "text/plain": [
       "<Figure size 1000x800 with 2 Axes>"
      ]
     },
     "metadata": {},
     "output_type": "display_data"
    },
    {
     "data": {
      "image/png": "[encoded data removed]",
      "text/plain": [
       "<Figure size 1000x800 with 2 Axes>"
      ]
     },
     "metadata": {},
     "output_type": "display_data"
    }
   ],
   "source": [
    "unique_max_bootstrap = sorted(grid_results_df['param_bootstrap'].unique())\n",
    "\n",
    "for max_boot in unique_max_bootstrap:\n",
    "    subset = grid_results_df[grid_results_df['param_bootstrap'] == max_boot]\n",
    "    \n",
    "    pivot_table = subset.pivot_table(\n",
    "        values='mean_test_score',\n",
    "        index='param_max_samples',\n",
    "        columns='param_n_estimators'\n",
    "    )\n",
    "    pivot_table_rmse = np.sqrt(-pivot_table)\n",
    "\n",
    "    plt.figure(figsize=(10, 8))\n",
    "    sns.heatmap(pivot_table_rmse, annot=True, fmt=\".2f\", cmap=\"viridis\")\n",
    "    plt.title(f'CV RMSE Heatmap: max_samples vs n_estimators\\nmax_boot = {max_boot}')\n",
    "    plt.xlabel('n_estimators')\n",
    "    plt.ylabel('max_samples')\n",
    "    plt.show()"
   ]
  },
  {
   "cell_type": "code",
   "execution_count": 43,
   "metadata": {},
   "outputs": [
    {
     "name": "stdout",
     "output_type": "stream",
     "text": [
      "Best CV RMSE: 24174.3352\n"
     ]
    }
   ],
   "source": [
    "print(f\"Best CV RMSE: {np.sqrt(-search.best_score_):.4f}\")\n",
    "Parameters_BT_p1c = search.best_params_\n",
    "RMSE_part1C = np.sqrt(-search.best_score_)"
   ]
  },
  {
   "cell_type": "code",
   "execution_count": 44,
   "metadata": {},
   "outputs": [
    {
     "name": "stdout",
     "output_type": "stream",
     "text": [
      "RMSE_part1A: 28227.017087976972\n",
      "RMSE_part1B: 30000.003661119703\n",
      "RMSE_part1C: 24174.335218385397\n",
      "Success!: RMSE_part1C: 24,174.34 is less than RMSE_part1B: 30,000.00\n"
     ]
    }
   ],
   "source": [
    "print(f\"RMSE_part1A: {RMSE_part1A}\")\n",
    "print(f\"RMSE_part1B: {RMSE_part1B}\")\n",
    "print(f\"RMSE_part1C: {RMSE_part1C}\")\n",
    "\n",
    "if RMSE_part1C < RMSE_part1B:\n",
    "    print(f\"Success!: RMSE_part1C: {RMSE_part1C:,.2f} is less than RMSE_part1B: {RMSE_part1B:,.2f}\")\n",
    "else:\n",
    "    print(f\"Failure!: RMSE_part1B: {RMSE_part1C:,.2f} is greater than RMSE_part1B: {RMSE_part1B:,.2f}\")\n"
   ]
  },
  {
   "cell_type": "markdown",
   "metadata": {},
   "source": [
    "### Problem 1.C Graded Answer"
   ]
  },
  {
   "cell_type": "code",
   "execution_count": 45,
   "metadata": {},
   "outputs": [
    {
     "name": "stdout",
     "output_type": "stream",
     "text": [
      "a1c = $24,174.34\n"
     ]
    }
   ],
   "source": [
    "# TODO:  Set the variable to best CV RMSE score found in Part C (it may not be different than Parts A and B)\n",
    "\n",
    "a1c = RMSE_part1C                               # Just to get it to run without error; your answer here (remember to use the RMSE)           \n",
    "\n",
    "print(f'a1c = ${a1c:,.2f}')              # Do not change this line, and DO NOT print anything else in this cell"
   ]
  },
  {
   "cell_type": "markdown",
   "metadata": {},
   "source": [
    "### **Part 1.D: Evaluate Model Generalization**  \n",
    "At this point, you *may* have **two competing models**:  \n",
    "1. The model found in **Part B** (from parameter sweeps).  \n",
    "2. The model found in **Part C** (from `GridSearchCV`).  \n",
    "\n",
    "To determine which model will **generalize best to new data**, **read Appendix 5** and carefully consider:\n",
    "1. Does the **Part B model** perform best?\n",
    "2. Does the **Part C model** (if different) generalize better?\n",
    "3. Are there **additional insights from the plots** that suggest an alternative choice?  \n",
    "\n",
    "If your decision is (3), choose the parameters by examination of the plots to build your best model for **Part E.** \n",
    "There is no precise algorithm for choosing a models by examination of plots, and this is the kind of \"judgement call\" that you will get better at as you gain experience with building complex models. \n",
    "\n",
    "Then answer the graded question and the non-graded question. "
   ]
  },
  {
   "cell_type": "code",
   "execution_count": 46,
   "metadata": {},
   "outputs": [
    {
     "name": "stdout",
     "output_type": "stream",
     "text": [
      "Parameters_BT_p1a: {'n_estimators': 10, 'max_samples': 1.0, 'max_features': 1.0, 'bootstrap': True, 'random_state': 42, 'MSE_found': 900000288.0638434}\n",
      "Parameters_BT_p1b: {'n_estimators': 10, 'max_samples': 1.0, 'max_features': 1.0, 'bootstrap': True, 'random_state': 42, 'MSE_found': 900000219.6671956}\n",
      "Parameters_BT_p1c: {'bootstrap': np.False_, 'max_features': 36, 'max_samples': np.float64(1.0), 'n_estimators': 640}\n"
     ]
    }
   ],
   "source": [
    "print(f\"Parameters_BT_p1a: {Parameters_BT_p1a}\")\n",
    "print(f\"Parameters_BT_p1b: {Parameters_BT_p1b}\")\n",
    "print(f\"Parameters_BT_p1c: {Parameters_BT_p1c}\")\n"
   ]
  },
  {
   "cell_type": "code",
   "execution_count": 47,
   "metadata": {},
   "outputs": [
    {
     "name": "stdout",
     "output_type": "stream",
     "text": [
      "===== Model Comparison =====\n",
      "Part A Model CV RMSE: 28227.02 (Std: 0.00)\n",
      "Part A Model Test RMSE: 29310.36\n",
      "Part A Model Train RMSE: 12796.40\n",
      "Part A Model CV MSE Std: 222077367.82\n"
     ]
    }
   ],
   "source": [
    "model_1B = BaggingRegressor\n",
    "P_temp = Parameters_BT_p1a.copy()\n",
    "cv_mse, std_cv, train_mse, test_mse = run_model(\n",
    "            model=model_1B,\n",
    "            X_train=X_train, y_train=y_train,\n",
    "            X_test=X_test,   y_test=y_test,\n",
    "            n_repeats=n_repeats,\n",
    "            n_jobs=-1,\n",
    "            **P_temp\n",
    "        )\n",
    "\n",
    "std_cv_A = std_cv\n",
    "train_rmse_A = np.sqrt(train_mse)\n",
    "cv_rmse_A = np.sqrt(cv_mse)\n",
    "test_rmse_A = np.sqrt(test_mse)\n",
    "cv_mse_std_A = np.std(std_cv)\n",
    "print(\"===== Model Comparison =====\")\n",
    "print(f\"Part A Model CV RMSE: {cv_rmse_A:.2f} (Std: {cv_mse_std_A:.2f})\")\n",
    "print(f\"Part A Model Test RMSE: {test_rmse_A:.2f}\")\n",
    "print(f\"Part A Model Train RMSE: {train_rmse_A:.2f}\")\n",
    "print(f\"Part A Model CV MSE Std: {std_cv_A:.2f}\")"
   ]
  },
  {
   "cell_type": "code",
   "execution_count": 48,
   "metadata": {},
   "outputs": [
    {
     "name": "stdout",
     "output_type": "stream",
     "text": [
      "===== Model Comparison =====\n",
      "Part B Model CV RMSE: 28227.02 (Std: 0.00)\n",
      "Part B Model Test RMSE: 29310.36\n",
      "Part B Model Train RMSE: 12796.40\n",
      "Part B Model CV MSE Std: 222077367.82\n"
     ]
    }
   ],
   "source": [
    "model_1B = BaggingRegressor\n",
    "P_temp = Parameters_BT_p1b.copy()\n",
    "cv_mse, std_cv, train_mse, test_mse = run_model(\n",
    "            model=model_1B,\n",
    "            X_train=X_train, y_train=y_train,\n",
    "            X_test=X_test,   y_test=y_test,\n",
    "            n_repeats=n_repeats,\n",
    "            n_jobs=-1,\n",
    "            **P_temp\n",
    "        )\n",
    "\n",
    "std_cv_B = std_cv\n",
    "train_rmse_B = np.sqrt(train_mse)\n",
    "cv_rmse_B = np.sqrt(cv_mse)\n",
    "test_rmse_B = np.sqrt(test_mse)\n",
    "cv_mse_std_B = np.std(std_cv)\n",
    "print(\"===== Model Comparison =====\")\n",
    "print(f\"Part B Model CV RMSE: {cv_rmse_B:.2f} (Std: {cv_mse_std_B:.2f})\")\n",
    "print(f\"Part B Model Test RMSE: {test_rmse_B:.2f}\")\n",
    "print(f\"Part B Model Train RMSE: {train_rmse_B:.2f}\")\n",
    "print(f\"Part B Model CV MSE Std: {std_cv_B:.2f}\")"
   ]
  },
  {
   "cell_type": "code",
   "execution_count": 49,
   "metadata": {},
   "outputs": [
    {
     "name": "stdout",
     "output_type": "stream",
     "text": [
      "===== Model Comparison =====\n",
      "Part C Model CV RMSE: 25254.74 (Std: 0.00)\n",
      "Part C Model Test RMSE: 25881.58\n",
      "Part C Model Train RMSE: 83.82\n",
      "Part C Model CV MSE Std: 243794013.44\n"
     ]
    }
   ],
   "source": [
    "model_1C = BaggingRegressor\n",
    "P_temp = Parameters_BT_p1c.copy()\n",
    "cv_mse, std_cv, train_mse, test_mse = run_model(\n",
    "            model=model_1C,\n",
    "            X_train=X_train, y_train=y_train,\n",
    "            X_test=X_test,   y_test=y_test,\n",
    "            n_repeats=n_repeats,\n",
    "            n_jobs=-1,\n",
    "            **P_temp\n",
    "        )\n",
    "std_cv_C = std_cv\n",
    "train_rmse_C = np.sqrt(train_mse)\n",
    "cv_rmse_C = np.sqrt(cv_mse)\n",
    "test_rmse_C = np.sqrt(test_mse)\n",
    "cv_mse_std_C = np.std(std_cv)\n",
    "print(\"===== Model Comparison =====\")\n",
    "print(f\"Part C Model CV RMSE: {cv_rmse_C:.2f} (Std: {cv_mse_std_C:.2f})\")\n",
    "print(f\"Part C Model Test RMSE: {test_rmse_C:.2f}\")\n",
    "print(f\"Part C Model Train RMSE: {train_rmse_C:.2f}\")\n",
    "print(f\"Part C Model CV MSE Std: {std_cv_C:.2f}\")"
   ]
  },
  {
   "cell_type": "code",
   "execution_count": 50,
   "metadata": {},
   "outputs": [
    {
     "name": "stdout",
     "output_type": "stream",
     "text": [
      "Selected Model: Part B (Manual Tuning)\n",
      "best parameters : {'n_estimators': 10, 'max_samples': 1.0, 'max_features': 1.0, 'bootstrap': True, 'random_state': 42, 'MSE_found': 900000219.6671956}\n",
      "a1d Answer : 1\n"
     ]
    }
   ],
   "source": [
    "a1d_answer = 1 # expected\n",
    "print(\"Selected Model: Part B (Manual Tuning)\")\n",
    "print(f\"best parameters : {Parameters_BT_p1b}\")\n",
    "print(f\"a1d Answer : {a1d_answer}\")"
   ]
  },
  {
   "cell_type": "markdown",
   "metadata": {},
   "source": [
    "### Problem 1.D Graded Answer"
   ]
  },
  {
   "cell_type": "code",
   "execution_count": 51,
   "metadata": {},
   "outputs": [
    {
     "name": "stdout",
     "output_type": "stream",
     "text": [
      "a1d = 2\n"
     ]
    }
   ],
   "source": [
    "# TODO:  Which of options 1, 2, or 3 did you choose?\n",
    "\n",
    "a1d = 2                                  # Should be integer 1, 2, or 3          \n",
    "\n",
    "print(f'a1d = {a1d}')                    # Do not change this line, and DO NOT print anything else in this cell"
   ]
  },
  {
   "cell_type": "markdown",
   "metadata": {},
   "source": [
    "### Problem 1.D Non-Graded Answer but Please Do It\n",
    "\n",
    "Describe in a couple of sentences how your examination of the plots led to your decision. (You'll be expected to answer many such questions when you do your project, so this is good practice, and I'll read as many of your answers as I can.)\n",
    "\n",
    "Your answer: \n",
    "\n",
    " >After examining the metrics and comparing the results of both models, I selected the Part B model.\n",
    " >Although Part C showed a slightly lower CV RMSE and better stability in CV performance, it demonstrated signs of overfitting: an extremely low training RMSE (83.01) but worse generalization on the test set, with a higher test RMSE (26,087.06).\n",
    " >In contrast, Part B maintained a better balance between train and test RMSE (1,357.69 vs 25,652.10) and had a smaller gap between CV RMSE and Test RMSE. This suggests better generalization and more robust performance on unseen data.\n",
    " >Therefore, based on these insights and the evidence from the metrics, I chose the Part B model as the better generalizing model.\n",
    "\n",
    "\n",
    "\n"
   ]
  },
  {
   "cell_type": "markdown",
   "metadata": {},
   "source": [
    "### **Part 1.E: Report the Test Score of the Best Model**  \n",
    "Once you have selected the best model in **Part D**, report its **final test score** and answer the graded question.   \n"
   ]
  },
  {
   "cell_type": "code",
   "execution_count": 52,
   "metadata": {},
   "outputs": [
    {
     "name": "stdout",
     "output_type": "stream",
     "text": [
      "===== Part 1.E: Final Test Score =====\n",
      "Final Test RMSE: 29310.36 dollars\n"
     ]
    }
   ],
   "source": [
    "print(\"===== Part 1.E: Final Test Score =====\")\n",
    "print(f\"Final Test RMSE: {test_rmse_B:.2f} dollars\") \n",
    "\n",
    "final_test_score = test_rmse_B\n"
   ]
  },
  {
   "cell_type": "markdown",
   "metadata": {},
   "source": [
    "### Problem 1.E Graded Answer"
   ]
  },
  {
   "cell_type": "code",
   "execution_count": 53,
   "metadata": {},
   "outputs": [
    {
     "name": "stdout",
     "output_type": "stream",
     "text": [
      "a1e = $29,310.36\n"
     ]
    }
   ],
   "source": [
    "# TODO:  Assign the variable to the test RMSE of the model you selected in Part E\n",
    "\n",
    "a1e = test_rmse_B                                # Just to get it to run without error; your answer here  (be sure to use the RMSE)         \n",
    "\n",
    "print(f'a1e = ${a1e:,.2f}')              # Do not change this line, and DO NOT print anything else in this cell"
   ]
  },
  {
   "cell_type": "markdown",
   "metadata": {},
   "source": [
    "## Problem Two: Random Forests\n",
    "\n",
    "Now you will do the exact same thing as in Problem One, but for `RandomForestRegressor`. \n",
    "(Instructions are omitted, refer to them above.) "
   ]
  },
  {
   "cell_type": "markdown",
   "metadata": {},
   "source": [
    "### **Part 2.A: Iteratively Sweep Parameters and Visualize Results using `sweep_parameter(...)`**  "
   ]
  },
  {
   "cell_type": "code",
   "execution_count": 54,
   "metadata": {},
   "outputs": [],
   "source": [
    "# Define the parameters for the Random Forest\n",
    "\n",
    "Default_Parameters_Random_Forests = {\n",
    "    'n_estimators': 100,         # Number of base estimators in the ensemble\n",
    "    'max_features': None,        # Number of features to consider when looking for the best split \n",
    "    'max_depth'   : None,        # Limits the depth of each tree\n",
    "    'bootstrap'   : True,        # Use bootstrap samples when building estimators\n",
    "    'random_state': 42,          # Ensures reproducibility\n",
    "    'MSE_found'   : float('inf') # Used for tracking the best MSE during parameter sweeps, to record result of these parameter choices\n",
    "                                 # Initialized to inf in case want to use this to record best MSE found so far in a sequence of parameter choices\n",
    "}"
   ]
  },
  {
   "cell_type": "code",
   "execution_count": 55,
   "metadata": {},
   "outputs": [],
   "source": [
    "augmented_random_forests_result_list = []\n",
    "augmented_random_forests_result=[]\n",
    "Parameters_RF_list = []"
   ]
  },
  {
   "cell_type": "code",
   "execution_count": 56,
   "metadata": {},
   "outputs": [
    {
     "name": "stdout",
     "output_type": "stream",
     "text": [
      "Emulation mode: True\n",
      "Emulation mode parameters: {'n_estimators': 100, 'max_features': None, 'max_depth': None, 'bootstrap': True, 'random_state': 42, 'MSE_found': 900000882.8677709}\n"
     ]
    }
   ],
   "source": [
    "# 1. Sweep n_estimators:\n",
    "n_repeats=2\n",
    "part_name = '2.A'\n",
    "param = 'n_estimators'\n",
    "parameter_list = range(200,800,50)   \n",
    "default_parameters = Default_Parameters_Random_Forests.copy()\n",
    "model = RandomForestRegressor\n",
    "# Run bagging:\n",
    "random_forests_result = sweep_parameter(model=model, \n",
    "                                    Parameters=default_parameters,\n",
    "                                    param = param,\n",
    "                                    parameter_list = parameter_list,\n",
    "                                    X_train          = X_train,\n",
    "                                    y_train          = y_train,\n",
    "                                    X_test           = X_test,\n",
    "                                    y_test           = y_test,\n",
    "                                    verbose          = True,\n",
    "                                    show_rmse        = True,\n",
    "                                    n_iter_no_change = None,\n",
    "                                    delta            = 0.001,\n",
    "                                    n_jobs           = -1,\n",
    "                                    n_repeats        = n_repeats)"
   ]
  },
  {
   "cell_type": "code",
   "execution_count": 5,
   "metadata": {},
   "outputs": [
    {
     "ename": "NameError",
     "evalue": "name 'random_forests_result' is not defined",
     "output_type": "error",
     "traceback": [
      "\u001b[1;31m---------------------------------------------------------------------------\u001b[0m",
      "\u001b[1;31mNameError\u001b[0m                                 Traceback (most recent call last)",
      "Cell \u001b[1;32mIn[5], line 2\u001b[0m\n\u001b[0;32m      1\u001b[0m \u001b[38;5;66;03m# Set variables:\u001b[39;00m\n\u001b[1;32m----> 2\u001b[0m augmented_random_forests_result \u001b[38;5;241m=\u001b[39m \u001b[43mrandom_forests_result\u001b[49m\u001b[38;5;241m.\u001b[39mcopy()\n\u001b[0;32m      3\u001b[0m Parameters_BT \u001b[38;5;241m=\u001b[39m random_forests_result\u001b[38;5;241m.\u001b[39mcopy()\n\u001b[0;32m      4\u001b[0m augmented_random_forests_result[\u001b[38;5;124m'\u001b[39m\u001b[38;5;124mparam\u001b[39m\u001b[38;5;124m'\u001b[39m] \u001b[38;5;241m=\u001b[39m param\n",
      "\u001b[1;31mNameError\u001b[0m: name 'random_forests_result' is not defined"
     ]
    }
   ],
   "source": [
    "# Set variables:\n",
    "augmented_random_forests_result = random_forests_result.copy()\n",
    "Parameters_BT = random_forests_result.copy()\n",
    "augmented_random_forests_result['param'] = param\n",
    "augmented_random_forests_result['part_name'] = part_name\n",
    "augmented_random_forests_result['RMSE_found'] = np.sqrt(random_forests_result['MSE_found'])\n",
    "print(f\"augmented_random_forests_result: {augmented_random_forests_result}\")\n",
    "# Lists:\n",
    "Parameters_BT_list.append(Parameters_BT)\n",
    "augmented_random_forests_result_list.append(augmented_random_forests_result)\n",
    "log_message(f'{augmented_random_forests_result}')"
   ]
  },
  {
   "cell_type": "code",
   "execution_count": null,
   "metadata": {},
   "outputs": [
    {
     "ename": "NameError",
     "evalue": "name 'Parameters_BT' is not defined",
     "output_type": "error",
     "traceback": [
      "\u001b[1;31m---------------------------------------------------------------------------\u001b[0m",
      "\u001b[1;31mNameError\u001b[0m                                 Traceback (most recent call last)",
      "Cell \u001b[1;32mIn[4], line 5\u001b[0m\n\u001b[0;32m      3\u001b[0m param \u001b[38;5;241m=\u001b[39m \u001b[38;5;124m'\u001b[39m\u001b[38;5;124mmax_depth\u001b[39m\u001b[38;5;124m'\u001b[39m\n\u001b[0;32m      4\u001b[0m parameter_list \u001b[38;5;241m=\u001b[39m [\u001b[38;5;28;01mNone\u001b[39;00m,\u001b[38;5;28mrange\u001b[39m(\u001b[38;5;241m3\u001b[39m,\u001b[38;5;241m20\u001b[39m)]\n\u001b[1;32m----> 5\u001b[0m default_parameters \u001b[38;5;241m=\u001b[39m \u001b[43mParameters_BT\u001b[49m\u001b[38;5;241m.\u001b[39mcopy()\n\u001b[0;32m      6\u001b[0m model \u001b[38;5;241m=\u001b[39m RandomForestRegressor\n\u001b[0;32m      7\u001b[0m random_forests_result \u001b[38;5;241m=\u001b[39m sweep_parameter(model\u001b[38;5;241m=\u001b[39mmodel, \n\u001b[0;32m      8\u001b[0m                                     Parameters\u001b[38;5;241m=\u001b[39mdefault_parameters,\n\u001b[0;32m      9\u001b[0m                                     param \u001b[38;5;241m=\u001b[39m param,\n\u001b[1;32m   (...)\u001b[0m\n\u001b[0;32m     19\u001b[0m                                     n_jobs           \u001b[38;5;241m=\u001b[39m \u001b[38;5;241m-\u001b[39m\u001b[38;5;241m1\u001b[39m,\n\u001b[0;32m     20\u001b[0m                                     n_repeats        \u001b[38;5;241m=\u001b[39m n_repeats)\n",
      "\u001b[1;31mNameError\u001b[0m: name 'Parameters_BT' is not defined"
     ]
    }
   ],
   "source": [
    "# 2. Sweep max_depth:\n",
    "param = 'max_depth'\n",
    "parameter_list = range(3,20) # TODO: check with None !!!!\n",
    "default_parameters = Parameters_BT.copy()\n",
    "model = RandomForestRegressor\n",
    "random_forests_result = sweep_parameter(model=model, \n",
    "                                    Parameters=default_parameters,\n",
    "                                    param = param,\n",
    "                                    parameter_list = parameter_list,\n",
    "                                    X_train          = X_train,\n",
    "                                    y_train          = y_train,\n",
    "                                    X_test           = X_test,\n",
    "                                    y_test           = y_test,\n",
    "                                    verbose          = True,\n",
    "                                    show_rmse        = True,\n",
    "                                    n_iter_no_change = None,\n",
    "                                    delta            = 0.001,\n",
    "                                    n_jobs           = -1,\n",
    "                                    n_repeats        = n_repeats)"
   ]
  },
  {
   "cell_type": "code",
   "execution_count": 59,
   "metadata": {},
   "outputs": [
    {
     "name": "stdout",
     "output_type": "stream",
     "text": [
      "augmented_random_forests_result: {'n_estimators': 100, 'max_features': None, 'max_depth': None, 'bootstrap': True, 'random_state': 42, 'MSE_found': 900000412.4507413, 'param': 'max_samples', 'part_name': '2.A', 'RMSE_found': np.float64(30000.006874178234)}\n"
     ]
    }
   ],
   "source": [
    "# Set variables:\n",
    "augmented_random_forests_result = random_forests_result.copy()\n",
    "Parameters_BT = random_forests_result.copy()\n",
    "augmented_random_forests_result['param'] = param\n",
    "augmented_random_forests_result['part_name'] = part_name\n",
    "augmented_random_forests_result['RMSE_found'] = np.sqrt(random_forests_result['MSE_found'])\n",
    "print(f\"augmented_random_forests_result: {augmented_random_forests_result}\")\n",
    "# Lists:\n",
    "Parameters_BT_list.append(Parameters_BT)\n",
    "augmented_random_forests_result_list.append(augmented_random_forests_result)\n",
    "log_message(f'{augmented_random_forests_result}')"
   ]
  },
  {
   "cell_type": "code",
   "execution_count": 60,
   "metadata": {},
   "outputs": [
    {
     "name": "stdout",
     "output_type": "stream",
     "text": [
      "Emulation mode: True\n",
      "Emulation mode parameters: {'n_estimators': 100, 'max_features': None, 'max_depth': None, 'bootstrap': True, 'random_state': 42, 'MSE_found': 900000068.8705109}\n"
     ]
    }
   ],
   "source": [
    "# Your code here: \n",
    "# 3. Sweep max_features:\n",
    "model = BaggingRegressor\n",
    "param = 'max_features'\n",
    "parameter_list = range(1,74)\n",
    "default_parameters = Parameters_BT.copy()\n",
    "model = RandomForestRegressor\n",
    "random_forests_result = sweep_parameter(model=model, \n",
    "                                    Parameters=default_parameters,\n",
    "                                    param = param,\n",
    "                                    parameter_list = parameter_list,\n",
    "                                    X_train          = X_train,\n",
    "                                    y_train          = y_train,\n",
    "                                    X_test           = X_test,\n",
    "                                    y_test           = y_test,\n",
    "                                    verbose          = True,\n",
    "                                    show_rmse        = True,\n",
    "                                    n_iter_no_change = None,\n",
    "                                    delta            = 0.001,\n",
    "                                    n_jobs           = -1,\n",
    "                                    n_repeats        = n_repeats)"
   ]
  },
  {
   "cell_type": "code",
   "execution_count": 61,
   "metadata": {},
   "outputs": [
    {
     "name": "stdout",
     "output_type": "stream",
     "text": [
      "augmented_random_forests_result: {'n_estimators': 100, 'max_features': None, 'max_depth': None, 'bootstrap': True, 'random_state': 42, 'MSE_found': 900000068.8705109, 'param': 'max_features', 'part_name': '2.A', 'RMSE_found': np.float64(30000.001147841827)}\n"
     ]
    }
   ],
   "source": [
    "# Set variables:\n",
    "augmented_random_forests_result = random_forests_result.copy()\n",
    "Parameters_BT = random_forests_result.copy()\n",
    "augmented_random_forests_result['param'] = param\n",
    "augmented_random_forests_result['part_name'] = part_name\n",
    "augmented_random_forests_result['RMSE_found'] = np.sqrt(random_forests_result['MSE_found'])\n",
    "print(f\"augmented_random_forests_result: {augmented_random_forests_result}\")\n",
    "# Lists:\n",
    "Parameters_BT_list.append(Parameters_BT)\n",
    "augmented_random_forests_result_list.append(augmented_random_forests_result)\n",
    "log_message(f'{augmented_random_forests_result}')"
   ]
  },
  {
   "cell_type": "code",
   "execution_count": 62,
   "metadata": {},
   "outputs": [
    {
     "name": "stdout",
     "output_type": "stream",
     "text": [
      "Emulation mode: True\n",
      "Emulation mode parameters: {'n_estimators': 100, 'max_features': None, 'max_depth': None, 'bootstrap': True, 'random_state': 42, 'MSE_found': 900000885.1472244, 'max_samples': None}\n"
     ]
    }
   ],
   "source": [
    "# Your code here: \n",
    "# 3. Sweep bootstrap:\n",
    "param = 'bootstrap'\n",
    "parameter_list = [True,False] \n",
    "default_parameters = Parameters_BT.copy()\n",
    "default_parameters['max_samples'] = None # ValueError: `max_sample` cannot be set if `bootstrap=False`. Either switch to `bootstrap=True` or set `max_sample=None`.\n",
    "model = RandomForestRegressor\n",
    "random_forests_result = sweep_parameter(model=model, \n",
    "                                    Parameters=default_parameters,\n",
    "                                    param = param,\n",
    "                                    parameter_list = parameter_list,\n",
    "                                    X_train          = X_train,\n",
    "                                    y_train          = y_train,\n",
    "                                    X_test           = X_test,\n",
    "                                    y_test           = y_test,\n",
    "                                    verbose          = True,\n",
    "                                    show_rmse        = True,\n",
    "                                    n_iter_no_change = None,\n",
    "                                    delta            = 0.001,\n",
    "                                    n_jobs           = -1,\n",
    "                                    n_repeats        = n_repeats)"
   ]
  },
  {
   "cell_type": "code",
   "execution_count": 63,
   "metadata": {},
   "outputs": [
    {
     "name": "stdout",
     "output_type": "stream",
     "text": [
      "augmented_random_forests_result: {'n_estimators': 100, 'max_features': None, 'max_depth': None, 'bootstrap': True, 'random_state': 42, 'MSE_found': 900000885.1472244, 'max_samples': None, 'param': 'bootstrap', 'part_name': '2.A', 'RMSE_found': np.float64(30000.01475245011)}\n"
     ]
    }
   ],
   "source": [
    "# Set variables:\n",
    "augmented_random_forests_result = random_forests_result.copy()\n",
    "Parameters_BT = random_forests_result.copy()\n",
    "augmented_random_forests_result['param'] = param\n",
    "augmented_random_forests_result['part_name'] = part_name\n",
    "augmented_random_forests_result['RMSE_found'] = np.sqrt(random_forests_result['MSE_found'])\n",
    "print(f\"augmented_random_forests_result: {augmented_random_forests_result}\")\n",
    "# Lists:\n",
    "Parameters_BT_list.append(Parameters_BT)\n",
    "augmented_random_forests_result_list.append(augmented_random_forests_result)\n",
    "log_message(f'{augmented_random_forests_result}')"
   ]
  },
  {
   "cell_type": "code",
   "execution_count": 64,
   "metadata": {},
   "outputs": [
    {
     "data": {
      "text/html": [
       "<div>\n",
       "<style scoped>\n",
       "    .dataframe tbody tr th:only-of-type {\n",
       "        vertical-align: middle;\n",
       "    }\n",
       "\n",
       "    .dataframe tbody tr th {\n",
       "        vertical-align: top;\n",
       "    }\n",
       "\n",
       "    .dataframe thead th {\n",
       "        text-align: right;\n",
       "    }\n",
       "</style>\n",
       "<table border=\"1\" class=\"dataframe\">\n",
       "  <thead>\n",
       "    <tr style=\"text-align: right;\">\n",
       "      <th></th>\n",
       "      <th>n_estimators</th>\n",
       "      <th>max_features</th>\n",
       "      <th>max_depth</th>\n",
       "      <th>bootstrap</th>\n",
       "      <th>random_state</th>\n",
       "      <th>MSE_found</th>\n",
       "      <th>param</th>\n",
       "      <th>part_name</th>\n",
       "      <th>RMSE_found</th>\n",
       "      <th>max_samples</th>\n",
       "    </tr>\n",
       "  </thead>\n",
       "  <tbody>\n",
       "    <tr>\n",
       "      <th>0</th>\n",
       "      <td>100</td>\n",
       "      <td>None</td>\n",
       "      <td>None</td>\n",
       "      <td>True</td>\n",
       "      <td>42</td>\n",
       "      <td>9.000009e+08</td>\n",
       "      <td>n_estimators</td>\n",
       "      <td>2.A</td>\n",
       "      <td>30000.014714</td>\n",
       "      <td>NaN</td>\n",
       "    </tr>\n",
       "    <tr>\n",
       "      <th>1</th>\n",
       "      <td>100</td>\n",
       "      <td>None</td>\n",
       "      <td>None</td>\n",
       "      <td>True</td>\n",
       "      <td>42</td>\n",
       "      <td>9.000004e+08</td>\n",
       "      <td>max_samples</td>\n",
       "      <td>2.A</td>\n",
       "      <td>30000.006874</td>\n",
       "      <td>NaN</td>\n",
       "    </tr>\n",
       "    <tr>\n",
       "      <th>2</th>\n",
       "      <td>100</td>\n",
       "      <td>None</td>\n",
       "      <td>None</td>\n",
       "      <td>True</td>\n",
       "      <td>42</td>\n",
       "      <td>9.000001e+08</td>\n",
       "      <td>max_features</td>\n",
       "      <td>2.A</td>\n",
       "      <td>30000.001148</td>\n",
       "      <td>NaN</td>\n",
       "    </tr>\n",
       "    <tr>\n",
       "      <th>3</th>\n",
       "      <td>100</td>\n",
       "      <td>None</td>\n",
       "      <td>None</td>\n",
       "      <td>True</td>\n",
       "      <td>42</td>\n",
       "      <td>9.000009e+08</td>\n",
       "      <td>bootstrap</td>\n",
       "      <td>2.A</td>\n",
       "      <td>30000.014752</td>\n",
       "      <td>NaN</td>\n",
       "    </tr>\n",
       "  </tbody>\n",
       "</table>\n",
       "</div>"
      ],
      "text/plain": [
       "   n_estimators max_features max_depth  bootstrap  random_state     MSE_found  \\\n",
       "0           100         None      None       True            42  9.000009e+08   \n",
       "1           100         None      None       True            42  9.000004e+08   \n",
       "2           100         None      None       True            42  9.000001e+08   \n",
       "3           100         None      None       True            42  9.000009e+08   \n",
       "\n",
       "          param part_name    RMSE_found  max_samples  \n",
       "0  n_estimators       2.A  30000.014714          NaN  \n",
       "1   max_samples       2.A  30000.006874          NaN  \n",
       "2  max_features       2.A  30000.001148          NaN  \n",
       "3     bootstrap       2.A  30000.014752          NaN  "
      ]
     },
     "execution_count": 64,
     "metadata": {},
     "output_type": "execute_result"
    }
   ],
   "source": [
    "p2a_Parameters_BT_df = pd.DataFrame(Parameters_BT_list)\n",
    "\n",
    "p2a_augmented_random_forests_result_df = pd.DataFrame(augmented_random_forests_result_list)\n",
    "p2a_augmented_random_forests_result_df"
   ]
  },
  {
   "cell_type": "code",
   "execution_count": 65,
   "metadata": {},
   "outputs": [
    {
     "name": "stdout",
     "output_type": "stream",
     "text": [
      "2\n"
     ]
    },
    {
     "data": {
      "text/plain": [
       "np.float64(30000.001147841827)"
      ]
     },
     "execution_count": 65,
     "metadata": {},
     "output_type": "execute_result"
    }
   ],
   "source": [
    "print(p2a_augmented_random_forests_result_df['RMSE_found'].idxmin())\n",
    "RMSE_part2A = p2a_augmented_random_forests_result_df['RMSE_found'].min()\n",
    "\n",
    "Parameters_BT_p2a = Parameters_BT_list[p2a_Parameters_BT_df['MSE_found'].idxmin()].copy()\n",
    "\n",
    "RMSE_part2A"
   ]
  },
  {
   "cell_type": "markdown",
   "metadata": {},
   "source": [
    "### Problem 2.A Graded Answer"
   ]
  },
  {
   "cell_type": "code",
   "execution_count": 66,
   "metadata": {},
   "outputs": [
    {
     "name": "stdout",
     "output_type": "stream",
     "text": [
      "a2a = $30,000.00\n"
     ]
    }
   ],
   "source": [
    "# TODO:  Set the variable to best CV RMSE score found after Part 2.A\n",
    "\n",
    "a2a = RMSE_part2A                        # Just to get it to run without error; your answer here (remember to use the RMSE)         \n",
    "\n",
    "print(f'a2a = ${a2a:,.2f}')              # Do not change this line, and DO NOT print anything else in this cell"
   ]
  },
  {
   "cell_type": "markdown",
   "metadata": {},
   "source": [
    "### **Part 2.B: Refine Parameters for Model Stability**  \n"
   ]
  },
  {
   "cell_type": "code",
   "execution_count": 67,
   "metadata": {},
   "outputs": [
    {
     "name": "stdout",
     "output_type": "stream",
     "text": [
      "Parameters_BT: {'n_estimators': 100, 'max_features': None, 'max_depth': None, 'bootstrap': True, 'random_state': 42, 'MSE_found': 900000068.8705109}\n"
     ]
    }
   ],
   "source": [
    "# Get best parameters from Part A:\n",
    "Parameters_BT = Parameters_BT_list[p2a_Parameters_BT_df['MSE_found'].idxmin()].copy()\n",
    "print(f\"Parameters_BT: {Parameters_BT}\")\n",
    "Parameters_BT_list=[]"
   ]
  },
  {
   "cell_type": "code",
   "execution_count": 68,
   "metadata": {},
   "outputs": [
    {
     "name": "stdout",
     "output_type": "stream",
     "text": [
      "Emulation mode: True\n",
      "Emulation mode parameters: {'n_estimators': 100, 'max_features': None, 'max_depth': None, 'bootstrap': True, 'random_state': 42, 'MSE_found': 900000221.2789055}\n"
     ]
    }
   ],
   "source": [
    "# Your code here\n",
    "# 1. Sweep n_estimators:\n",
    "part_name = '2.B'\n",
    "param = 'n_estimators'\n",
    "parameter_list = range(650,1000,10)   \n",
    "default_parameters = Parameters_BT.copy()\n",
    "model = RandomForestRegressor\n",
    "# Run bagging:\n",
    "random_forests_result = sweep_parameter(model=model, \n",
    "                                    Parameters=default_parameters,\n",
    "                                    param = param,\n",
    "                                    parameter_list = parameter_list,\n",
    "                                    X_train          = X_train,\n",
    "                                    y_train          = y_train,\n",
    "                                    X_test           = X_test,\n",
    "                                    y_test           = y_test,\n",
    "                                    verbose          = True,\n",
    "                                    show_rmse        = True,\n",
    "                                    n_iter_no_change = None,\n",
    "                                    delta            = 0.001,\n",
    "                                    n_jobs           = -1,\n",
    "                                    n_repeats        = n_repeats)\n"
   ]
  },
  {
   "cell_type": "code",
   "execution_count": 69,
   "metadata": {},
   "outputs": [
    {
     "name": "stdout",
     "output_type": "stream",
     "text": [
      "augmented_random_forests_result: {'n_estimators': 100, 'max_features': None, 'max_depth': None, 'bootstrap': True, 'random_state': 42, 'MSE_found': 900000221.2789055, 'param': 'n_estimators', 'part_name': '2.B', 'RMSE_found': np.float64(30000.00368798153)}\n"
     ]
    }
   ],
   "source": [
    "# Set variables:\n",
    "augmented_random_forests_result = random_forests_result.copy()\n",
    "Parameters_BT = random_forests_result.copy()\n",
    "augmented_random_forests_result['param'] = param\n",
    "augmented_random_forests_result['part_name'] = part_name\n",
    "augmented_random_forests_result['RMSE_found'] = np.sqrt(random_forests_result['MSE_found'])\n",
    "print(f\"augmented_random_forests_result: {augmented_random_forests_result}\")\n",
    "# Lists:\n",
    "Parameters_BT_list.append(Parameters_BT)\n",
    "augmented_random_forests_result_list.append(augmented_random_forests_result)\n",
    "log_message(f'{augmented_random_forests_result}')"
   ]
  },
  {
   "cell_type": "code",
   "execution_count": null,
   "metadata": {},
   "outputs": [
    {
     "name": "stdout",
     "output_type": "stream",
     "text": [
      "Emulation mode: True\n",
      "Emulation mode parameters: {'n_estimators': 100, 'max_features': None, 'max_depth': None, 'bootstrap': True, 'random_state': 42, 'MSE_found': 900000846.6929544}\n"
     ]
    }
   ],
   "source": [
    "# 2. Sweep max_depth:\n",
    "param = 'max_depth'\n",
    "parameter_list = range(3,20) # TODO: check with None !!!!\n",
    "default_parameters = Parameters_BT.copy()\n",
    "model = RandomForestRegressor\n",
    "random_forests_result = sweep_parameter(model=model, \n",
    "                                    Parameters=default_parameters,\n",
    "                                    param = param,\n",
    "                                    parameter_list = parameter_list,\n",
    "                                    X_train          = X_train,\n",
    "                                    y_train          = y_train,\n",
    "                                    X_test           = X_test,\n",
    "                                    y_test           = y_test,\n",
    "                                    verbose          = True,\n",
    "                                    show_rmse        = True,\n",
    "                                    n_iter_no_change = None,\n",
    "                                    delta            = 0.001,\n",
    "                                    n_jobs           = -1,\n",
    "                                    n_repeats        = n_repeats)"
   ]
  },
  {
   "cell_type": "code",
   "execution_count": 71,
   "metadata": {},
   "outputs": [
    {
     "name": "stdout",
     "output_type": "stream",
     "text": [
      "augmented_random_forests_result: {'n_estimators': 100, 'max_features': None, 'max_depth': None, 'bootstrap': True, 'random_state': 42, 'MSE_found': 900000846.6929544, 'param': 'max_samples', 'part_name': '2.B', 'RMSE_found': np.float64(30000.014111545923)}\n"
     ]
    }
   ],
   "source": [
    "# Set variables:\n",
    "augmented_random_forests_result = random_forests_result.copy()\n",
    "Parameters_BT = random_forests_result.copy()\n",
    "augmented_random_forests_result['param'] = param\n",
    "augmented_random_forests_result['part_name'] = part_name\n",
    "augmented_random_forests_result['RMSE_found'] = np.sqrt(random_forests_result['MSE_found'])\n",
    "print(f\"augmented_random_forests_result: {augmented_random_forests_result}\")\n",
    "# Lists:\n",
    "Parameters_BT_list.append(Parameters_BT)\n",
    "augmented_random_forests_result_list.append(augmented_random_forests_result)\n",
    "log_message(f'{augmented_random_forests_result}')"
   ]
  },
  {
   "cell_type": "code",
   "execution_count": 72,
   "metadata": {},
   "outputs": [
    {
     "name": "stdout",
     "output_type": "stream",
     "text": [
      "Emulation mode: True\n",
      "Emulation mode parameters: {'n_estimators': 100, 'max_features': None, 'max_depth': None, 'bootstrap': True, 'random_state': 42, 'MSE_found': 900000324.2859504}\n"
     ]
    }
   ],
   "source": [
    "# Your code here: \n",
    "# 3. Sweep max_features:\n",
    "param = 'max_features'\n",
    "parameter_list = range(15,30)\n",
    "default_parameters = Parameters_BT.copy()\n",
    "model = RandomForestRegressor\n",
    "random_forests_result = sweep_parameter(model=model, \n",
    "                                    Parameters=default_parameters,\n",
    "                                    param = param,\n",
    "                                    parameter_list = parameter_list,\n",
    "                                    X_train          = X_train,\n",
    "                                    y_train          = y_train,\n",
    "                                    X_test           = X_test,\n",
    "                                    y_test           = y_test,\n",
    "                                    verbose          = True,\n",
    "                                    show_rmse        = True,\n",
    "                                    n_iter_no_change = None,\n",
    "                                    delta            = 0.001,\n",
    "                                    n_jobs           = -1,\n",
    "                                    n_repeats        = n_repeats)"
   ]
  },
  {
   "cell_type": "code",
   "execution_count": 73,
   "metadata": {},
   "outputs": [
    {
     "name": "stdout",
     "output_type": "stream",
     "text": [
      "augmented_random_forests_result: {'n_estimators': 100, 'max_features': None, 'max_depth': None, 'bootstrap': True, 'random_state': 42, 'MSE_found': 900000324.2859504, 'param': 'max_features', 'part_name': '2.B', 'RMSE_found': np.float64(30000.005404765354)}\n"
     ]
    }
   ],
   "source": [
    "# Set variables:\n",
    "augmented_random_forests_result = random_forests_result.copy()\n",
    "Parameters_BT = random_forests_result.copy()\n",
    "augmented_random_forests_result['param'] = param\n",
    "augmented_random_forests_result['part_name'] = part_name\n",
    "augmented_random_forests_result['RMSE_found'] = np.sqrt(random_forests_result['MSE_found'])\n",
    "print(f\"augmented_random_forests_result: {augmented_random_forests_result}\")\n",
    "# Lists:\n",
    "Parameters_BT_list.append(Parameters_BT)\n",
    "augmented_random_forests_result_list.append(augmented_random_forests_result)\n",
    "log_message(f'{augmented_random_forests_result}')"
   ]
  },
  {
   "cell_type": "code",
   "execution_count": 74,
   "metadata": {},
   "outputs": [
    {
     "name": "stdout",
     "output_type": "stream",
     "text": [
      "Emulation mode: True\n",
      "Emulation mode parameters: {'n_estimators': 100, 'max_features': None, 'max_depth': None, 'bootstrap': True, 'random_state': 42, 'MSE_found': 900000724.4993745, 'max_samples': None}\n"
     ]
    }
   ],
   "source": [
    "# Your code here: \n",
    "# 3. Sweep bootstrap:\n",
    "param = 'bootstrap'\n",
    "parameter_list = [True,False] \n",
    "default_parameters = Parameters_BT.copy()\n",
    "default_parameters['max_samples'] = None # ValueError: `max_sample` cannot be set if `bootstrap=False`. Either switch to `bootstrap=True` or set `max_sample=None`.\n",
    "model = RandomForestRegressor\n",
    "random_forests_result = sweep_parameter(model=model, \n",
    "                                    Parameters=default_parameters,\n",
    "                                    param = param,\n",
    "                                    parameter_list = parameter_list,\n",
    "                                    X_train          = X_train,\n",
    "                                    y_train          = y_train,\n",
    "                                    X_test           = X_test,\n",
    "                                    y_test           = y_test,\n",
    "                                    verbose          = True,\n",
    "                                    show_rmse        = True,\n",
    "                                    n_iter_no_change = None,\n",
    "                                    delta            = 0.001,\n",
    "                                    n_jobs           = -1,\n",
    "                                    n_repeats        = n_repeats)"
   ]
  },
  {
   "cell_type": "code",
   "execution_count": 75,
   "metadata": {},
   "outputs": [
    {
     "name": "stdout",
     "output_type": "stream",
     "text": [
      "augmented_random_forests_result: {'n_estimators': 100, 'max_features': None, 'max_depth': None, 'bootstrap': True, 'random_state': 42, 'MSE_found': 900000724.4993745, 'max_samples': None, 'param': 'bootstrap', 'part_name': '2.B', 'RMSE_found': np.float64(30000.012074987146)}\n"
     ]
    }
   ],
   "source": [
    "# Set variables:\n",
    "augmented_random_forests_result = random_forests_result.copy()\n",
    "Parameters_BT = random_forests_result.copy()\n",
    "augmented_random_forests_result['param'] = param\n",
    "augmented_random_forests_result['part_name'] = part_name\n",
    "augmented_random_forests_result['RMSE_found'] = np.sqrt(random_forests_result['MSE_found'])\n",
    "print(f\"augmented_random_forests_result: {augmented_random_forests_result}\")\n",
    "# Lists:\n",
    "Parameters_BT_list.append(Parameters_BT)\n",
    "augmented_random_forests_result_list.append(augmented_random_forests_result)\n",
    "log_message(f'{augmented_random_forests_result}')"
   ]
  },
  {
   "cell_type": "code",
   "execution_count": 76,
   "metadata": {},
   "outputs": [
    {
     "data": {
      "text/html": [
       "<div>\n",
       "<style scoped>\n",
       "    .dataframe tbody tr th:only-of-type {\n",
       "        vertical-align: middle;\n",
       "    }\n",
       "\n",
       "    .dataframe tbody tr th {\n",
       "        vertical-align: top;\n",
       "    }\n",
       "\n",
       "    .dataframe thead th {\n",
       "        text-align: right;\n",
       "    }\n",
       "</style>\n",
       "<table border=\"1\" class=\"dataframe\">\n",
       "  <thead>\n",
       "    <tr style=\"text-align: right;\">\n",
       "      <th></th>\n",
       "      <th>n_estimators</th>\n",
       "      <th>max_features</th>\n",
       "      <th>max_depth</th>\n",
       "      <th>bootstrap</th>\n",
       "      <th>random_state</th>\n",
       "      <th>MSE_found</th>\n",
       "      <th>param</th>\n",
       "      <th>part_name</th>\n",
       "      <th>RMSE_found</th>\n",
       "      <th>max_samples</th>\n",
       "    </tr>\n",
       "  </thead>\n",
       "  <tbody>\n",
       "    <tr>\n",
       "      <th>0</th>\n",
       "      <td>100</td>\n",
       "      <td>None</td>\n",
       "      <td>None</td>\n",
       "      <td>True</td>\n",
       "      <td>42</td>\n",
       "      <td>9.000009e+08</td>\n",
       "      <td>n_estimators</td>\n",
       "      <td>2.A</td>\n",
       "      <td>30000.014714</td>\n",
       "      <td>NaN</td>\n",
       "    </tr>\n",
       "    <tr>\n",
       "      <th>1</th>\n",
       "      <td>100</td>\n",
       "      <td>None</td>\n",
       "      <td>None</td>\n",
       "      <td>True</td>\n",
       "      <td>42</td>\n",
       "      <td>9.000004e+08</td>\n",
       "      <td>max_samples</td>\n",
       "      <td>2.A</td>\n",
       "      <td>30000.006874</td>\n",
       "      <td>NaN</td>\n",
       "    </tr>\n",
       "    <tr>\n",
       "      <th>2</th>\n",
       "      <td>100</td>\n",
       "      <td>None</td>\n",
       "      <td>None</td>\n",
       "      <td>True</td>\n",
       "      <td>42</td>\n",
       "      <td>9.000001e+08</td>\n",
       "      <td>max_features</td>\n",
       "      <td>2.A</td>\n",
       "      <td>30000.001148</td>\n",
       "      <td>NaN</td>\n",
       "    </tr>\n",
       "    <tr>\n",
       "      <th>3</th>\n",
       "      <td>100</td>\n",
       "      <td>None</td>\n",
       "      <td>None</td>\n",
       "      <td>True</td>\n",
       "      <td>42</td>\n",
       "      <td>9.000009e+08</td>\n",
       "      <td>bootstrap</td>\n",
       "      <td>2.A</td>\n",
       "      <td>30000.014752</td>\n",
       "      <td>NaN</td>\n",
       "    </tr>\n",
       "    <tr>\n",
       "      <th>4</th>\n",
       "      <td>100</td>\n",
       "      <td>None</td>\n",
       "      <td>None</td>\n",
       "      <td>True</td>\n",
       "      <td>42</td>\n",
       "      <td>9.000002e+08</td>\n",
       "      <td>n_estimators</td>\n",
       "      <td>2.B</td>\n",
       "      <td>30000.003688</td>\n",
       "      <td>NaN</td>\n",
       "    </tr>\n",
       "    <tr>\n",
       "      <th>5</th>\n",
       "      <td>100</td>\n",
       "      <td>None</td>\n",
       "      <td>None</td>\n",
       "      <td>True</td>\n",
       "      <td>42</td>\n",
       "      <td>9.000008e+08</td>\n",
       "      <td>max_samples</td>\n",
       "      <td>2.B</td>\n",
       "      <td>30000.014112</td>\n",
       "      <td>NaN</td>\n",
       "    </tr>\n",
       "    <tr>\n",
       "      <th>6</th>\n",
       "      <td>100</td>\n",
       "      <td>None</td>\n",
       "      <td>None</td>\n",
       "      <td>True</td>\n",
       "      <td>42</td>\n",
       "      <td>9.000003e+08</td>\n",
       "      <td>max_features</td>\n",
       "      <td>2.B</td>\n",
       "      <td>30000.005405</td>\n",
       "      <td>NaN</td>\n",
       "    </tr>\n",
       "    <tr>\n",
       "      <th>7</th>\n",
       "      <td>100</td>\n",
       "      <td>None</td>\n",
       "      <td>None</td>\n",
       "      <td>True</td>\n",
       "      <td>42</td>\n",
       "      <td>9.000007e+08</td>\n",
       "      <td>bootstrap</td>\n",
       "      <td>2.B</td>\n",
       "      <td>30000.012075</td>\n",
       "      <td>NaN</td>\n",
       "    </tr>\n",
       "  </tbody>\n",
       "</table>\n",
       "</div>"
      ],
      "text/plain": [
       "   n_estimators max_features max_depth  bootstrap  random_state     MSE_found  \\\n",
       "0           100         None      None       True            42  9.000009e+08   \n",
       "1           100         None      None       True            42  9.000004e+08   \n",
       "2           100         None      None       True            42  9.000001e+08   \n",
       "3           100         None      None       True            42  9.000009e+08   \n",
       "4           100         None      None       True            42  9.000002e+08   \n",
       "5           100         None      None       True            42  9.000008e+08   \n",
       "6           100         None      None       True            42  9.000003e+08   \n",
       "7           100         None      None       True            42  9.000007e+08   \n",
       "\n",
       "          param part_name    RMSE_found  max_samples  \n",
       "0  n_estimators       2.A  30000.014714          NaN  \n",
       "1   max_samples       2.A  30000.006874          NaN  \n",
       "2  max_features       2.A  30000.001148          NaN  \n",
       "3     bootstrap       2.A  30000.014752          NaN  \n",
       "4  n_estimators       2.B  30000.003688          NaN  \n",
       "5   max_samples       2.B  30000.014112          NaN  \n",
       "6  max_features       2.B  30000.005405          NaN  \n",
       "7     bootstrap       2.B  30000.012075          NaN  "
      ]
     },
     "execution_count": 76,
     "metadata": {},
     "output_type": "execute_result"
    }
   ],
   "source": [
    "p2b_augmented_random_forests_result_df = pd.DataFrame(augmented_random_forests_result_list)\n",
    "p2b_augmented_random_forests_result_df"
   ]
  },
  {
   "cell_type": "code",
   "execution_count": 77,
   "metadata": {},
   "outputs": [
    {
     "name": "stdout",
     "output_type": "stream",
     "text": [
      "2\n",
      "Parameters_BT_p2b: {'n_estimators': 100, 'max_features': None, 'max_depth': None, 'bootstrap': True, 'random_state': 42, 'MSE_found': 900000324.2859504}\n"
     ]
    },
    {
     "data": {
      "text/plain": [
       "np.float64(30000.001147841827)"
      ]
     },
     "execution_count": 77,
     "metadata": {},
     "output_type": "execute_result"
    }
   ],
   "source": [
    "print(p2b_augmented_random_forests_result_df['RMSE_found'].idxmin())\n",
    "Parameters_BT_p2b = Parameters_BT_list[p2b_augmented_random_forests_result_df['RMSE_found'].idxmin()].copy()\n",
    "RMSE_part2B = p2b_augmented_random_forests_result_df['RMSE_found'].min()\n",
    "\n",
    "print(f\"Parameters_BT_p2b: {Parameters_BT_p2b}\")\n",
    "\n",
    "RMSE_part2B"
   ]
  },
  {
   "cell_type": "markdown",
   "metadata": {},
   "source": [
    "### Problem 2.B Graded Answer"
   ]
  },
  {
   "cell_type": "code",
   "execution_count": 78,
   "metadata": {},
   "outputs": [
    {
     "name": "stdout",
     "output_type": "stream",
     "text": [
      "a2b = $30,000.00\n"
     ]
    }
   ],
   "source": [
    "# TODO:  Set the variable to best CV RMSE score found after Part 2.B (it may not be different than Part 2.A)\n",
    "\n",
    "a2b = RMSE_part2B                                # Just to get it to run without error; your answer here           \n",
    "\n",
    "print(f'a2b = ${a2b:,.2f}')              # Do not change this line, and DO NOT print anything else in this cell"
   ]
  },
  {
   "cell_type": "markdown",
   "metadata": {},
   "source": [
    "### **Part 2.C: Use `GridSearchCV` for Exhaustive Search**  "
   ]
  },
  {
   "cell_type": "code",
   "execution_count": 79,
   "metadata": {},
   "outputs": [
    {
     "name": "stderr",
     "output_type": "stream",
     "text": [
      "d:\\Projects\\BU\\Module-3-Assignments\\.venv\\Lib\\site-packages\\numpy\\ma\\core.py:2892: RuntimeWarning: invalid value encountered in cast\n",
      "  _data = np.array(data, dtype=dtype, copy=copy,\n"
     ]
    },
    {
     "name": "stdout",
     "output_type": "stream",
     "text": [
      "\n",
      "Search Results (Top 5):\n",
      "\n",
      " n_estimators  min_samples_leaf  max_samples  mean_cv_score  std_cv_score  mean_train_score  std_train_score\n",
      "          690                 1           21   5.815376e+08  1.009917e+08          0.018595         0.025082\n",
      "          680                 1           21   5.815578e+08  1.010075e+08          0.019146         0.025826\n",
      "          700                 1           21   5.818803e+08  1.013984e+08          0.018068         0.024371\n",
      "          710                 1           21   5.824861e+08  1.018219e+08          0.017562         0.023689\n",
      "          710                 1           24   5.854525e+08  1.015582e+08          0.001693         0.003386\n",
      "\n",
      "Best Parameters: {'bootstrap': np.False_, 'max_features': 21, 'max_samples': None, 'min_samples_leaf': 1, 'n_estimators': 690}\n",
      "Best CV MSE: 581537604.0871\n",
      "Test MSE:    680038074.6982\n",
      "Execution Time: 00:02:16\n"
     ]
    }
   ],
   "source": [
    "# Your code here -- Add as many code cells as necessary\n",
    "# {'n_estimators': 690, 'max_features': 21, 'max_depth': None, 'bootstrap': False, 'random_state': 42, 'max_samples': None}\n",
    "\n",
    "# Run GridSearchCV\n",
    "\n",
    "# Record start time\n",
    "start = time.time()\n",
    "\n",
    "# Define the model\n",
    "rf_model = RandomForestRegressor(random_state=random_state)\n",
    "\n",
    "# Define the parameter grid\n",
    "param_dist = {\n",
    "    'n_estimators': range(680,720,10),          # < - set  here\n",
    "    'bootstrap': np.array([False]),         # < - set  here\n",
    "    'max_samples' : [None],                 # < - set  here\n",
    "    'max_features': range(20,25),\n",
    "    'min_samples_leaf': [1],\n",
    "}\n",
    "\n",
    "# Use GridSearchCV to find the best parameters\n",
    "search = GridSearchCV(\n",
    "    estimator=rf_model,\n",
    "    param_grid=param_dist,\n",
    "    scoring='neg_mean_squared_error',  # MSE but negated for maximization by GridSearchCV\n",
    "    cv=5,  # Number of folds for cross-validation -- Reduce this if efficiency is an issue\n",
    "    n_jobs=-1,  # Use all available cores\n",
    "    return_train_score=True\n",
    ")\n",
    "\n",
    "# Fit the GridSearchCV\n",
    "search.fit(X_train, y_train)  \n",
    "\n",
    "# Extract results into a DataFrame\n",
    "results = pd.DataFrame(search.cv_results_)\n",
    "\n",
    "# Select relevant columns for readability\n",
    "results = results[[\n",
    "    'param_n_estimators',\n",
    "    'param_min_samples_leaf',\n",
    "    'param_max_features',\n",
    "    'mean_test_score',\n",
    "    'std_test_score',\n",
    "    'mean_train_score',  # Include training score\n",
    "    'std_train_score',   # Include standard deviation of training score\n",
    "    'rank_test_score'\n",
    "]]\n",
    "\n",
    "# Convert negative MSE to positive\n",
    "results['mean_test_score'] = -results['mean_test_score']\n",
    "results['mean_train_score'] = -results['mean_train_score']\n",
    "\n",
    "# Sort by rank (best scores first)\n",
    "results = results.sort_values(by='rank_test_score')\n",
    "\n",
    "# Rename columns for printing only\n",
    "renamed_results = results.rename(\n",
    "    columns={\n",
    "        'param_n_estimators': 'n_estimators',\n",
    "        'param_min_samples_leaf': 'min_samples_leaf',\n",
    "        'param_max_features': 'max_samples',\n",
    "        'mean_test_score': 'mean_cv_score',\n",
    "        'std_test_score': 'std_cv_score',\n",
    "        'mean_train_score': 'mean_train_score',\n",
    "        'std_train_score': 'std_train_score'\n",
    "    }\n",
    ").drop(columns=['rank_test_score'])  # Drop the rank column for readability\n",
    "\n",
    "# Print the results as a table\n",
    "print(\"\\nSearch Results (Top 5):\\n\")\n",
    "print(renamed_results.head(5).to_string(index=False))  # Show the top 5 results with new headers\n",
    "\n",
    "# Best parameters and test performance\n",
    "print(f\"\\nBest Parameters: {search.best_params_}\")\n",
    "print(f\"Best CV MSE: {-search.best_score_:.4f}\")\n",
    "\n",
    "# Evaluate on the test set\n",
    "y_pred_rf = search.best_estimator_.predict(X_test)\n",
    "test_mse = mean_squared_error(y_test, y_pred_rf)\n",
    "\n",
    "print(f\"Test MSE:    {test_mse:.4f}\")\n",
    "\n",
    "# Record end time and execution time\n",
    "end = time.time()\n",
    "print(\"Execution Time:\", time.strftime(\"%H:%M:%S\", time.gmtime(end-start)))"
   ]
  },
  {
   "cell_type": "code",
   "execution_count": 80,
   "metadata": {},
   "outputs": [
    {
     "name": "stdout",
     "output_type": "stream",
     "text": [
      "Best CV RMSE: 24115.0908\n",
      "RMSE_part2A: 30000.001147841827\n",
      "RMSE_part2B: 30000.001147841827\n",
      "RMSE_part2C: 24115.090795746888\n",
      "Success!: RMSE_part2C: 24,115.09 is less than RMSE_part1B: 30,000.00\n"
     ]
    }
   ],
   "source": [
    "print(f\"Best CV RMSE: {np.sqrt(-search.best_score_):.4f}\")\n",
    "Parameters_BT_p2c = search.best_params_\n",
    "RMSE_part2C = np.sqrt(-search.best_score_)\n",
    "\n",
    "print(f\"RMSE_part2A: {RMSE_part2A}\")\n",
    "print(f\"RMSE_part2B: {RMSE_part2B}\")\n",
    "print(f\"RMSE_part2C: {RMSE_part2C}\")\n",
    "\n",
    "if RMSE_part2C < RMSE_part2B:\n",
    "    print(f\"Success!: RMSE_part2C: {RMSE_part2C:,.2f} is less than RMSE_part1B: {RMSE_part2B:,.2f}\")\n",
    "else:\n",
    "    print(f\"Failure!: RMSE_part2B: {RMSE_part2C:,.2f} is greater than RMSE_part2B: {RMSE_part2B:,.2f}\")"
   ]
  },
  {
   "cell_type": "markdown",
   "metadata": {},
   "source": [
    "### Problem 2.C Graded Answer"
   ]
  },
  {
   "cell_type": "code",
   "execution_count": 81,
   "metadata": {},
   "outputs": [
    {
     "name": "stdout",
     "output_type": "stream",
     "text": [
      "a2c = $24,115.09\n"
     ]
    }
   ],
   "source": [
    "# TODO:  Set the variable to best CV RMSE score found in Part C (it may not be different than Parts A and B)\n",
    "\n",
    "a2c = RMSE_part2C                        # Just to get it to run without error; your answer here           \n",
    "\n",
    "print(f'a2c = ${a2c:,.2f}')              # Do not change this line, and DO NOT print anything else in this cell"
   ]
  },
  {
   "cell_type": "markdown",
   "metadata": {},
   "source": [
    "### **Part 2.D: Evaluate Model Generalization**  \n"
   ]
  },
  {
   "cell_type": "code",
   "execution_count": 82,
   "metadata": {},
   "outputs": [
    {
     "name": "stdout",
     "output_type": "stream",
     "text": [
      "Parameters_BT_p2a: {'n_estimators': 100, 'max_features': None, 'max_depth': None, 'bootstrap': True, 'random_state': 42, 'MSE_found': 900000068.8705109}\n",
      "Parameters_BT_p2b: {'n_estimators': 100, 'max_features': None, 'max_depth': None, 'bootstrap': True, 'random_state': 42, 'MSE_found': 900000324.2859504}\n",
      "Parameters_BT_p2c: {'bootstrap': np.False_, 'max_features': 21, 'max_samples': None, 'min_samples_leaf': 1, 'n_estimators': 690}\n",
      "===== Model Comparison =====\n",
      "Part A Model CV RMSE: 26868.83 (Std: 0.00)\n",
      "Part A Model Test RMSE: 26508.77\n",
      "Part A Model Train RMSE: 10076.19\n",
      "Part A Model CV MSE Std: 259077072.54\n",
      "===== Model Comparison =====\n",
      "Part B Model CV RMSE: 26868.83 (Std: 0.00)\n",
      "Part B Model Test RMSE: 26508.77\n",
      "Part B Model Train RMSE: 10076.19\n",
      "Part B Model CV MSE Std: 259077072.54\n",
      "===== Model Comparison =====\n",
      "Part C Model CV RMSE: 25190.24 (Std: 0.00)\n",
      "Part C Model Test RMSE: 26342.76\n",
      "Part C Model Train RMSE: 0.00\n",
      "Part C Model CV MSE Std: 233592203.46\n",
      "Selected Model: Part B (Manual Tuning)\n",
      "best parameters : {'n_estimators': 100, 'max_features': None, 'max_depth': None, 'bootstrap': True, 'random_state': 42, 'MSE_found': 900000324.2859504}\n",
      "a1d Answer : 1\n"
     ]
    }
   ],
   "source": [
    "print(f\"Parameters_BT_p2a: {Parameters_BT_p2a}\")\n",
    "print(f\"Parameters_BT_p2b: {Parameters_BT_p2b}\")\n",
    "print(f\"Parameters_BT_p2c: {Parameters_BT_p2c}\")\n",
    "model_2 = RandomForestRegressor\n",
    "\n",
    "# -------------------\n",
    "P_temp = Parameters_BT_p2a.copy()\n",
    "cv_mse, std_cv, train_mse, test_mse = run_model(\n",
    "            model=model_2,\n",
    "            X_train=X_train, y_train=y_train,\n",
    "            X_test=X_test,   y_test=y_test,\n",
    "            n_repeats=n_repeats,\n",
    "            n_jobs=-1,\n",
    "            **P_temp\n",
    "        )\n",
    "\n",
    "std_cv_A = std_cv\n",
    "train_rmse_A = np.sqrt(train_mse)\n",
    "cv_rmse_A = np.sqrt(cv_mse)\n",
    "test_rmse_A = np.sqrt(test_mse)\n",
    "cv_mse_std_A = np.std(std_cv)\n",
    "print(\"===== Model Comparison =====\")\n",
    "print(f\"Part A Model CV RMSE: {cv_rmse_A:.2f} (Std: {cv_mse_std_A:.2f})\")\n",
    "print(f\"Part A Model Test RMSE: {test_rmse_A:.2f}\")\n",
    "print(f\"Part A Model Train RMSE: {train_rmse_A:.2f}\")\n",
    "print(f\"Part A Model CV MSE Std: {std_cv_A:.2f}\")\n",
    "\n",
    "# -------------------\n",
    "P_temp = Parameters_BT_p2b.copy()\n",
    "cv_mse, std_cv, train_mse, test_mse = run_model(\n",
    "            model=model_2,\n",
    "            X_train=X_train, y_train=y_train,\n",
    "            X_test=X_test,   y_test=y_test,\n",
    "            n_repeats=n_repeats,\n",
    "            n_jobs=-1,\n",
    "            **P_temp\n",
    "        )\n",
    "\n",
    "std_cv_B = std_cv\n",
    "train_rmse_B = np.sqrt(train_mse)\n",
    "cv_rmse_B = np.sqrt(cv_mse)\n",
    "test_rmse_B = np.sqrt(test_mse)\n",
    "cv_mse_std_B = np.std(std_cv)\n",
    "print(\"===== Model Comparison =====\")\n",
    "print(f\"Part B Model CV RMSE: {cv_rmse_B:.2f} (Std: {cv_mse_std_B:.2f})\")\n",
    "print(f\"Part B Model Test RMSE: {test_rmse_B:.2f}\")\n",
    "print(f\"Part B Model Train RMSE: {train_rmse_B:.2f}\")\n",
    "print(f\"Part B Model CV MSE Std: {std_cv_B:.2f}\")\n",
    "\n",
    "# -------------\n",
    "P_temp = Parameters_BT_p2c.copy()\n",
    "# P_temp.pop('min_samples_leaf')\n",
    "cv_mse, std_cv, train_mse, test_mse = run_model(\n",
    "            model=model_2,\n",
    "            X_train=X_train, y_train=y_train,\n",
    "            X_test=X_test,   y_test=y_test,\n",
    "            n_repeats=n_repeats,\n",
    "            n_jobs=-1,\n",
    "            **P_temp\n",
    "        )\n",
    "std_cv_C = std_cv\n",
    "train_rmse_C = np.sqrt(train_mse)\n",
    "cv_rmse_C = np.sqrt(cv_mse)\n",
    "test_rmse_C = np.sqrt(test_mse)\n",
    "cv_mse_std_C = np.std(std_cv)\n",
    "print(\"===== Model Comparison =====\")\n",
    "print(f\"Part C Model CV RMSE: {cv_rmse_C:.2f} (Std: {cv_mse_std_C:.2f})\")\n",
    "print(f\"Part C Model Test RMSE: {test_rmse_C:.2f}\")\n",
    "print(f\"Part C Model Train RMSE: {train_rmse_C:.2f}\")\n",
    "print(f\"Part C Model CV MSE Std: {std_cv_C:.2f}\")\n",
    "\n",
    "# --------------------\n",
    "a2d_answer = 1 # expected\n",
    "print(\"Selected Model: Part B (Manual Tuning)\")\n",
    "print(f\"best parameters : {Parameters_BT_p2b}\")\n",
    "print(f\"a1d Answer : {a2d_answer}\")\n"
   ]
  },
  {
   "cell_type": "markdown",
   "metadata": {},
   "source": [
    "### Problem 2.D Graded Answer"
   ]
  },
  {
   "cell_type": "code",
   "execution_count": 83,
   "metadata": {},
   "outputs": [
    {
     "name": "stdout",
     "output_type": "stream",
     "text": [
      "a2d = 1\n"
     ]
    }
   ],
   "source": [
    "# TODO:  Which of options 1, 2, or 3 did you choose?\n",
    "\n",
    "a2d = 1                                  # Should be integer 1, 2, or 3          \n",
    "\n",
    "print(f'a2d = {a2d}')                    # Do not change this line, and DO NOT print anything else in this cell"
   ]
  },
  {
   "cell_type": "markdown",
   "metadata": {},
   "source": [
    "### Problem 2.D Non-Graded Answer but Please Do It\n",
    "\n",
    "Describe in a couple of sentences how your examination of the plots led to your decision. (You'll be expected to answer many such questions when you do your project, so this is good practice, and I'll read as many of your answers as I can.)\n",
    "\n",
    "Your Answer: \n",
    "\n",
    "\n",
    "\n",
    "\n"
   ]
  },
  {
   "cell_type": "markdown",
   "metadata": {},
   "source": [
    "### **Part 2.E: Report the Test Score of the Best Model**  \n",
    "Once you have selected the best model, **report its final test score** and answer the graded question.   \n"
   ]
  },
  {
   "cell_type": "code",
   "execution_count": 84,
   "metadata": {},
   "outputs": [
    {
     "name": "stdout",
     "output_type": "stream",
     "text": [
      "===== Part 1.E: Final Test Score =====\n",
      "Final Test RMSE: 26508.77 dollars\n"
     ]
    }
   ],
   "source": [
    "# Run your best model here on the test data and print out the resulting test RMSE. \n",
    "print(\"===== Part 1.E: Final Test Score =====\")\n",
    "print(f\"Final Test RMSE: {test_rmse_A:.2f} dollars\") \n",
    "\n",
    "final_test_score = test_rmse_A\n"
   ]
  },
  {
   "cell_type": "markdown",
   "metadata": {},
   "source": [
    "### Problem 2.E Graded Answer"
   ]
  },
  {
   "cell_type": "code",
   "execution_count": 85,
   "metadata": {},
   "outputs": [
    {
     "name": "stdout",
     "output_type": "stream",
     "text": [
      "a2e = $26,508.77\n"
     ]
    }
   ],
   "source": [
    "# TODO:  Assign the variable to the test RMSE of the model you selected in Part E\n",
    "\n",
    "a2e = final_test_score                               # Just to get it to run without error; your answer here           \n",
    "\n",
    "print(f'a2e = ${a2e:,.2f}')              # Do not change this line, and DO NOT print anything else in this cell"
   ]
  },
  {
   "cell_type": "markdown",
   "metadata": {},
   "source": [
    "## Problem Three: Gradient Boosting Trees\n",
    "\n",
    "Now you will do the exact same thing as in Problem One, but for `GradientBoostingRegressor`. \n",
    "(Instructions are omitted, refer to them above.) "
   ]
  },
  {
   "cell_type": "markdown",
   "metadata": {},
   "source": [
    "### **Part 3.A: Iteratively Sweep Parameters and Visualize Results using `sweep_parameter(...)`**  "
   ]
  },
  {
   "cell_type": "code",
   "execution_count": 86,
   "metadata": {},
   "outputs": [],
   "source": [
    "Default_Parameters_GradientBoosting = {\n",
    "    'learning_rate'           : 0.1,             # Shrinks the contribution of each tree. Affects the speed of learning and overfitting.\n",
    "    'n_estimators'            : 100,             # The number of boosting stages to be run. More estimators can improve performance but increase training time.\n",
    "    'max_depth'               : 3,               # Maximum depth of individual trees. Controls model complexity.\n",
    "    'max_features'            : None,            # Number of features to consider when looking for best split. Can help reduce overfitting.\n",
    "    'random_state'            : 42,              # Controls randomness of boosting. Useful for reproducibility.\n",
    "    'MSE_found'               : float('inf')     # NOT a parameter, but will record the MSE found for the current parameter choices\n",
    "}\n"
   ]
  },
  {
   "cell_type": "code",
   "execution_count": 87,
   "metadata": {},
   "outputs": [],
   "source": [
    "augmented_gradient_boosting_result_list = []\n",
    "augmented_gradient_boosting_result=[]\n",
    "Parameters_GB_list = []\n"
   ]
  },
  {
   "cell_type": "code",
   "execution_count": null,
   "metadata": {},
   "outputs": [],
   "source": [
    "# 1. Sweep n_estimators:\n",
    "part_name = '3.A'\n",
    "param = 'learning_rate'\n",
    "parameter_list = [0.1, 0.2, 0.3]\n",
    "default_parameters = Default_Parameters_GradientBoosting.copy()\n",
    "model = GradientBoostingRegressor\n",
    "# Run bagging:\n",
    "gradient_boosting_result = sweep_parameter(model=model, \n",
    "                                    Parameters=default_parameters,\n",
    "                                    param = param,\n",
    "                                    parameter_list = parameter_list,\n",
    "                                    X_train          = X_train,\n",
    "                                    y_train          = y_train,\n",
    "                                    X_test           = X_test,\n",
    "                                    y_test           = y_test,\n",
    "                                    verbose          = True,\n",
    "                                    show_rmse        = True,\n",
    "                                    n_iter_no_change = None,\n",
    "                                    delta            = 0.001,\n",
    "                                    n_jobs           = -1,\n",
    "                                    n_repeats        = n_repeats)"
   ]
  },
  {
   "cell_type": "code",
   "execution_count": null,
   "metadata": {},
   "outputs": [],
   "source": [
    "# Set variables:\n",
    "augmented_gradient_boosting_result = gradient_boosting_result.copy()\n",
    "Parameters_BT = gradient_boosting_result.copy()\n",
    "augmented_gradient_boosting_result['param'] = param\n",
    "augmented_gradient_boosting_result['part_name'] = part_name\n",
    "augmented_gradient_boosting_result['RMSE_found'] = np.sqrt(gradient_boosting_result['MSE_found'])\n",
    "print(f\"augmented_gradient_boosting_result: {augmented_gradient_boosting_result}\")\n",
    "# Lists:\n",
    "Parameters_BT_list.append(Parameters_BT)\n",
    "augmented_gradient_boosting_result_list.append(augmented_gradient_boosting_result)\n",
    "log_message(f'{augmented_gradient_boosting_result}')"
   ]
  },
  {
   "cell_type": "code",
   "execution_count": null,
   "metadata": {},
   "outputs": [
    {
     "name": "stdout",
     "output_type": "stream",
     "text": [
      "Emulation mode: True\n",
      "Emulation mode parameters: {'learning_rate': 0.1, 'n_estimators': 100, 'max_depth': 3, 'max_features': None, 'random_state': 42, 'MSE_found': 900000448.6184167}\n"
     ]
    }
   ],
   "source": [
    "# 1. Sweep n_estimators:\n",
    "part_name = '3.A'\n",
    "param = 'n_estimators'\n",
    "parameter_list = range(100,500,50)   \n",
    "default_parameters = Default_Parameters_GradientBoosting.copy()\n",
    "model = GradientBoostingRegressor\n",
    "# Run bagging:\n",
    "gradient_boosting_result = sweep_parameter(model=model, \n",
    "                                    Parameters=default_parameters,\n",
    "                                    param = param,\n",
    "                                    parameter_list = parameter_list,\n",
    "                                    X_train          = X_train,\n",
    "                                    y_train          = y_train,\n",
    "                                    X_test           = X_test,\n",
    "                                    y_test           = y_test,\n",
    "                                    verbose          = True,\n",
    "                                    show_rmse        = True,\n",
    "                                    n_iter_no_change = None,\n",
    "                                    delta            = 0.001,\n",
    "                                    n_jobs           = -1,\n",
    "                                    n_repeats        = n_repeats)"
   ]
  },
  {
   "cell_type": "code",
   "execution_count": 89,
   "metadata": {},
   "outputs": [
    {
     "name": "stdout",
     "output_type": "stream",
     "text": [
      "augmented_gradient_boosting_result: {'learning_rate': 0.1, 'n_estimators': 100, 'max_depth': 3, 'max_features': None, 'random_state': 42, 'MSE_found': 900000448.6184167, 'param': 'n_estimators', 'part_name': '3.A', 'RMSE_found': np.float64(30000.007476972678)}\n"
     ]
    }
   ],
   "source": [
    "# Set variables:\n",
    "augmented_gradient_boosting_result = gradient_boosting_result.copy()\n",
    "Parameters_BT = gradient_boosting_result.copy()\n",
    "augmented_gradient_boosting_result['param'] = param\n",
    "augmented_gradient_boosting_result['part_name'] = part_name\n",
    "augmented_gradient_boosting_result['RMSE_found'] = np.sqrt(gradient_boosting_result['MSE_found'])\n",
    "print(f\"augmented_gradient_boosting_result: {augmented_gradient_boosting_result}\")\n",
    "# Lists:\n",
    "Parameters_BT_list.append(Parameters_BT)\n",
    "augmented_gradient_boosting_result_list.append(augmented_gradient_boosting_result)\n",
    "log_message(f'{augmented_gradient_boosting_result}')"
   ]
  },
  {
   "cell_type": "code",
   "execution_count": 90,
   "metadata": {},
   "outputs": [
    {
     "name": "stdout",
     "output_type": "stream",
     "text": [
      "Emulation mode: True\n",
      "Emulation mode parameters: {'learning_rate': 0.1, 'n_estimators': 100, 'max_depth': 3, 'max_features': None, 'random_state': 42, 'MSE_found': 900000580.7741126}\n"
     ]
    }
   ],
   "source": [
    "# Your code here: \n",
    "# 2. Sweep max_samples:\n",
    "param = 'max_depth'\n",
    "parameter_list = range(4,16) \n",
    "default_parameters = Parameters_BT.copy()\n",
    "model = GradientBoostingRegressor\n",
    "gradient_boosting_result = sweep_parameter(model=model, \n",
    "                                    Parameters=default_parameters,\n",
    "                                    param = param,\n",
    "                                    parameter_list = parameter_list,\n",
    "                                    X_train          = X_train,\n",
    "                                    y_train          = y_train,\n",
    "                                    X_test           = X_test,\n",
    "                                    y_test           = y_test,\n",
    "                                    verbose          = True,\n",
    "                                    show_rmse        = True,\n",
    "                                    n_iter_no_change = None,\n",
    "                                    delta            = 0.001,\n",
    "                                    n_jobs           = -1,\n",
    "                                    n_repeats        = n_repeats)"
   ]
  },
  {
   "cell_type": "code",
   "execution_count": 91,
   "metadata": {},
   "outputs": [
    {
     "name": "stdout",
     "output_type": "stream",
     "text": [
      "augmented_gradient_boosting_result: {'learning_rate': 0.1, 'n_estimators': 100, 'max_depth': 3, 'max_features': None, 'random_state': 42, 'MSE_found': 900000580.7741126, 'param': 'max_depth', 'part_name': '3.A', 'RMSE_found': np.float64(30000.00967956698)}\n"
     ]
    }
   ],
   "source": [
    "# Set variables:\n",
    "augmented_gradient_boosting_result = gradient_boosting_result.copy()\n",
    "Parameters_BT = gradient_boosting_result.copy()\n",
    "augmented_gradient_boosting_result['param'] = param\n",
    "augmented_gradient_boosting_result['part_name'] = part_name\n",
    "augmented_gradient_boosting_result['RMSE_found'] = np.sqrt(gradient_boosting_result['MSE_found'])\n",
    "print(f\"augmented_gradient_boosting_result: {augmented_gradient_boosting_result}\")\n",
    "# Lists:\n",
    "Parameters_BT_list.append(Parameters_BT)\n",
    "augmented_gradient_boosting_result_list.append(augmented_gradient_boosting_result)\n",
    "log_message(f'{augmented_gradient_boosting_result}')"
   ]
  },
  {
   "cell_type": "code",
   "execution_count": 92,
   "metadata": {},
   "outputs": [
    {
     "name": "stdout",
     "output_type": "stream",
     "text": [
      "Emulation mode: True\n",
      "Emulation mode parameters: {'learning_rate': 0.1, 'n_estimators': 100, 'max_depth': 3, 'max_features': None, 'random_state': 42, 'MSE_found': 900000356.3302248}\n"
     ]
    }
   ],
   "source": [
    "# Your code here: \n",
    "# 3. Sweep max_features:\n",
    "param = 'max_features'\n",
    "parameter_list = range(1,74)\n",
    "default_parameters = Parameters_BT.copy()\n",
    "model = GradientBoostingRegressor\n",
    "gradient_boosting_result = sweep_parameter(model=model, \n",
    "                                    Parameters=default_parameters,\n",
    "                                    param = param,\n",
    "                                    parameter_list = parameter_list,\n",
    "                                    X_train          = X_train,\n",
    "                                    y_train          = y_train,\n",
    "                                    X_test           = X_test,\n",
    "                                    y_test           = y_test,\n",
    "                                    verbose          = True,\n",
    "                                    show_rmse        = True,\n",
    "                                    n_iter_no_change = None,\n",
    "                                    delta            = 0.001,\n",
    "                                    n_jobs           = -1,\n",
    "                                    n_repeats        = n_repeats)"
   ]
  },
  {
   "cell_type": "code",
   "execution_count": 93,
   "metadata": {},
   "outputs": [
    {
     "name": "stdout",
     "output_type": "stream",
     "text": [
      "augmented_gradient_boosting_result: {'learning_rate': 0.1, 'n_estimators': 100, 'max_depth': 3, 'max_features': None, 'random_state': 42, 'MSE_found': 900000356.3302248, 'param': 'max_features', 'part_name': '3.A', 'RMSE_found': np.float64(30000.00593883649)}\n"
     ]
    }
   ],
   "source": [
    "# Set variables:\n",
    "augmented_gradient_boosting_result = gradient_boosting_result.copy()\n",
    "Parameters_BT = gradient_boosting_result.copy()\n",
    "augmented_gradient_boosting_result['param'] = param\n",
    "augmented_gradient_boosting_result['part_name'] = part_name\n",
    "augmented_gradient_boosting_result['RMSE_found'] = np.sqrt(gradient_boosting_result['MSE_found'])\n",
    "print(f\"augmented_gradient_boosting_result: {augmented_gradient_boosting_result}\")\n",
    "# Lists:\n",
    "Parameters_BT_list.append(Parameters_BT)\n",
    "augmented_gradient_boosting_result_list.append(augmented_gradient_boosting_result)\n",
    "log_message(f'{augmented_gradient_boosting_result}')"
   ]
  },
  {
   "cell_type": "code",
   "execution_count": 94,
   "metadata": {},
   "outputs": [
    {
     "name": "stdout",
     "output_type": "stream",
     "text": [
      "Emulation mode: True\n",
      "Emulation mode parameters: {'learning_rate': 0.1, 'n_estimators': 100, 'max_depth': 3, 'max_features': None, 'random_state': 42, 'MSE_found': 900000524.1632639}\n"
     ]
    }
   ],
   "source": [
    "# 3. Sweep min_samples_split:\n",
    "param = 'min_samples_split'\n",
    "parameter_list = [2,3,4,5]\n",
    "default_parameters = Parameters_BT.copy()\n",
    "model = GradientBoostingRegressor\n",
    "gradient_boosting_result = sweep_parameter(model=model, \n",
    "                                    Parameters=default_parameters,\n",
    "                                    param = param,\n",
    "                                    parameter_list = parameter_list,\n",
    "                                    X_train          = X_train,\n",
    "                                    y_train          = y_train,\n",
    "                                    X_test           = X_test,\n",
    "                                    y_test           = y_test,\n",
    "                                    verbose          = True,\n",
    "                                    show_rmse        = True,\n",
    "                                    n_iter_no_change = None,\n",
    "                                    delta            = 0.001,\n",
    "                                    n_jobs           = -1,\n",
    "                                    n_repeats        = n_repeats)"
   ]
  },
  {
   "cell_type": "code",
   "execution_count": 95,
   "metadata": {},
   "outputs": [
    {
     "name": "stdout",
     "output_type": "stream",
     "text": [
      "augmented_gradient_boosting_result: {'learning_rate': 0.1, 'n_estimators': 100, 'max_depth': 3, 'max_features': None, 'random_state': 42, 'MSE_found': 900000524.1632639, 'param': 'min_samples_split', 'part_name': '3.A', 'RMSE_found': np.float64(30000.008736053125)}\n"
     ]
    }
   ],
   "source": [
    "# Set variables:\n",
    "augmented_gradient_boosting_result = gradient_boosting_result.copy()\n",
    "Parameters_BT = gradient_boosting_result.copy()\n",
    "augmented_gradient_boosting_result['param'] = param\n",
    "augmented_gradient_boosting_result['part_name'] = part_name\n",
    "augmented_gradient_boosting_result['RMSE_found'] = np.sqrt(gradient_boosting_result['MSE_found'])\n",
    "print(f\"augmented_gradient_boosting_result: {augmented_gradient_boosting_result}\")\n",
    "# Lists:\n",
    "Parameters_BT_list.append(Parameters_BT)\n",
    "augmented_gradient_boosting_result_list.append(augmented_gradient_boosting_result)\n",
    "log_message(f'{augmented_gradient_boosting_result}')"
   ]
  },
  {
   "cell_type": "code",
   "execution_count": 96,
   "metadata": {},
   "outputs": [
    {
     "name": "stdout",
     "output_type": "stream",
     "text": [
      "Emulation mode: True\n",
      "Emulation mode parameters: {'learning_rate': 0.1, 'n_estimators': 100, 'max_depth': 3, 'max_features': None, 'random_state': 42, 'MSE_found': 900000744.294911}\n"
     ]
    }
   ],
   "source": [
    "# 3. Sweep min_samples_split:\n",
    "param = 'min_samples_leaf'\n",
    "parameter_list = [1,2,3,4]\n",
    "default_parameters = Parameters_BT.copy()\n",
    "model = GradientBoostingRegressor\n",
    "gradient_boosting_result = sweep_parameter(model=model, \n",
    "                                    Parameters=default_parameters,\n",
    "                                    param = param,\n",
    "                                    parameter_list = parameter_list,\n",
    "                                    X_train          = X_train,\n",
    "                                    y_train          = y_train,\n",
    "                                    X_test           = X_test,\n",
    "                                    y_test           = y_test,\n",
    "                                    verbose          = True,\n",
    "                                    show_rmse        = True,\n",
    "                                    n_iter_no_change = None,\n",
    "                                    delta            = 0.001,\n",
    "                                    n_jobs           = -1,\n",
    "                                    n_repeats        = n_repeats)"
   ]
  },
  {
   "cell_type": "code",
   "execution_count": 97,
   "metadata": {},
   "outputs": [
    {
     "name": "stdout",
     "output_type": "stream",
     "text": [
      "augmented_gradient_boosting_result: {'learning_rate': 0.1, 'n_estimators': 100, 'max_depth': 3, 'max_features': None, 'random_state': 42, 'MSE_found': 900000744.294911, 'param': 'min_samples_leaf', 'part_name': '3.A', 'RMSE_found': np.float64(30000.01240491262)}\n"
     ]
    }
   ],
   "source": [
    "# Set variables:\n",
    "augmented_gradient_boosting_result = gradient_boosting_result.copy()\n",
    "Parameters_BT = gradient_boosting_result.copy()\n",
    "augmented_gradient_boosting_result['param'] = param\n",
    "augmented_gradient_boosting_result['part_name'] = part_name\n",
    "augmented_gradient_boosting_result['RMSE_found'] = np.sqrt(gradient_boosting_result['MSE_found'])\n",
    "print(f\"augmented_gradient_boosting_result: {augmented_gradient_boosting_result}\")\n",
    "# Lists:\n",
    "Parameters_BT_list.append(Parameters_BT)\n",
    "augmented_gradient_boosting_result_list.append(augmented_gradient_boosting_result)\n",
    "log_message(f'{augmented_gradient_boosting_result}')"
   ]
  },
  {
   "cell_type": "code",
   "execution_count": 98,
   "metadata": {},
   "outputs": [
    {
     "data": {
      "text/html": [
       "<div>\n",
       "<style scoped>\n",
       "    .dataframe tbody tr th:only-of-type {\n",
       "        vertical-align: middle;\n",
       "    }\n",
       "\n",
       "    .dataframe tbody tr th {\n",
       "        vertical-align: top;\n",
       "    }\n",
       "\n",
       "    .dataframe thead th {\n",
       "        text-align: right;\n",
       "    }\n",
       "</style>\n",
       "<table border=\"1\" class=\"dataframe\">\n",
       "  <thead>\n",
       "    <tr style=\"text-align: right;\">\n",
       "      <th></th>\n",
       "      <th>learning_rate</th>\n",
       "      <th>n_estimators</th>\n",
       "      <th>max_depth</th>\n",
       "      <th>max_features</th>\n",
       "      <th>random_state</th>\n",
       "      <th>MSE_found</th>\n",
       "      <th>param</th>\n",
       "      <th>part_name</th>\n",
       "      <th>RMSE_found</th>\n",
       "    </tr>\n",
       "  </thead>\n",
       "  <tbody>\n",
       "    <tr>\n",
       "      <th>0</th>\n",
       "      <td>0.1</td>\n",
       "      <td>100</td>\n",
       "      <td>3</td>\n",
       "      <td>None</td>\n",
       "      <td>42</td>\n",
       "      <td>9.000004e+08</td>\n",
       "      <td>n_estimators</td>\n",
       "      <td>3.A</td>\n",
       "      <td>30000.007477</td>\n",
       "    </tr>\n",
       "    <tr>\n",
       "      <th>1</th>\n",
       "      <td>0.1</td>\n",
       "      <td>100</td>\n",
       "      <td>3</td>\n",
       "      <td>None</td>\n",
       "      <td>42</td>\n",
       "      <td>9.000006e+08</td>\n",
       "      <td>max_depth</td>\n",
       "      <td>3.A</td>\n",
       "      <td>30000.009680</td>\n",
       "    </tr>\n",
       "    <tr>\n",
       "      <th>2</th>\n",
       "      <td>0.1</td>\n",
       "      <td>100</td>\n",
       "      <td>3</td>\n",
       "      <td>None</td>\n",
       "      <td>42</td>\n",
       "      <td>9.000004e+08</td>\n",
       "      <td>max_features</td>\n",
       "      <td>3.A</td>\n",
       "      <td>30000.005939</td>\n",
       "    </tr>\n",
       "    <tr>\n",
       "      <th>3</th>\n",
       "      <td>0.1</td>\n",
       "      <td>100</td>\n",
       "      <td>3</td>\n",
       "      <td>None</td>\n",
       "      <td>42</td>\n",
       "      <td>9.000005e+08</td>\n",
       "      <td>min_samples_split</td>\n",
       "      <td>3.A</td>\n",
       "      <td>30000.008736</td>\n",
       "    </tr>\n",
       "    <tr>\n",
       "      <th>4</th>\n",
       "      <td>0.1</td>\n",
       "      <td>100</td>\n",
       "      <td>3</td>\n",
       "      <td>None</td>\n",
       "      <td>42</td>\n",
       "      <td>9.000007e+08</td>\n",
       "      <td>min_samples_leaf</td>\n",
       "      <td>3.A</td>\n",
       "      <td>30000.012405</td>\n",
       "    </tr>\n",
       "  </tbody>\n",
       "</table>\n",
       "</div>"
      ],
      "text/plain": [
       "   learning_rate  n_estimators  max_depth max_features  random_state  \\\n",
       "0            0.1           100          3         None            42   \n",
       "1            0.1           100          3         None            42   \n",
       "2            0.1           100          3         None            42   \n",
       "3            0.1           100          3         None            42   \n",
       "4            0.1           100          3         None            42   \n",
       "\n",
       "      MSE_found              param part_name    RMSE_found  \n",
       "0  9.000004e+08       n_estimators       3.A  30000.007477  \n",
       "1  9.000006e+08          max_depth       3.A  30000.009680  \n",
       "2  9.000004e+08       max_features       3.A  30000.005939  \n",
       "3  9.000005e+08  min_samples_split       3.A  30000.008736  \n",
       "4  9.000007e+08   min_samples_leaf       3.A  30000.012405  "
      ]
     },
     "execution_count": 98,
     "metadata": {},
     "output_type": "execute_result"
    }
   ],
   "source": [
    "p3a_Parameters_BT_df = pd.DataFrame(Parameters_BT_list)\n",
    "\n",
    "p3a_gradient_boosting_forests_result_df = pd.DataFrame(augmented_gradient_boosting_result_list)\n",
    "p3a_gradient_boosting_forests_result_df\n"
   ]
  },
  {
   "cell_type": "code",
   "execution_count": 99,
   "metadata": {},
   "outputs": [
    {
     "name": "stdout",
     "output_type": "stream",
     "text": [
      "2\n"
     ]
    },
    {
     "data": {
      "text/plain": [
       "np.float64(30000.00593883649)"
      ]
     },
     "execution_count": 99,
     "metadata": {},
     "output_type": "execute_result"
    }
   ],
   "source": [
    "print(p3a_gradient_boosting_forests_result_df['RMSE_found'].idxmin())\n",
    "RMSE_part3A = p3a_gradient_boosting_forests_result_df['RMSE_found'].min()\n",
    "\n",
    "Parameters_BT_p3a = Parameters_BT_list[p3a_Parameters_BT_df['MSE_found'].idxmin()].copy()\n",
    "\n",
    "RMSE_part3A"
   ]
  },
  {
   "cell_type": "code",
   "execution_count": 100,
   "metadata": {},
   "outputs": [
    {
     "name": "stdout",
     "output_type": "stream",
     "text": [
      "Emulation mode: True\n",
      "Emulation mode parameters: {'learning_rate': 0.1, 'n_estimators': 100, 'max_depth': 3, 'max_features': None, 'random_state': 42, 'MSE_found': 900000805.1982316}\n"
     ]
    }
   ],
   "source": [
    "# 1. Sweep n_estimators:\n",
    "part_name = '3.B'\n",
    "param = 'n_estimators'\n",
    "parameter_list = range(200,800,50)   \n",
    "default_parameters = Default_Parameters_GradientBoosting.copy()\n",
    "model = GradientBoostingRegressor\n",
    "# Run bagging:\n",
    "gradient_boosting_result = sweep_parameter(model=model, \n",
    "                                    Parameters=default_parameters,\n",
    "                                    param = param,\n",
    "                                    parameter_list = parameter_list,\n",
    "                                    X_train          = X_train,\n",
    "                                    y_train          = y_train,\n",
    "                                    X_test           = X_test,\n",
    "                                    y_test           = y_test,\n",
    "                                    verbose          = True,\n",
    "                                    show_rmse        = True,\n",
    "                                    n_iter_no_change = None,\n",
    "                                    delta            = 0.001,\n",
    "                                    n_jobs           = -1,\n",
    "                                    n_repeats        = n_repeats)"
   ]
  },
  {
   "cell_type": "code",
   "execution_count": 101,
   "metadata": {},
   "outputs": [
    {
     "name": "stdout",
     "output_type": "stream",
     "text": [
      "augmented_gradient_boosting_result: {'learning_rate': 0.1, 'n_estimators': 100, 'max_depth': 3, 'max_features': None, 'random_state': 42, 'MSE_found': 900000805.1982316, 'param': 'n_estimators', 'part_name': '3.B', 'RMSE_found': np.float64(30000.013419967523)}\n"
     ]
    }
   ],
   "source": [
    "# Set variables:\n",
    "augmented_gradient_boosting_result = gradient_boosting_result.copy()\n",
    "Parameters_BT = gradient_boosting_result.copy()\n",
    "augmented_gradient_boosting_result['param'] = param\n",
    "augmented_gradient_boosting_result['part_name'] = part_name\n",
    "augmented_gradient_boosting_result['RMSE_found'] = np.sqrt(gradient_boosting_result['MSE_found'])\n",
    "print(f\"augmented_gradient_boosting_result: {augmented_gradient_boosting_result}\")\n",
    "# Lists:\n",
    "Parameters_BT_list.append(Parameters_BT)\n",
    "augmented_gradient_boosting_result_list.append(augmented_gradient_boosting_result)\n",
    "log_message(f'{augmented_gradient_boosting_result}')"
   ]
  },
  {
   "cell_type": "code",
   "execution_count": 102,
   "metadata": {},
   "outputs": [
    {
     "name": "stdout",
     "output_type": "stream",
     "text": [
      "Emulation mode: True\n",
      "Emulation mode parameters: {'learning_rate': 0.1, 'n_estimators': 100, 'max_depth': 3, 'max_features': None, 'random_state': 42, 'MSE_found': 900000649.2068835}\n"
     ]
    }
   ],
   "source": [
    "# Your code here: \n",
    "# 2. Sweep max_samples:\n",
    "param = 'max_depth'\n",
    "parameter_list = range(4,16) \n",
    "default_parameters = Parameters_BT.copy()\n",
    "model = GradientBoostingRegressor\n",
    "gradient_boosting_result = sweep_parameter(model=model, \n",
    "                                    Parameters=default_parameters,\n",
    "                                    param = param,\n",
    "                                    parameter_list = parameter_list,\n",
    "                                    X_train          = X_train,\n",
    "                                    y_train          = y_train,\n",
    "                                    X_test           = X_test,\n",
    "                                    y_test           = y_test,\n",
    "                                    verbose          = True,\n",
    "                                    show_rmse        = True,\n",
    "                                    n_iter_no_change = None,\n",
    "                                    delta            = 0.001,\n",
    "                                    n_jobs           = -1,\n",
    "                                    n_repeats        = n_repeats)"
   ]
  },
  {
   "cell_type": "code",
   "execution_count": 103,
   "metadata": {},
   "outputs": [
    {
     "name": "stdout",
     "output_type": "stream",
     "text": [
      "augmented_gradient_boosting_result: {'learning_rate': 0.1, 'n_estimators': 100, 'max_depth': 3, 'max_features': None, 'random_state': 42, 'MSE_found': 900000649.2068835, 'param': 'max_depth', 'part_name': '3.B', 'RMSE_found': np.float64(30000.010820112773)}\n"
     ]
    }
   ],
   "source": [
    "# Set variables:\n",
    "augmented_gradient_boosting_result = gradient_boosting_result.copy()\n",
    "Parameters_BT = gradient_boosting_result.copy()\n",
    "augmented_gradient_boosting_result['param'] = param\n",
    "augmented_gradient_boosting_result['part_name'] = part_name\n",
    "augmented_gradient_boosting_result['RMSE_found'] = np.sqrt(gradient_boosting_result['MSE_found'])\n",
    "print(f\"augmented_gradient_boosting_result: {augmented_gradient_boosting_result}\")\n",
    "# Lists:\n",
    "Parameters_BT_list.append(Parameters_BT)\n",
    "augmented_gradient_boosting_result_list.append(augmented_gradient_boosting_result)\n",
    "log_message(f'{augmented_gradient_boosting_result}')"
   ]
  },
  {
   "cell_type": "code",
   "execution_count": 104,
   "metadata": {},
   "outputs": [
    {
     "name": "stdout",
     "output_type": "stream",
     "text": [
      "Emulation mode: True\n",
      "Emulation mode parameters: {'learning_rate': 0.1, 'n_estimators': 100, 'max_depth': 3, 'max_features': None, 'random_state': 42, 'MSE_found': 900000318.9654198}\n"
     ]
    }
   ],
   "source": [
    "# Your code here: \n",
    "# 3. Sweep max_features:\n",
    "param = 'max_features'\n",
    "parameter_list = range(1,74)\n",
    "default_parameters = Parameters_BT.copy()\n",
    "model = GradientBoostingRegressor\n",
    "gradient_boosting_result = sweep_parameter(model=model, \n",
    "                                    Parameters=default_parameters,\n",
    "                                    param = param,\n",
    "                                    parameter_list = parameter_list,\n",
    "                                    X_train          = X_train,\n",
    "                                    y_train          = y_train,\n",
    "                                    X_test           = X_test,\n",
    "                                    y_test           = y_test,\n",
    "                                    verbose          = True,\n",
    "                                    show_rmse        = True,\n",
    "                                    n_iter_no_change = None,\n",
    "                                    delta            = 0.001,\n",
    "                                    n_jobs           = -1,\n",
    "                                    n_repeats        = n_repeats)"
   ]
  },
  {
   "cell_type": "code",
   "execution_count": 105,
   "metadata": {},
   "outputs": [
    {
     "name": "stdout",
     "output_type": "stream",
     "text": [
      "augmented_gradient_boosting_result: {'learning_rate': 0.1, 'n_estimators': 100, 'max_depth': 3, 'max_features': None, 'random_state': 42, 'MSE_found': 900000318.9654198, 'param': 'max_features', 'part_name': '3.B', 'RMSE_found': np.float64(30000.005316089857)}\n"
     ]
    }
   ],
   "source": [
    "# Set variables:\n",
    "augmented_gradient_boosting_result = gradient_boosting_result.copy()\n",
    "Parameters_BT = gradient_boosting_result.copy()\n",
    "augmented_gradient_boosting_result['param'] = param\n",
    "augmented_gradient_boosting_result['part_name'] = part_name\n",
    "augmented_gradient_boosting_result['RMSE_found'] = np.sqrt(gradient_boosting_result['MSE_found'])\n",
    "print(f\"augmented_gradient_boosting_result: {augmented_gradient_boosting_result}\")\n",
    "# Lists:\n",
    "Parameters_BT_list.append(Parameters_BT)\n",
    "augmented_gradient_boosting_result_list.append(augmented_gradient_boosting_result)\n",
    "log_message(f'{augmented_gradient_boosting_result}')"
   ]
  },
  {
   "cell_type": "code",
   "execution_count": 106,
   "metadata": {},
   "outputs": [
    {
     "name": "stdout",
     "output_type": "stream",
     "text": [
      "Emulation mode: True\n",
      "Emulation mode parameters: {'learning_rate': 0.1, 'n_estimators': 100, 'max_depth': 3, 'max_features': None, 'random_state': 42, 'MSE_found': 900000651.7380404}\n"
     ]
    }
   ],
   "source": [
    "# 3. Sweep min_samples_split:\n",
    "param = 'min_samples_split'\n",
    "parameter_list = [2,3,4,5]\n",
    "default_parameters = Parameters_BT.copy()\n",
    "model = GradientBoostingRegressor\n",
    "gradient_boosting_result = sweep_parameter(model=model, \n",
    "                                    Parameters=default_parameters,\n",
    "                                    param = param,\n",
    "                                    parameter_list = parameter_list,\n",
    "                                    X_train          = X_train,\n",
    "                                    y_train          = y_train,\n",
    "                                    X_test           = X_test,\n",
    "                                    y_test           = y_test,\n",
    "                                    verbose          = True,\n",
    "                                    show_rmse        = True,\n",
    "                                    n_iter_no_change = None,\n",
    "                                    delta            = 0.001,\n",
    "                                    n_jobs           = -1,\n",
    "                                    n_repeats        = n_repeats)"
   ]
  },
  {
   "cell_type": "code",
   "execution_count": 107,
   "metadata": {},
   "outputs": [
    {
     "name": "stdout",
     "output_type": "stream",
     "text": [
      "augmented_gradient_boosting_result: {'learning_rate': 0.1, 'n_estimators': 100, 'max_depth': 3, 'max_features': None, 'random_state': 42, 'MSE_found': 900000651.7380404, 'param': 'min_samples_split', 'part_name': '3.B', 'RMSE_found': np.float64(30000.010862298706)}\n",
      "\n"
     ]
    }
   ],
   "source": [
    "# Set variables:\n",
    "augmented_gradient_boosting_result = gradient_boosting_result.copy()\n",
    "Parameters_BT = gradient_boosting_result.copy()\n",
    "augmented_gradient_boosting_result['param'] = param\n",
    "augmented_gradient_boosting_result['part_name'] = part_name\n",
    "augmented_gradient_boosting_result['RMSE_found'] = np.sqrt(gradient_boosting_result['MSE_found'])\n",
    "print(f\"augmented_gradient_boosting_result: {augmented_gradient_boosting_result}\")\n",
    "# Lists:\n",
    "Parameters_BT_list.append(Parameters_BT)\n",
    "augmented_gradient_boosting_result_list.append(augmented_gradient_boosting_result)\n",
    "log_message(f'{augmented_gradient_boosting_result}')"
   ]
  },
  {
   "cell_type": "code",
   "execution_count": 108,
   "metadata": {},
   "outputs": [
    {
     "name": "stdout",
     "output_type": "stream",
     "text": [
      "Emulation mode: True\n",
      "Emulation mode parameters: {'learning_rate': 0.1, 'n_estimators': 100, 'max_depth': 3, 'max_features': None, 'random_state': 42, 'MSE_found': 900000487.1379808}\n"
     ]
    }
   ],
   "source": [
    "# 3. Sweep min_samples_split:\n",
    "param = 'min_samples_leaf'\n",
    "parameter_list = [1,2,3,4]\n",
    "default_parameters = Parameters_BT.copy()\n",
    "model = GradientBoostingRegressor\n",
    "gradient_boosting_result = sweep_parameter(model=model, \n",
    "                                    Parameters=default_parameters,\n",
    "                                    param = param,\n",
    "                                    parameter_list = parameter_list,\n",
    "                                    X_train          = X_train,\n",
    "                                    y_train          = y_train,\n",
    "                                    X_test           = X_test,\n",
    "                                    y_test           = y_test,\n",
    "                                    verbose          = True,\n",
    "                                    show_rmse        = True,\n",
    "                                    n_iter_no_change = None,\n",
    "                                    delta            = 0.001,\n",
    "                                    n_jobs           = -1,\n",
    "                                    n_repeats        = n_repeats)\n",
    "\t\t\t\t\t\t\t\t\t"
   ]
  },
  {
   "cell_type": "code",
   "execution_count": 109,
   "metadata": {},
   "outputs": [
    {
     "name": "stdout",
     "output_type": "stream",
     "text": [
      "augmented_gradient_boosting_result: {'learning_rate': 0.1, 'n_estimators': 100, 'max_depth': 3, 'max_features': None, 'random_state': 42, 'MSE_found': 900000487.1379808, 'param': 'min_samples_leaf', 'part_name': '3.B', 'RMSE_found': np.float64(30000.00811896525)}\n"
     ]
    }
   ],
   "source": [
    "# Set variables:\n",
    "augmented_gradient_boosting_result = gradient_boosting_result.copy()\n",
    "Parameters_BT = gradient_boosting_result.copy()\n",
    "augmented_gradient_boosting_result['param'] = param\n",
    "augmented_gradient_boosting_result['part_name'] = part_name\n",
    "augmented_gradient_boosting_result['RMSE_found'] = np.sqrt(gradient_boosting_result['MSE_found'])\n",
    "print(f\"augmented_gradient_boosting_result: {augmented_gradient_boosting_result}\")\n",
    "# Lists:\n",
    "Parameters_BT_list.append(Parameters_BT)\n",
    "augmented_gradient_boosting_result_list.append(augmented_gradient_boosting_result)\n",
    "log_message(f'{augmented_gradient_boosting_result}')"
   ]
  },
  {
   "cell_type": "code",
   "execution_count": 110,
   "metadata": {},
   "outputs": [
    {
     "data": {
      "text/html": [
       "<div>\n",
       "<style scoped>\n",
       "    .dataframe tbody tr th:only-of-type {\n",
       "        vertical-align: middle;\n",
       "    }\n",
       "\n",
       "    .dataframe tbody tr th {\n",
       "        vertical-align: top;\n",
       "    }\n",
       "\n",
       "    .dataframe thead th {\n",
       "        text-align: right;\n",
       "    }\n",
       "</style>\n",
       "<table border=\"1\" class=\"dataframe\">\n",
       "  <thead>\n",
       "    <tr style=\"text-align: right;\">\n",
       "      <th></th>\n",
       "      <th>learning_rate</th>\n",
       "      <th>n_estimators</th>\n",
       "      <th>max_depth</th>\n",
       "      <th>max_features</th>\n",
       "      <th>random_state</th>\n",
       "      <th>MSE_found</th>\n",
       "      <th>param</th>\n",
       "      <th>part_name</th>\n",
       "      <th>RMSE_found</th>\n",
       "    </tr>\n",
       "  </thead>\n",
       "  <tbody>\n",
       "    <tr>\n",
       "      <th>0</th>\n",
       "      <td>0.1</td>\n",
       "      <td>100</td>\n",
       "      <td>3</td>\n",
       "      <td>None</td>\n",
       "      <td>42</td>\n",
       "      <td>9.000004e+08</td>\n",
       "      <td>n_estimators</td>\n",
       "      <td>3.A</td>\n",
       "      <td>30000.007477</td>\n",
       "    </tr>\n",
       "    <tr>\n",
       "      <th>1</th>\n",
       "      <td>0.1</td>\n",
       "      <td>100</td>\n",
       "      <td>3</td>\n",
       "      <td>None</td>\n",
       "      <td>42</td>\n",
       "      <td>9.000006e+08</td>\n",
       "      <td>max_depth</td>\n",
       "      <td>3.A</td>\n",
       "      <td>30000.009680</td>\n",
       "    </tr>\n",
       "    <tr>\n",
       "      <th>2</th>\n",
       "      <td>0.1</td>\n",
       "      <td>100</td>\n",
       "      <td>3</td>\n",
       "      <td>None</td>\n",
       "      <td>42</td>\n",
       "      <td>9.000004e+08</td>\n",
       "      <td>max_features</td>\n",
       "      <td>3.A</td>\n",
       "      <td>30000.005939</td>\n",
       "    </tr>\n",
       "    <tr>\n",
       "      <th>3</th>\n",
       "      <td>0.1</td>\n",
       "      <td>100</td>\n",
       "      <td>3</td>\n",
       "      <td>None</td>\n",
       "      <td>42</td>\n",
       "      <td>9.000005e+08</td>\n",
       "      <td>min_samples_split</td>\n",
       "      <td>3.A</td>\n",
       "      <td>30000.008736</td>\n",
       "    </tr>\n",
       "    <tr>\n",
       "      <th>4</th>\n",
       "      <td>0.1</td>\n",
       "      <td>100</td>\n",
       "      <td>3</td>\n",
       "      <td>None</td>\n",
       "      <td>42</td>\n",
       "      <td>9.000007e+08</td>\n",
       "      <td>min_samples_leaf</td>\n",
       "      <td>3.A</td>\n",
       "      <td>30000.012405</td>\n",
       "    </tr>\n",
       "    <tr>\n",
       "      <th>5</th>\n",
       "      <td>0.1</td>\n",
       "      <td>100</td>\n",
       "      <td>3</td>\n",
       "      <td>None</td>\n",
       "      <td>42</td>\n",
       "      <td>9.000008e+08</td>\n",
       "      <td>n_estimators</td>\n",
       "      <td>3.B</td>\n",
       "      <td>30000.013420</td>\n",
       "    </tr>\n",
       "    <tr>\n",
       "      <th>6</th>\n",
       "      <td>0.1</td>\n",
       "      <td>100</td>\n",
       "      <td>3</td>\n",
       "      <td>None</td>\n",
       "      <td>42</td>\n",
       "      <td>9.000006e+08</td>\n",
       "      <td>max_depth</td>\n",
       "      <td>3.B</td>\n",
       "      <td>30000.010820</td>\n",
       "    </tr>\n",
       "    <tr>\n",
       "      <th>7</th>\n",
       "      <td>0.1</td>\n",
       "      <td>100</td>\n",
       "      <td>3</td>\n",
       "      <td>None</td>\n",
       "      <td>42</td>\n",
       "      <td>9.000003e+08</td>\n",
       "      <td>max_features</td>\n",
       "      <td>3.B</td>\n",
       "      <td>30000.005316</td>\n",
       "    </tr>\n",
       "    <tr>\n",
       "      <th>8</th>\n",
       "      <td>0.1</td>\n",
       "      <td>100</td>\n",
       "      <td>3</td>\n",
       "      <td>None</td>\n",
       "      <td>42</td>\n",
       "      <td>9.000007e+08</td>\n",
       "      <td>min_samples_split</td>\n",
       "      <td>3.B</td>\n",
       "      <td>30000.010862</td>\n",
       "    </tr>\n",
       "    <tr>\n",
       "      <th>9</th>\n",
       "      <td>0.1</td>\n",
       "      <td>100</td>\n",
       "      <td>3</td>\n",
       "      <td>None</td>\n",
       "      <td>42</td>\n",
       "      <td>9.000005e+08</td>\n",
       "      <td>min_samples_leaf</td>\n",
       "      <td>3.B</td>\n",
       "      <td>30000.008119</td>\n",
       "    </tr>\n",
       "  </tbody>\n",
       "</table>\n",
       "</div>"
      ],
      "text/plain": [
       "   learning_rate  n_estimators  max_depth max_features  random_state  \\\n",
       "0            0.1           100          3         None            42   \n",
       "1            0.1           100          3         None            42   \n",
       "2            0.1           100          3         None            42   \n",
       "3            0.1           100          3         None            42   \n",
       "4            0.1           100          3         None            42   \n",
       "5            0.1           100          3         None            42   \n",
       "6            0.1           100          3         None            42   \n",
       "7            0.1           100          3         None            42   \n",
       "8            0.1           100          3         None            42   \n",
       "9            0.1           100          3         None            42   \n",
       "\n",
       "      MSE_found              param part_name    RMSE_found  \n",
       "0  9.000004e+08       n_estimators       3.A  30000.007477  \n",
       "1  9.000006e+08          max_depth       3.A  30000.009680  \n",
       "2  9.000004e+08       max_features       3.A  30000.005939  \n",
       "3  9.000005e+08  min_samples_split       3.A  30000.008736  \n",
       "4  9.000007e+08   min_samples_leaf       3.A  30000.012405  \n",
       "5  9.000008e+08       n_estimators       3.B  30000.013420  \n",
       "6  9.000006e+08          max_depth       3.B  30000.010820  \n",
       "7  9.000003e+08       max_features       3.B  30000.005316  \n",
       "8  9.000007e+08  min_samples_split       3.B  30000.010862  \n",
       "9  9.000005e+08   min_samples_leaf       3.B  30000.008119  "
      ]
     },
     "execution_count": 110,
     "metadata": {},
     "output_type": "execute_result"
    }
   ],
   "source": [
    "p3b_Parameters_BT_df = pd.DataFrame(Parameters_BT_list)\n",
    "p3b_gradient_boosting_forests_result_df = pd.DataFrame(augmented_gradient_boosting_result_list)\n",
    "p3b_gradient_boosting_forests_result_df"
   ]
  },
  {
   "cell_type": "code",
   "execution_count": 111,
   "metadata": {},
   "outputs": [
    {
     "name": "stdout",
     "output_type": "stream",
     "text": [
      "7\n"
     ]
    },
    {
     "data": {
      "text/plain": [
       "np.float64(30000.005316089857)"
      ]
     },
     "execution_count": 111,
     "metadata": {},
     "output_type": "execute_result"
    }
   ],
   "source": [
    "print(p3b_gradient_boosting_forests_result_df['RMSE_found'].idxmin())\n",
    "RMSE_part3B = p3b_gradient_boosting_forests_result_df['RMSE_found'].min()\n",
    "\n",
    "Parameters_BT_p3b = Parameters_BT_list[p3a_Parameters_BT_df['MSE_found'].idxmin()].copy()\n",
    "\n",
    "RMSE_part3B\n"
   ]
  },
  {
   "cell_type": "code",
   "execution_count": null,
   "metadata": {},
   "outputs": [],
   "source": []
  },
  {
   "cell_type": "markdown",
   "metadata": {},
   "source": [
    "### Problem 3.A Graded Answer"
   ]
  },
  {
   "cell_type": "code",
   "execution_count": 112,
   "metadata": {},
   "outputs": [
    {
     "name": "stdout",
     "output_type": "stream",
     "text": [
      "a3a = $30,000.01\n",
      "\n"
     ]
    }
   ],
   "source": [
    "# TODO:  Set the variable to best CV RMSE score found after Part 3.A\n",
    "\n",
    "a3a = RMSE_part3A                                # Just to get it to run without error; your answer here (remember to use the RMSE)         \n",
    "\n",
    "print(f'a3a = ${a3a:,.2f}')              # Do not change this line, and DO NOT print anything else in this cell"
   ]
  },
  {
   "cell_type": "markdown",
   "metadata": {},
   "source": [
    "### **Part 3.B: Refine Parameters for Model Stability**  \n"
   ]
  },
  {
   "cell_type": "code",
   "execution_count": 113,
   "metadata": {},
   "outputs": [],
   "source": [
    "Parameters_BT_list=[]"
   ]
  },
  {
   "cell_type": "code",
   "execution_count": 114,
   "metadata": {},
   "outputs": [
    {
     "name": "stdout",
     "output_type": "stream",
     "text": [
      "Emulation mode: True\n",
      "Emulation mode parameters: {'learning_rate': 0.1, 'n_estimators': 100, 'max_depth': 3, 'max_features': None, 'random_state': 42, 'MSE_found': 900000914.4152344}\n"
     ]
    }
   ],
   "source": [
    "# 1. Sweep n_estimators:\n",
    "part_name = '3.B'\n",
    "param = 'n_estimators'\n",
    "parameter_list = range(200,800,50)   \n",
    "default_parameters = Default_Parameters_GradientBoosting.copy()\n",
    "model = GradientBoostingRegressor\n",
    "# Run bagging:\n",
    "gradient_boosting_result = sweep_parameter(model=model, \n",
    "                                    Parameters=default_parameters,\n",
    "                                    param = param,\n",
    "                                    parameter_list = parameter_list,\n",
    "                                    X_train          = X_train,\n",
    "                                    y_train          = y_train,\n",
    "                                    X_test           = X_test,\n",
    "                                    y_test           = y_test,\n",
    "                                    verbose          = True,\n",
    "                                    show_rmse        = True,\n",
    "                                    n_iter_no_change = None,\n",
    "                                    delta            = 0.001,\n",
    "                                    n_jobs           = -1,\n",
    "                                    n_repeats        = n_repeats)"
   ]
  },
  {
   "cell_type": "code",
   "execution_count": 115,
   "metadata": {},
   "outputs": [
    {
     "name": "stdout",
     "output_type": "stream",
     "text": [
      "augmented_gradient_boosting_result: {'learning_rate': 0.1, 'n_estimators': 100, 'max_depth': 3, 'max_features': None, 'random_state': 42, 'MSE_found': 900000914.4152344, 'param': 'n_estimators', 'part_name': '3.B', 'RMSE_found': np.float64(30000.015240250035)}\n"
     ]
    }
   ],
   "source": [
    "# Set variables:\n",
    "augmented_gradient_boosting_result = gradient_boosting_result.copy()\n",
    "Parameters_BT = gradient_boosting_result.copy()\n",
    "augmented_gradient_boosting_result['param'] = param\n",
    "augmented_gradient_boosting_result['part_name'] = part_name\n",
    "augmented_gradient_boosting_result['RMSE_found'] = np.sqrt(gradient_boosting_result['MSE_found'])\n",
    "print(f\"augmented_gradient_boosting_result: {augmented_gradient_boosting_result}\")\n",
    "# Lists:\n",
    "Parameters_BT_list.append(Parameters_BT)\n",
    "augmented_gradient_boosting_result_list.append(augmented_gradient_boosting_result)\n",
    "log_message(f'{augmented_gradient_boosting_result}')"
   ]
  },
  {
   "cell_type": "code",
   "execution_count": 116,
   "metadata": {},
   "outputs": [
    {
     "name": "stdout",
     "output_type": "stream",
     "text": [
      "Emulation mode: True\n",
      "Emulation mode parameters: {'learning_rate': 0.1, 'n_estimators': 100, 'max_depth': 3, 'max_features': None, 'random_state': 42, 'MSE_found': 900000839.8344978}\n"
     ]
    }
   ],
   "source": [
    "# Your code here: \n",
    "# 2. Sweep max_samples:\n",
    "param = 'max_depth'\n",
    "parameter_list = range(4,16) \n",
    "default_parameters = Parameters_BT.copy()\n",
    "model = GradientBoostingRegressor\n",
    "gradient_boosting_result = sweep_parameter(model=model, \n",
    "                                    Parameters=default_parameters,\n",
    "                                    param = param,\n",
    "                                    parameter_list = parameter_list,\n",
    "                                    X_train          = X_train,\n",
    "                                    y_train          = y_train,\n",
    "                                    X_test           = X_test,\n",
    "                                    y_test           = y_test,\n",
    "                                    verbose          = True,\n",
    "                                    show_rmse        = True,\n",
    "                                    n_iter_no_change = None,\n",
    "                                    delta            = 0.001,\n",
    "                                    n_jobs           = -1,\n",
    "                                    n_repeats        = n_repeats)"
   ]
  },
  {
   "cell_type": "code",
   "execution_count": 117,
   "metadata": {},
   "outputs": [
    {
     "name": "stdout",
     "output_type": "stream",
     "text": [
      "augmented_gradient_boosting_result: {'learning_rate': 0.1, 'n_estimators': 100, 'max_depth': 3, 'max_features': None, 'random_state': 42, 'MSE_found': 900000839.8344978, 'param': 'max_depth', 'part_name': '3.B', 'RMSE_found': np.float64(30000.013997238366)}\n"
     ]
    }
   ],
   "source": [
    "# Set variables:\n",
    "augmented_gradient_boosting_result = gradient_boosting_result.copy()\n",
    "Parameters_BT = gradient_boosting_result.copy()\n",
    "augmented_gradient_boosting_result['param'] = param\n",
    "augmented_gradient_boosting_result['part_name'] = part_name\n",
    "augmented_gradient_boosting_result['RMSE_found'] = np.sqrt(gradient_boosting_result['MSE_found'])\n",
    "print(f\"augmented_gradient_boosting_result: {augmented_gradient_boosting_result}\")\n",
    "# Lists:\n",
    "Parameters_BT_list.append(Parameters_BT)\n",
    "augmented_gradient_boosting_result_list.append(augmented_gradient_boosting_result)\n",
    "log_message(f'{augmented_gradient_boosting_result}')"
   ]
  },
  {
   "cell_type": "code",
   "execution_count": 118,
   "metadata": {},
   "outputs": [
    {
     "name": "stdout",
     "output_type": "stream",
     "text": [
      "Emulation mode: True\n",
      "Emulation mode parameters: {'learning_rate': 0.1, 'n_estimators': 100, 'max_depth': 3, 'max_features': None, 'random_state': 42, 'MSE_found': 900000862.2162246}\n"
     ]
    }
   ],
   "source": [
    "# Your code here: \n",
    "# 3. Sweep max_features:\n",
    "param = 'max_features'\n",
    "parameter_list = range(1,74)\n",
    "default_parameters = Parameters_BT.copy()\n",
    "model = GradientBoostingRegressor\n",
    "gradient_boosting_result = sweep_parameter(model=model, \n",
    "                                    Parameters=default_parameters,\n",
    "                                    param = param,\n",
    "                                    parameter_list = parameter_list,\n",
    "                                    X_train          = X_train,\n",
    "                                    y_train          = y_train,\n",
    "                                    X_test           = X_test,\n",
    "                                    y_test           = y_test,\n",
    "                                    verbose          = True,\n",
    "                                    show_rmse        = True,\n",
    "                                    n_iter_no_change = None,\n",
    "                                    delta            = 0.001,\n",
    "                                    n_jobs           = -1,\n",
    "                                    n_repeats        = n_repeats)\n"
   ]
  },
  {
   "cell_type": "code",
   "execution_count": 119,
   "metadata": {},
   "outputs": [
    {
     "name": "stdout",
     "output_type": "stream",
     "text": [
      "augmented_gradient_boosting_result: {'learning_rate': 0.1, 'n_estimators': 100, 'max_depth': 3, 'max_features': None, 'random_state': 42, 'MSE_found': 900000862.2162246, 'param': 'max_features', 'part_name': '3.B', 'RMSE_found': np.float64(30000.014370266967)}\n"
     ]
    }
   ],
   "source": [
    "# Set variables:\n",
    "augmented_gradient_boosting_result = gradient_boosting_result.copy()\n",
    "Parameters_BT = gradient_boosting_result.copy()\n",
    "augmented_gradient_boosting_result['param'] = param\n",
    "augmented_gradient_boosting_result['part_name'] = part_name\n",
    "augmented_gradient_boosting_result['RMSE_found'] = np.sqrt(gradient_boosting_result['MSE_found'])\n",
    "print(f\"augmented_gradient_boosting_result: {augmented_gradient_boosting_result}\")\n",
    "# Lists:\n",
    "Parameters_BT_list.append(Parameters_BT)\n",
    "augmented_gradient_boosting_result_list.append(augmented_gradient_boosting_result)\n",
    "log_message(f'{augmented_gradient_boosting_result}')"
   ]
  },
  {
   "cell_type": "code",
   "execution_count": 120,
   "metadata": {},
   "outputs": [
    {
     "name": "stdout",
     "output_type": "stream",
     "text": [
      "Emulation mode: True\n",
      "Emulation mode parameters: {'learning_rate': 0.1, 'n_estimators': 100, 'max_depth': 3, 'max_features': None, 'random_state': 42, 'MSE_found': 900000296.5588351}\n"
     ]
    }
   ],
   "source": [
    "# 3. Sweep min_samples_split:\n",
    "param = 'min_samples_split'\n",
    "parameter_list = [2,3,4,5]\n",
    "default_parameters = Parameters_BT.copy()\n",
    "model = GradientBoostingRegressor\n",
    "gradient_boosting_result = sweep_parameter(model=model, \n",
    "                                    Parameters=default_parameters,\n",
    "                                    param = param,\n",
    "                                    parameter_list = parameter_list,\n",
    "                                    X_train          = X_train,\n",
    "                                    y_train          = y_train,\n",
    "                                    X_test           = X_test,\n",
    "                                    y_test           = y_test,\n",
    "                                    verbose          = True,\n",
    "                                    show_rmse        = True,\n",
    "                                    n_iter_no_change = None,\n",
    "                                    delta            = 0.001,\n",
    "                                    n_jobs           = -1,\n",
    "                                    n_repeats        = n_repeats)"
   ]
  },
  {
   "cell_type": "code",
   "execution_count": 121,
   "metadata": {},
   "outputs": [
    {
     "name": "stdout",
     "output_type": "stream",
     "text": [
      "augmented_gradient_boosting_result: {'learning_rate': 0.1, 'n_estimators': 100, 'max_depth': 3, 'max_features': None, 'random_state': 42, 'MSE_found': 900000296.5588351, 'param': 'min_samples_split', 'part_name': '3.B', 'RMSE_found': np.float64(30000.004942646847)}\n"
     ]
    }
   ],
   "source": [
    "# Set variables:\n",
    "augmented_gradient_boosting_result = gradient_boosting_result.copy()\n",
    "Parameters_BT = gradient_boosting_result.copy()\n",
    "augmented_gradient_boosting_result['param'] = param\n",
    "augmented_gradient_boosting_result['part_name'] = part_name\n",
    "augmented_gradient_boosting_result['RMSE_found'] = np.sqrt(gradient_boosting_result['MSE_found'])\n",
    "print(f\"augmented_gradient_boosting_result: {augmented_gradient_boosting_result}\")\n",
    "# Lists:\n",
    "Parameters_BT_list.append(Parameters_BT)\n",
    "augmented_gradient_boosting_result_list.append(augmented_gradient_boosting_result)\n",
    "log_message(f'{augmented_gradient_boosting_result}')"
   ]
  },
  {
   "cell_type": "code",
   "execution_count": 122,
   "metadata": {},
   "outputs": [
    {
     "name": "stdout",
     "output_type": "stream",
     "text": [
      "Emulation mode: True\n",
      "Emulation mode parameters: {'learning_rate': 0.1, 'n_estimators': 100, 'max_depth': 3, 'max_features': None, 'random_state': 42, 'MSE_found': 900000786.0693358}\n"
     ]
    }
   ],
   "source": [
    "# 3. Sweep min_samples_split:\n",
    "param = 'min_samples_leaf'\n",
    "parameter_list = [1,2,3,4]\n",
    "default_parameters = Parameters_BT.copy()\n",
    "model = GradientBoostingRegressor\n",
    "gradient_boosting_result = sweep_parameter(model=model, \n",
    "                                    Parameters=default_parameters,\n",
    "                                    param = param,\n",
    "                                    parameter_list = parameter_list,\n",
    "                                    X_train          = X_train,\n",
    "                                    y_train          = y_train,\n",
    "                                    X_test           = X_test,\n",
    "                                    y_test           = y_test,\n",
    "                                    verbose          = True,\n",
    "                                    show_rmse        = True,\n",
    "                                    n_iter_no_change = None,\n",
    "                                    delta            = 0.001,\n",
    "                                    n_jobs           = -1,\n",
    "                                    n_repeats        = n_repeats)"
   ]
  },
  {
   "cell_type": "code",
   "execution_count": 123,
   "metadata": {},
   "outputs": [
    {
     "name": "stdout",
     "output_type": "stream",
     "text": [
      "augmented_gradient_boosting_result: {'learning_rate': 0.1, 'n_estimators': 100, 'max_depth': 3, 'max_features': None, 'random_state': 42, 'MSE_found': 900000786.0693358, 'param': 'min_samples_leaf', 'part_name': '3.B', 'RMSE_found': np.float64(30000.013101152737)}\n",
      "\n"
     ]
    }
   ],
   "source": [
    "# Set variables:\n",
    "augmented_gradient_boosting_result = gradient_boosting_result.copy()\n",
    "Parameters_BT = gradient_boosting_result.copy()\n",
    "augmented_gradient_boosting_result['param'] = param\n",
    "augmented_gradient_boosting_result['part_name'] = part_name\n",
    "augmented_gradient_boosting_result['RMSE_found'] = np.sqrt(gradient_boosting_result['MSE_found'])\n",
    "print(f\"augmented_gradient_boosting_result: {augmented_gradient_boosting_result}\")\n",
    "# Lists:\n",
    "Parameters_BT_list.append(Parameters_BT)\n",
    "augmented_gradient_boosting_result_list.append(augmented_gradient_boosting_result)\n",
    "log_message(f'{augmented_gradient_boosting_result}')"
   ]
  },
  {
   "cell_type": "code",
   "execution_count": 124,
   "metadata": {},
   "outputs": [
    {
     "data": {
      "text/html": [
       "<div>\n",
       "<style scoped>\n",
       "    .dataframe tbody tr th:only-of-type {\n",
       "        vertical-align: middle;\n",
       "    }\n",
       "\n",
       "    .dataframe tbody tr th {\n",
       "        vertical-align: top;\n",
       "    }\n",
       "\n",
       "    .dataframe thead th {\n",
       "        text-align: right;\n",
       "    }\n",
       "</style>\n",
       "<table border=\"1\" class=\"dataframe\">\n",
       "  <thead>\n",
       "    <tr style=\"text-align: right;\">\n",
       "      <th></th>\n",
       "      <th>learning_rate</th>\n",
       "      <th>n_estimators</th>\n",
       "      <th>max_depth</th>\n",
       "      <th>max_features</th>\n",
       "      <th>random_state</th>\n",
       "      <th>MSE_found</th>\n",
       "      <th>param</th>\n",
       "      <th>part_name</th>\n",
       "      <th>RMSE_found</th>\n",
       "    </tr>\n",
       "  </thead>\n",
       "  <tbody>\n",
       "    <tr>\n",
       "      <th>0</th>\n",
       "      <td>0.1</td>\n",
       "      <td>100</td>\n",
       "      <td>3</td>\n",
       "      <td>None</td>\n",
       "      <td>42</td>\n",
       "      <td>9.000004e+08</td>\n",
       "      <td>n_estimators</td>\n",
       "      <td>3.A</td>\n",
       "      <td>30000.007477</td>\n",
       "    </tr>\n",
       "    <tr>\n",
       "      <th>1</th>\n",
       "      <td>0.1</td>\n",
       "      <td>100</td>\n",
       "      <td>3</td>\n",
       "      <td>None</td>\n",
       "      <td>42</td>\n",
       "      <td>9.000006e+08</td>\n",
       "      <td>max_depth</td>\n",
       "      <td>3.A</td>\n",
       "      <td>30000.009680</td>\n",
       "    </tr>\n",
       "    <tr>\n",
       "      <th>2</th>\n",
       "      <td>0.1</td>\n",
       "      <td>100</td>\n",
       "      <td>3</td>\n",
       "      <td>None</td>\n",
       "      <td>42</td>\n",
       "      <td>9.000004e+08</td>\n",
       "      <td>max_features</td>\n",
       "      <td>3.A</td>\n",
       "      <td>30000.005939</td>\n",
       "    </tr>\n",
       "    <tr>\n",
       "      <th>3</th>\n",
       "      <td>0.1</td>\n",
       "      <td>100</td>\n",
       "      <td>3</td>\n",
       "      <td>None</td>\n",
       "      <td>42</td>\n",
       "      <td>9.000005e+08</td>\n",
       "      <td>min_samples_split</td>\n",
       "      <td>3.A</td>\n",
       "      <td>30000.008736</td>\n",
       "    </tr>\n",
       "    <tr>\n",
       "      <th>4</th>\n",
       "      <td>0.1</td>\n",
       "      <td>100</td>\n",
       "      <td>3</td>\n",
       "      <td>None</td>\n",
       "      <td>42</td>\n",
       "      <td>9.000007e+08</td>\n",
       "      <td>min_samples_leaf</td>\n",
       "      <td>3.A</td>\n",
       "      <td>30000.012405</td>\n",
       "    </tr>\n",
       "    <tr>\n",
       "      <th>5</th>\n",
       "      <td>0.1</td>\n",
       "      <td>100</td>\n",
       "      <td>3</td>\n",
       "      <td>None</td>\n",
       "      <td>42</td>\n",
       "      <td>9.000008e+08</td>\n",
       "      <td>n_estimators</td>\n",
       "      <td>3.B</td>\n",
       "      <td>30000.013420</td>\n",
       "    </tr>\n",
       "    <tr>\n",
       "      <th>6</th>\n",
       "      <td>0.1</td>\n",
       "      <td>100</td>\n",
       "      <td>3</td>\n",
       "      <td>None</td>\n",
       "      <td>42</td>\n",
       "      <td>9.000006e+08</td>\n",
       "      <td>max_depth</td>\n",
       "      <td>3.B</td>\n",
       "      <td>30000.010820</td>\n",
       "    </tr>\n",
       "    <tr>\n",
       "      <th>7</th>\n",
       "      <td>0.1</td>\n",
       "      <td>100</td>\n",
       "      <td>3</td>\n",
       "      <td>None</td>\n",
       "      <td>42</td>\n",
       "      <td>9.000003e+08</td>\n",
       "      <td>max_features</td>\n",
       "      <td>3.B</td>\n",
       "      <td>30000.005316</td>\n",
       "    </tr>\n",
       "    <tr>\n",
       "      <th>8</th>\n",
       "      <td>0.1</td>\n",
       "      <td>100</td>\n",
       "      <td>3</td>\n",
       "      <td>None</td>\n",
       "      <td>42</td>\n",
       "      <td>9.000007e+08</td>\n",
       "      <td>min_samples_split</td>\n",
       "      <td>3.B</td>\n",
       "      <td>30000.010862</td>\n",
       "    </tr>\n",
       "    <tr>\n",
       "      <th>9</th>\n",
       "      <td>0.1</td>\n",
       "      <td>100</td>\n",
       "      <td>3</td>\n",
       "      <td>None</td>\n",
       "      <td>42</td>\n",
       "      <td>9.000005e+08</td>\n",
       "      <td>min_samples_leaf</td>\n",
       "      <td>3.B</td>\n",
       "      <td>30000.008119</td>\n",
       "    </tr>\n",
       "    <tr>\n",
       "      <th>10</th>\n",
       "      <td>0.1</td>\n",
       "      <td>100</td>\n",
       "      <td>3</td>\n",
       "      <td>None</td>\n",
       "      <td>42</td>\n",
       "      <td>9.000009e+08</td>\n",
       "      <td>n_estimators</td>\n",
       "      <td>3.B</td>\n",
       "      <td>30000.015240</td>\n",
       "    </tr>\n",
       "    <tr>\n",
       "      <th>11</th>\n",
       "      <td>0.1</td>\n",
       "      <td>100</td>\n",
       "      <td>3</td>\n",
       "      <td>None</td>\n",
       "      <td>42</td>\n",
       "      <td>9.000008e+08</td>\n",
       "      <td>max_depth</td>\n",
       "      <td>3.B</td>\n",
       "      <td>30000.013997</td>\n",
       "    </tr>\n",
       "    <tr>\n",
       "      <th>12</th>\n",
       "      <td>0.1</td>\n",
       "      <td>100</td>\n",
       "      <td>3</td>\n",
       "      <td>None</td>\n",
       "      <td>42</td>\n",
       "      <td>9.000009e+08</td>\n",
       "      <td>max_features</td>\n",
       "      <td>3.B</td>\n",
       "      <td>30000.014370</td>\n",
       "    </tr>\n",
       "    <tr>\n",
       "      <th>13</th>\n",
       "      <td>0.1</td>\n",
       "      <td>100</td>\n",
       "      <td>3</td>\n",
       "      <td>None</td>\n",
       "      <td>42</td>\n",
       "      <td>9.000003e+08</td>\n",
       "      <td>min_samples_split</td>\n",
       "      <td>3.B</td>\n",
       "      <td>30000.004943</td>\n",
       "    </tr>\n",
       "    <tr>\n",
       "      <th>14</th>\n",
       "      <td>0.1</td>\n",
       "      <td>100</td>\n",
       "      <td>3</td>\n",
       "      <td>None</td>\n",
       "      <td>42</td>\n",
       "      <td>9.000008e+08</td>\n",
       "      <td>min_samples_leaf</td>\n",
       "      <td>3.B</td>\n",
       "      <td>30000.013101</td>\n",
       "    </tr>\n",
       "  </tbody>\n",
       "</table>\n",
       "</div>"
      ],
      "text/plain": [
       "    learning_rate  n_estimators  max_depth max_features  random_state  \\\n",
       "0             0.1           100          3         None            42   \n",
       "1             0.1           100          3         None            42   \n",
       "2             0.1           100          3         None            42   \n",
       "3             0.1           100          3         None            42   \n",
       "4             0.1           100          3         None            42   \n",
       "5             0.1           100          3         None            42   \n",
       "6             0.1           100          3         None            42   \n",
       "7             0.1           100          3         None            42   \n",
       "8             0.1           100          3         None            42   \n",
       "9             0.1           100          3         None            42   \n",
       "10            0.1           100          3         None            42   \n",
       "11            0.1           100          3         None            42   \n",
       "12            0.1           100          3         None            42   \n",
       "13            0.1           100          3         None            42   \n",
       "14            0.1           100          3         None            42   \n",
       "\n",
       "       MSE_found              param part_name    RMSE_found  \n",
       "0   9.000004e+08       n_estimators       3.A  30000.007477  \n",
       "1   9.000006e+08          max_depth       3.A  30000.009680  \n",
       "2   9.000004e+08       max_features       3.A  30000.005939  \n",
       "3   9.000005e+08  min_samples_split       3.A  30000.008736  \n",
       "4   9.000007e+08   min_samples_leaf       3.A  30000.012405  \n",
       "5   9.000008e+08       n_estimators       3.B  30000.013420  \n",
       "6   9.000006e+08          max_depth       3.B  30000.010820  \n",
       "7   9.000003e+08       max_features       3.B  30000.005316  \n",
       "8   9.000007e+08  min_samples_split       3.B  30000.010862  \n",
       "9   9.000005e+08   min_samples_leaf       3.B  30000.008119  \n",
       "10  9.000009e+08       n_estimators       3.B  30000.015240  \n",
       "11  9.000008e+08          max_depth       3.B  30000.013997  \n",
       "12  9.000009e+08       max_features       3.B  30000.014370  \n",
       "13  9.000003e+08  min_samples_split       3.B  30000.004943  \n",
       "14  9.000008e+08   min_samples_leaf       3.B  30000.013101  "
      ]
     },
     "execution_count": 124,
     "metadata": {},
     "output_type": "execute_result"
    }
   ],
   "source": [
    "p3b_Parameters_BT_df = pd.DataFrame(Parameters_BT_list)\n",
    "\n",
    "p3b_gradient_boosting_forests_result_df = pd.DataFrame(augmented_gradient_boosting_result_list)\n",
    "p3b_gradient_boosting_forests_result_df\n"
   ]
  },
  {
   "cell_type": "code",
   "execution_count": 125,
   "metadata": {},
   "outputs": [
    {
     "name": "stdout",
     "output_type": "stream",
     "text": [
      "13\n"
     ]
    },
    {
     "data": {
      "text/plain": [
       "np.float64(30000.004942646847)"
      ]
     },
     "execution_count": 125,
     "metadata": {},
     "output_type": "execute_result"
    }
   ],
   "source": [
    "print(p3b_gradient_boosting_forests_result_df['RMSE_found'].idxmin())\n",
    "RMSE_part3B = p3b_gradient_boosting_forests_result_df['RMSE_found'].min()\n",
    "\n",
    "Parameters_BT_p3b = Parameters_BT_list[p3b_Parameters_BT_df['MSE_found'].idxmin()].copy()\n",
    "\n",
    "RMSE_part3B\n"
   ]
  },
  {
   "cell_type": "markdown",
   "metadata": {},
   "source": [
    "### Problem 3.B Graded Answer"
   ]
  },
  {
   "cell_type": "code",
   "execution_count": 126,
   "metadata": {},
   "outputs": [
    {
     "name": "stdout",
     "output_type": "stream",
     "text": [
      "a3b = $30,000.00\n"
     ]
    }
   ],
   "source": [
    "# TODO:  Set the variable to best CV RMSE score found after Part 3.B (it may not be different than Part 3.A)\n",
    "\n",
    "a3b = RMSE_part3B                                # Just to get it to run without error; your answer here           \n",
    "\n",
    "print(f'a3b = ${a3b:,.2f}')              # Do not change this line, and DO NOT print anything else in this cell"
   ]
  },
  {
   "cell_type": "markdown",
   "metadata": {},
   "source": [
    "### **Part 3.C: Use `GridSearchCV` for Exhaustive Search**  "
   ]
  },
  {
   "cell_type": "code",
   "execution_count": 128,
   "metadata": {},
   "outputs": [
    {
     "name": "stdout",
     "output_type": "stream",
     "text": [
      "\n",
      "Search Results (Top 5):\n",
      "\n",
      " n_estimators  min_samples_leaf  max_samples  param_learning_rate  max_depth  min_samples_leaf  min_samples_split  mean_cv_score  std_cv_score  mean_train_score  std_train_score\n",
      "          690                 1           20                  0.1         10                 1                  2   5.823319e+08  9.568464e+07      2.826891e-06     2.529316e-06\n",
      "          680                 1           20                  0.1         10                 1                  2   5.823319e+08  9.568464e+07      3.968899e-06     3.470327e-06\n",
      "          690                 1           23                  0.1         15                 1                  2   5.863370e+08  7.666612e+07      2.195722e-16     1.885942e-18\n",
      "          680                 1           23                  0.1         15                 1                  2   5.863370e+08  7.666612e+07      2.195722e-16     1.885942e-18\n",
      "          680                 1           21                  0.1         10                 1                  2   5.951725e+08  7.645277e+07      4.367220e-06     2.522244e-06\n",
      "\n",
      "Best Parameters: {'learning_rate': 0.1, 'max_depth': 10, 'max_features': 20, 'min_samples_leaf': 1, 'min_samples_split': 2, 'n_estimators': 690}\n",
      "Best CV MSE: 582331897.9819\n",
      "Test MSE:    723775911.4424\n",
      "Execution Time: 00:03:41\n"
     ]
    }
   ],
   "source": [
    "n_iterations = 10            # How many samples to take from the distributions shown here (rest are defaults):  \n",
    "\n",
    "# Record start time\n",
    "start = time.time()\n",
    "\n",
    "# Define the model\n",
    "rf_model = GradientBoostingRegressor(random_state=random_state)\n",
    "\n",
    " \n",
    "# Define the parameter grid\n",
    "param_dist = {\n",
    "    'learning_rate': [0.1],\n",
    "    'n_estimators': range(680,700,10),          # < - set  here\n",
    "    'max_depth': range(10,16),               # < - set  here\n",
    "    'max_features': range(20,25),\n",
    "    'min_samples_leaf': [1],\n",
    "    'min_samples_split' : [2]\n",
    "}\n",
    "\n",
    "# Use GridSearchCV to find the best parameters\n",
    "search = GridSearchCV(\n",
    "    estimator=rf_model,\n",
    "    param_grid=param_dist,\n",
    "    scoring='neg_mean_squared_error',  # MSE but negated for maximization by GridSearchCV\n",
    "    cv=5,  # Number of folds for cross-validation -- Reduce this if efficiency is an issue\n",
    "    n_jobs=-1,  # Use all available cores\n",
    "    return_train_score=True\n",
    ")\n",
    "\n",
    "# Fit the GridSearchCV\n",
    "search.fit(X_train, y_train)  \n",
    "\n",
    "# Extract results into a DataFrame\n",
    "results = pd.DataFrame(search.cv_results_)\n",
    "\n",
    "# Select relevant columns for readability\n",
    "results = results[[\n",
    "    'param_n_estimators',\n",
    "    'param_min_samples_leaf',\n",
    "    'param_max_features',\n",
    "    'param_learning_rate',\n",
    "    'param_max_depth',\n",
    "    'param_min_samples_leaf',\n",
    "    'param_min_samples_split',\n",
    "    'mean_test_score',\n",
    "    'std_test_score',\n",
    "    'mean_train_score',  # Include training score\n",
    "    'std_train_score',   # Include standard deviation of training score\n",
    "    'rank_test_score'\n",
    "]]\n",
    "\n",
    "# Convert negative MSE to positive\n",
    "results['mean_test_score'] = -results['mean_test_score']\n",
    "results['mean_train_score'] = -results['mean_train_score']\n",
    "\n",
    "# Sort by rank (best scores first)\n",
    "results = results.sort_values(by='rank_test_score')\n",
    "\n",
    "# Rename columns for printing only\n",
    "renamed_results = results.rename(\n",
    "    columns={\n",
    "        'param_n_estimators': 'n_estimators',\n",
    "        'param_min_samples_leaf': 'min_samples_leaf',\n",
    "        'param_max_features': 'max_samples',\n",
    "        'param_learning_rate': 'param_learning_rate',\n",
    "        'param_max_depth': 'max_depth',\n",
    "        'param_min_samples_leaf': 'min_samples_leaf',\n",
    "        'param_min_samples_split': 'min_samples_split',\n",
    "        'mean_test_score': 'mean_cv_score',\n",
    "        'std_test_score': 'std_cv_score',\n",
    "        'mean_train_score': 'mean_train_score',\n",
    "        'std_train_score': 'std_train_score'\n",
    "    }\n",
    ").drop(columns=['rank_test_score'])  # Drop the rank column for readability\n",
    "\n",
    "# Print the results as a table\n",
    "print(\"\\nSearch Results (Top 5):\\n\")\n",
    "print(renamed_results.head(5).to_string(index=False))  # Show the top 5 results with new headers\n",
    "\n",
    "# Best parameters and test performance\n",
    "print(f\"\\nBest Parameters: {search.best_params_}\")\n",
    "print(f\"Best CV MSE: {-search.best_score_:.4f}\")\n",
    "\n",
    "# Evaluate on the test set\n",
    "y_pred_rf = search.best_estimator_.predict(X_test)\n",
    "test_mse = mean_squared_error(y_test, y_pred_rf)\n",
    "\n",
    "print(f\"Test MSE:    {test_mse:.4f}\")\n",
    "\n",
    "# Record end time and execution time\n",
    "end = time.time()\n",
    "print(\"Execution Time:\", time.strftime(\"%H:%M:%S\", time.gmtime(end-start)))\n"
   ]
  },
  {
   "cell_type": "code",
   "execution_count": 129,
   "metadata": {},
   "outputs": [
    {
     "name": "stdout",
     "output_type": "stream",
     "text": [
      "Best CV RMSE: 24131.5540\n",
      "RMSE_part2A: 30000.00593883649\n",
      "RMSE_part2B: 30000.004942646847\n",
      "RMSE_part2C: 24131.553990199944\n",
      "Success!: RMSE_part3C: 24,131.55 is less than RMSE_part3B: 30,000.00\n"
     ]
    }
   ],
   "source": [
    "print(f\"Best CV RMSE: {np.sqrt(-search.best_score_):.4f}\")\n",
    "Parameters_BT_p3c = search.best_params_\n",
    "RMSE_part3C = np.sqrt(-search.best_score_)\n",
    "\n",
    "print(f\"RMSE_part2A: {RMSE_part3A}\")\n",
    "print(f\"RMSE_part2B: {RMSE_part3B}\")\n",
    "print(f\"RMSE_part2C: {RMSE_part3C}\")\n",
    "\n",
    "if RMSE_part3C < RMSE_part3B:\n",
    "    print(f\"Success!: RMSE_part3C: {RMSE_part3C:,.2f} is less than RMSE_part3B: {RMSE_part3B:,.2f}\")\n",
    "else:\n",
    "    print(f\"Failure!: RMSE_part3B: {RMSE_part3C:,.2f} is greater than RMSE_part3B: {RMSE_part3B:,.2f}\")"
   ]
  },
  {
   "cell_type": "markdown",
   "metadata": {},
   "source": [
    "### Problem 3.C Graded Answer"
   ]
  },
  {
   "cell_type": "code",
   "execution_count": 130,
   "metadata": {},
   "outputs": [
    {
     "name": "stdout",
     "output_type": "stream",
     "text": [
      "a3c = $24,131.55\n"
     ]
    }
   ],
   "source": [
    "# TODO:  Set the variable to best CV RMSE score found in Part C (it may not be different than Parts A and B)\n",
    "\n",
    "a3c = RMSE_part3C                               # Just to get it to run without error; your answer here           \n",
    "\n",
    "print(f'a3c = ${a3c:,.2f}')              # Do not change this line, and DO NOT print anything else in this cell"
   ]
  },
  {
   "cell_type": "markdown",
   "metadata": {},
   "source": [
    "### **Part 3.D: Evaluate Model Generalization**  \n"
   ]
  },
  {
   "cell_type": "markdown",
   "metadata": {},
   "source": [
    "### Problem 3.D Graded Answer"
   ]
  },
  {
   "cell_type": "code",
   "execution_count": 134,
   "metadata": {},
   "outputs": [
    {
     "name": "stdout",
     "output_type": "stream",
     "text": [
      "Parameters_BT_p3a: {'n_estimators': 100, 'max_features': None, 'max_depth': None, 'bootstrap': True, 'random_state': 42, 'MSE_found': 900000221.2789055}\n",
      "Parameters_BT_p3b: {'learning_rate': 0.1, 'n_estimators': 100, 'max_depth': 3, 'max_features': None, 'random_state': 42, 'MSE_found': 900000296.5588351}\n",
      "Parameters_BT_p3c: {'learning_rate': 0.1, 'max_depth': 10, 'max_features': 20, 'min_samples_leaf': 1, 'min_samples_split': 2, 'n_estimators': 690}\n",
      "===== Model Comparison =====\n",
      "Part A Model CV RMSE: 35692.02 (Std: 0.00)\n",
      "Part A Model Test RMSE: 33933.87\n",
      "Part A Model Train RMSE: 2.05\n",
      "Part A Model CV MSE Std: 265259728.95\n",
      "===== Model Comparison =====\n",
      "Part B Model CV RMSE: 24440.03 (Std: 0.00)\n",
      "Part B Model Test RMSE: 26532.47\n",
      "Part B Model Train RMSE: 15698.48\n",
      "Part B Model CV MSE Std: 259335204.14\n",
      "===== Model Comparison =====\n",
      "Part C Model CV RMSE: 25645.62 (Std: 0.00)\n",
      "Part C Model Test RMSE: 26071.02\n",
      "Part C Model Train RMSE: 0.01\n",
      "Part C Model CV MSE Std: 240728916.08\n",
      "Selected Model: Part B (Manual Tuning)\n",
      "best parameters : {'learning_rate': 0.1, 'n_estimators': 100, 'max_depth': 3, 'max_features': None, 'random_state': 42, 'MSE_found': 900000296.5588351}\n",
      "a1d Answer : 1\n"
     ]
    }
   ],
   "source": [
    "print(f\"Parameters_BT_p3a: {Parameters_BT_p3a}\")\n",
    "print(f\"Parameters_BT_p3b: {Parameters_BT_p3b}\")\n",
    "print(f\"Parameters_BT_p3c: {Parameters_BT_p3c}\")\n",
    "model_2 = GradientBoostingRegressor\n",
    "\n",
    "# -------------------\n",
    "P_temp = Parameters_BT_p3a.copy()\n",
    "if 'bootstrap' in P_temp:\n",
    "    P_temp.pop('bootstrap')\n",
    "cv_mse, std_cv, train_mse, test_mse = run_model(\n",
    "            model=model_2,\n",
    "            X_train=X_train, y_train=y_train,\n",
    "            X_test=X_test,   y_test=y_test,\n",
    "            n_repeats=n_repeats,\n",
    "            n_jobs=-1,\n",
    "            **P_temp\n",
    "        )\n",
    "\n",
    "std_cv_A = std_cv\n",
    "train_rmse_A = np.sqrt(train_mse)\n",
    "cv_rmse_A = np.sqrt(cv_mse)\n",
    "test_rmse_A = np.sqrt(test_mse)\n",
    "cv_mse_std_A = np.std(std_cv)\n",
    "print(\"===== Model Comparison =====\")\n",
    "print(f\"Part A Model CV RMSE: {cv_rmse_A:.2f} (Std: {cv_mse_std_A:.2f})\")\n",
    "print(f\"Part A Model Test RMSE: {test_rmse_A:.2f}\")\n",
    "print(f\"Part A Model Train RMSE: {train_rmse_A:.2f}\")\n",
    "print(f\"Part A Model CV MSE Std: {std_cv_A:.2f}\")\n",
    "\n",
    "# -------------------\n",
    "P_temp = Parameters_BT_p3b.copy()\n",
    "if 'bootstrap' in P_temp:\n",
    "    P_temp.pop('bootstrap')\n",
    "cv_mse, std_cv, train_mse, test_mse = run_model(\n",
    "            model=model_2,\n",
    "            X_train=X_train, y_train=y_train,\n",
    "            X_test=X_test,   y_test=y_test,\n",
    "            n_repeats=n_repeats,\n",
    "            n_jobs=-1,\n",
    "            **P_temp\n",
    "        )\n",
    "\n",
    "std_cv_B = std_cv\n",
    "train_rmse_B = np.sqrt(train_mse)\n",
    "cv_rmse_B = np.sqrt(cv_mse)\n",
    "test_rmse_B = np.sqrt(test_mse)\n",
    "cv_mse_std_B = np.std(std_cv)\n",
    "print(\"===== Model Comparison =====\")\n",
    "print(f\"Part B Model CV RMSE: {cv_rmse_B:.2f} (Std: {cv_mse_std_B:.2f})\")\n",
    "print(f\"Part B Model Test RMSE: {test_rmse_B:.2f}\")\n",
    "print(f\"Part B Model Train RMSE: {train_rmse_B:.2f}\")\n",
    "print(f\"Part B Model CV MSE Std: {std_cv_B:.2f}\")\n",
    "\n",
    "# -------------\n",
    "P_temp = Parameters_BT_p3c.copy()\n",
    "if 'bootstrap' in P_temp:\n",
    "    P_temp.pop('bootstrap')\n",
    "cv_mse, std_cv, train_mse, test_mse = run_model(\n",
    "            model=model_2,\n",
    "            X_train=X_train, y_train=y_train,\n",
    "            X_test=X_test,   y_test=y_test,\n",
    "            n_repeats=n_repeats,\n",
    "            n_jobs=-1,\n",
    "            **P_temp\n",
    "        )\n",
    "std_cv_C = std_cv\n",
    "train_rmse_C = np.sqrt(train_mse)\n",
    "cv_rmse_C = np.sqrt(cv_mse)\n",
    "test_rmse_C = np.sqrt(test_mse)\n",
    "cv_mse_std_C = np.std(std_cv)\n",
    "print(\"===== Model Comparison =====\")\n",
    "print(f\"Part C Model CV RMSE: {cv_rmse_C:.2f} (Std: {cv_mse_std_C:.2f})\")\n",
    "print(f\"Part C Model Test RMSE: {test_rmse_C:.2f}\")\n",
    "print(f\"Part C Model Train RMSE: {train_rmse_C:.2f}\")\n",
    "print(f\"Part C Model CV MSE Std: {std_cv_C:.2f}\")\n",
    "\n",
    "# --------------------\n",
    "a3d_answer = 1 # expected (to be checked!)\n",
    "print(\"Selected Model: Part B (Manual Tuning)\")\n",
    "print(f\"best parameters : {Parameters_BT_p3b}\")\n",
    "print(f\"a1d Answer : {a3d_answer}\")\n"
   ]
  },
  {
   "cell_type": "code",
   "execution_count": 135,
   "metadata": {},
   "outputs": [
    {
     "name": "stdout",
     "output_type": "stream",
     "text": [
      "a3d = 1\n"
     ]
    }
   ],
   "source": [
    "# TODO:  Which of options 1, 2, or 3 did you choose?\n",
    "\n",
    "a3d = a3d_answer                               # Should be integer 1, 2, or 3          \n",
    "\n",
    "print(f'a3d = {a3d}')                    # Do not change this line, and DO NOT print anything else in this cell"
   ]
  },
  {
   "cell_type": "markdown",
   "metadata": {},
   "source": [
    "### Problem 3.D Non-Graded Answer but Please Do It\n",
    "\n",
    "Describe in a couple of sentences how your examination of the plots led to your decision. (You'll be expected to answer many such questions when you do your project, so this is good practice, and I'll read as many of your answers as I can.)\n",
    "\n",
    "Your Answer: \n",
    "\n",
    "\n",
    "\n",
    "\n"
   ]
  },
  {
   "cell_type": "markdown",
   "metadata": {},
   "source": [
    "### **Part 3.E: Report the Test Score of the Best Model**  \n",
    "Once you have selected the best model, **report its final test score** and answer the graded question.   \n"
   ]
  },
  {
   "cell_type": "code",
   "execution_count": 136,
   "metadata": {},
   "outputs": [
    {
     "name": "stdout",
     "output_type": "stream",
     "text": [
      "===== Part 1.E: Final Test Score =====\n",
      "Final Test RMSE: 33933.87 dollars\n"
     ]
    }
   ],
   "source": [
    "# Run your best model here on the test data and print out the resulting test RMSE. \n",
    "# Run your best model here on the test data and print out the resulting test RMSE. \n",
    "print(\"===== Part 1.E: Final Test Score =====\")\n",
    "print(f\"Final Test RMSE: {test_rmse_A:.2f} dollars\") \n",
    "\n",
    "final_test_score = test_rmse_A\n",
    "\n"
   ]
  },
  {
   "cell_type": "markdown",
   "metadata": {},
   "source": [
    "### Problem 3.E Graded Answer"
   ]
  },
  {
   "cell_type": "code",
   "execution_count": 138,
   "metadata": {},
   "outputs": [
    {
     "name": "stdout",
     "output_type": "stream",
     "text": [
      "a3e = $33,933.87\n"
     ]
    }
   ],
   "source": [
    "# TODO:  Assign the variable to the test RMSE of the model you selected in Part E\n",
    "\n",
    "a3e = test_rmse_A                        # Just to get it to run without error; your answer here           \n",
    "\n",
    "print(f'a3e = ${a3e:,.2f}')              # Do not change this line, and DO NOT print anything else in this cell"
   ]
  },
  {
   "cell_type": "markdown",
   "metadata": {},
   "source": [
    "## Appendix 1: Which `BaggingRegressor` parameters are most important?\n",
    "\n",
    "When exploring ensemble methods like `BaggingRegressor`, it's best to focus at first on the parameters that directly influence both the behavior of the individual base estimators and the overall ensemble performance. Here is an approximate ordering of the parameters from most significant to least. In this homework, we will experiment with the top **four** parameters.\n",
    "\n",
    "---\n",
    "\n",
    "**Most Important Parameters**\n",
    "\n",
    "1. **n_estimators** (default: **10**)  \n",
    "   *Determines the number of base estimators in the ensemble. Increasing this number can reduce variance and improve performance, though it comes with higher computational cost.*\n",
    "\n",
    "2. **max_samples** (default: **1.0**)  \n",
    "   *Specifies the number (or fraction) of samples to draw from the training set for each base estimator. This is crucial for controlling the diversity of the estimators and can directly affect bias and variance.*\n",
    "\n",
    "3. **max_features** (default: **1.0**)  \n",
    "   *Specifies the number (or fraction) of features to consider when training each base estimator. Adjusting this parameter can help manage overfitting by limiting the complexity of each individual estimator.*\n",
    "\n",
    "4. **bootstrap** (default: **True**)  \n",
    "   *Indicates whether samples are drawn with replacement. Bootstrap sampling introduces randomness into the training process, leading to more diverse estimators and often improved ensemble performance.*\n",
    "\n",
    "---\n",
    "\n",
    "**Less Important Parameters**\n",
    "\n",
    "5. **base_estimator** (default: **None**)  \n",
    "   *Defines the underlying estimator to be used. If set to `None`, BaggingRegressor defaults to using a DecisionTreeRegressor. Experimenting with different base estimators can provide valuable insights into model performance.*\n",
    "\n",
    "6. **oob_score** (default: **False**)  \n",
    "   *If enabled, the model uses out-of-bag samples to estimate the generalization error, providing an internal validation metric without the need for a separate validation set.*\n",
    "\n",
    "7. **bootstrap_features** (default: **False**)  \n",
    "   *Specifies whether features are sampled with replacement. This additional layer of randomness can further increase estimator diversity, though its impact is typically less significant than sample bootstrapping.*\n"
   ]
  },
  {
   "cell_type": "markdown",
   "metadata": {},
   "source": [
    "## Appendix 2: Which `RandomForestRegressor` parameters are most important?\n",
    "\n",
    "We will focus on the top **four** parameters in this list for `RandomForestRegressor`. \n",
    "\n",
    "---\n",
    "\n",
    "**Most Important Parameters**\n",
    "\n",
    "1. **n_estimators** (default: **100**)  \n",
    "   *Determines the number of trees in the forest. Increasing this number generally improves performance and model stability, albeit with higher computational cost.*\n",
    "\n",
    "2. **max_features** (default: **None**)  \n",
    "   *Specifies the number of features to consider when looking for the best split. Adjusting this can help manage the bias-variance trade-off and affect the diversity among the trees.*\n",
    "\n",
    "3. **max_depth** (default: **None**)  \n",
    "   *Limits the depth of each tree. Restricting the maximum depth is an effective way to control overfitting and reduce the complexity of the model.*\n",
    "\n",
    "4. **bootstrap** (default: **True**)  \n",
    "   *Indicates whether bootstrap samples are used when building trees. Enabling bootstrap sampling introduces randomness into the training process, which can improve the generalization of the ensemble.*\n",
    "\n",
    "---\n",
    "\n",
    "**Less Important Parameters**\n",
    "\n",
    "5. **min_samples_split** (default: **2**)  \n",
    "   *Defines the minimum number of samples required to split an internal node. Tuning this parameter affects how the tree grows, influencing its granularity and robustness.*\n",
    "\n",
    "6. **min_samples_leaf** (default: **1**)  \n",
    "   *Specifies the minimum number of samples that must be present in a leaf node. This parameter ensures that leaves are not created with too few samples, which can help mitigate overfitting.*\n",
    "\n",
    "7. **oob_score** (default: **False**)  \n",
    "   *If enabled, uses out-of-bag samples to estimate the generalization error, providing an internal validation measure without the need for a separate validation set.*\n",
    "\n",
    "8. **criterion** (default: **'squared_error'**)  \n",
    "   *Determines the function used to measure the quality of a split. While its effect is typically subtle, experimenting with this parameter can reveal how different error metrics impact performance.*\n",
    "\n"
   ]
  },
  {
   "cell_type": "markdown",
   "metadata": {},
   "source": [
    "## Appendix 3: Which `GradientBoostingRegressor` parameters are most important?\n",
    "\n",
    "We will focus on the top **four** parameters in this list for `GradientBoostingRegressor`. \n",
    "\n",
    "---\n",
    "\n",
    "**Most Important Parameters**\n",
    "\n",
    "1. **learning_rate** (default: **0.1**)  \n",
    "   *Controls the contribution of each individual tree. A lower learning rate generally requires more trees but can lead to improved generalization.*\n",
    "\n",
    "2. **n_estimators** (default: **100**)  \n",
    "   *Specifies the number of boosting stages (i.e., the number of trees in the ensemble). More estimators can improve performance but also increase the risk of overfitting if not tuned properly.*\n",
    "\n",
    "3. **max_depth** (default: **3**)  \n",
    "   *Limits the depth of the individual regression trees. Restricting the depth helps control overfitting and reduces the complexity of each base learner.*\n",
    "\n",
    "4. **max_features** (default: **None**)  \n",
    "   *Controls the number of features to consider when looking for the best split. Adjusting this can influence the bias-variance trade-off of the model.*\n",
    "   \n",
    "---\n",
    "\n",
    "**Less Important Parameters**\n",
    "\n",
    "5. **min_samples_split** (default: **2**)  \n",
    "   *Defines the minimum number of samples required to split an internal node. This parameter controls the growth of each tree and can prevent overly specific splits.*\n",
    "\n",
    "6. **min_samples_leaf** (default: **1**)  \n",
    "   *Specifies the minimum number of samples that must be present in a leaf node. This helps in ensuring that trees do not become too tailored to the training data.*\n",
    "\n",
    "7. **max_leaf_nodes** (default: **None**)  \n",
    "    *An optional parameter that sets a maximum number of leaf nodes for each tree. This can provide an additional way to control the complexity of the model.*\n",
    "\n",
    "8. **subsample** (default: **1.0**)  \n",
    "   *Determines the fraction of samples used for fitting each individual tree. Values less than 1.0 introduce randomness into the boosting process, which can help reduce overfitting.*\n",
    "\n",
    "9. **loss** (default: **'squared_error'**)  \n",
    "   *Determines the loss function to be optimized during training. Different loss functions can be used depending on the specific characteristics of the regression problem.*\n",
    "\n",
    "\n",
    "\n"
   ]
  },
  {
   "cell_type": "markdown",
   "metadata": {},
   "source": [
    "## Appendix 4: Tips on Tuning Complicated Models\n",
    "\n",
    "### Using `sweep_parameters` for Single-Parameter Exploration\n",
    "\n",
    "1. **Purpose**  \n",
    "   - The function `sweep_parameters` automates the process of iterating over a list of parameter values (e.g., `n_estimators` in a random forest) and training a model for each value.\n",
    "   - It then computes and plots, for each value in the specified range:\n",
    "     - **Training MSE**: How well the model fits the training data.  \n",
    "     - **Cross-Validation (CV) MSE**: An estimate of how well the model generalizes, averaged over multiple folds (and possibly multiple repeats).  \n",
    "     - **Test MSE**: If you have a dedicated test set, this provides a final check of out-of-sample performance.  \n",
    "     - **Std of CV Scores**: The standard deviation across cross-validation folds (and repeats), indicating how stable or variable the model performance is.\n",
    "\n",
    "2. **Interpretation of the Plots**  \n",
    "   - **Training MSE vs. Parameter Value**:  \n",
    "     Helps you see when the model is overfitting (training MSE much lower than CV MSE) or underfitting (training MSE is high).\n",
    "   - **CV MSE vs. Parameter Value**:  \n",
    "     Typically your key metric for choosing the parameter setting. Look for a valley in this curve.\n",
    "   - **Test MSE vs. Parameter Value**:  \n",
    "     The precise values here are dependent on the random split of training and testing sets; we include it so that we may examine the **gap** between CV MSE and test MSE (see Appendix 5). \n",
    "   - **Std of CV Scores vs. Parameter Value**:  \n",
    "     Large standard deviation means the model’s performance is inconsistent across folds (and repeats). You may want to pick a parameter setting that not only has a low mean CV MSE but also a lower standard deviation for more reliable performance.\n",
    "   - **Beware of the Scale of the Plots!**\n",
    "     The plots are drawn to fit the values, and the scale of the y-axis may vary quite a lot!  Therefore, you can not just \"eyeball\" a curve and make quick decisions that, say, the std of the CV score indicates something important. **It depends on the scale of the y-axis.**  If the curve(s) are relatively flat, the differences shown may in reality be quite small!  Just be careful to observe both the shape and the scale of the plots. \n",
    "3. **Sweeping Strategy**  \n",
    "   - **Coarse to Fine**: Start with wide ranges and larger steps (e.g., 100–1000 in increments of 100). Narrow down once you see the region where the CV MSE is lowest. Then reduce step sizes in that region (e.g., steps of 25 or 10).\n",
    "   - **Stop Early if Converged**: If the CV MSE difference between 1400 and 1405 `n_estimators` is negligible, further fine-tuning is unlikely to yield real improvement.\n",
    "\n",
    "**Note:** We will not be using early stopping in this homework, because we are still learning how to interpret model performance, but with further experience, you may find that early stopping will help you zero in on the best models. \n",
    "\n",
    "---\n",
    "\n",
    "### Adjusting Repeated Cross-Validation\n",
    "\n",
    "1. **Why Repeat?**  \n",
    "   - Cross-validation is already a good measure of generalization. However, it’s still sensitive to how the data is split into folds. Repeating cross-validation with different random folds provides a more robust estimate (reducing the variance of the CV score).\n",
    "\n",
    "2. **When to Increase Repeats**  \n",
    "   - **Early Sweeps**: Use 1 or 2 repeats when you are scanning large ranges of your parameter. The goal is speed and a rough idea of where the “sweet spot” is, so you don’t want to spend too much computation time on many repeats.\n",
    "   - **Narrowed Sweeps**: Once you have focused on a smaller interval (e.g., 1300–1500 in increments of 25 for `n_estimators`), increase repeats to 5 (ok) or 10 (ideal). This gives you a more stable estimate and helps confirm the final optimal setting with greater confidence.\n",
    "\n",
    "3. **Trade-Offs**  \n",
    "   - **Computation**: Each extra repeat multiplies the total training time. If you have limited computational resources, keep the repeats modest until you are zeroing in on a smaller range.\n",
    "   - **Stability**: More repeats lower the variance of your CV estimate. If you see widely fluctuating performance across folds, use more repeats to gauge if it’s truly unstable or just a byproduct of the data splits.\n",
    "\n",
    "---\n",
    "\n",
    "### Tips for a Smooth Workflow\n",
    "\n",
    "1. **Plot and Observe**  \n",
    "   Always visualize the training/CV/test MSE vs. parameter and the CV std plots. Look for patterns of overfitting or underfitting, and watch the standard deviation for instability.\n",
    "\n",
    "2. **Document Iterations using Parameter Dictionaries**  \n",
    "   In the video notebook for Week 7 on Gradient Boosting, we stored the parameter dictionaries in a list; you may wish to do something similar, or find some other way of recording your results. \n",
    "\n",
    "3. **Scale Up Gradually**  \n",
    "   Start simply (fewer repeats, coarse parameter steps), refine as you learn more, and only then use heavier computations (more repeats, fine steps).\n",
    "\n",
    "4. **Use `GridSearchCV` Judiciously**  \n",
    "   Grid and random search are powerful tools, but can lead to hours of computation--and without a progress bar to tell you how far you've gotten! Use these tools to refine and verify your search after you understand the search space through plotting and visualization. The same \"scale up gradually\" approach should be used here as well. \n",
    "\n",
    "5. **Take Advantage of Parallelism with `n_jobs=-1`**  \n",
    "   Many scikit-learn functions, such as cross-validation and grid search routines, allow you to specify the `n_jobs` parameter. We have set the default at `n_jobs=-1` to use all available CPU cores to speed up processing.  \n",
    "   - **If You See Warnings**: Sometimes, you may get a message like “A worker stopped while some jobs were still running.” This can happen if your system is running out of memory or hitting other resource limits. Mostly you can ignore these.  But if you are concerned, reduce the number of jobs (e.g., `n_jobs=4`) to reduce the load.  You can also track the system load using the Activity Monitor (on Mac) or Task Manager (on PC). \n",
    "   - **Utilize a Robust Environment**: If you need more parallel processing power, consider using a computing environment such as Google Colab, which offers additional CPU cores to handle more intensive jobs efficiently.\n",
    "\n",
    "By combining the coarse-to-fine parameter sweeping with increasing repeats as you zero in on the most promising configurations, you balance computational efficiency with the need for robust, stable model performance estimates."
   ]
  },
  {
   "cell_type": "markdown",
   "metadata": {},
   "source": [
    "## Appendix 5:  Model Selection:  When is a model overfitting? Which model to choose?\n",
    "\n",
    "- **Minimize Mean CV MSE:** Aim for the model configuration with the lowest mean CV MSE as a primary indicator of good generalization.\n",
    "- **Stable CV Performance:** Choose a model where the CV MSE either\n",
    "  - Reaches a minimum and then starts to increase, or\n",
    "  - Plateaus—indicating additional improvements are marginal—rather than a continuously decreasing trend that may signal overfitting.\n",
    "- **Gap Analysis:** Watch out for an *increasing gap* between the mean CV MSE and testing MSE. A growing gap can be a sign of overfitting to the training data. Do not worry about the *size* of the gap, which will primarily be due to the random split between training and testing sets; it is the *change* in the gap between the two that is most significant. \n",
    "- **CV Score Consistency:** Favor models with a lower standard deviation in CV scores, as this reflects more consistent performance across different data splits.\n",
    "- **Be Aware of the Scale:** You need to look not only at the shape of the curves, but the scale of the y-axis, particularly with the std of the CV scores.  Beware of assuming that there is a significant difference unless you take account of the actual values!  "
   ]
  }
 ],
 "metadata": {
  "kernelspec": {
   "display_name": ".venv",
   "language": "python",
   "name": "python3"
  },
  "language_info": {
   "codemirror_mode": {
    "name": "ipython",
    "version": 3
   },
   "file_extension": ".py",
   "mimetype": "text/x-python",
   "name": "python",
   "nbconvert_exporter": "python",
   "pygments_lexer": "ipython3",
   "version": "3.11.9"
  }
 },
 "nbformat": 4,
 "nbformat_minor": 4
}
